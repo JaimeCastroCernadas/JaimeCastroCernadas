{
 "cells": [
  {
   "cell_type": "code",
   "execution_count": 1,
   "id": "085930d6",
   "metadata": {},
   "outputs": [],
   "source": [
    "!pip install -q pyspark"
   ]
  },
  {
   "cell_type": "code",
   "execution_count": 2,
   "id": "4f5a0526",
   "metadata": {},
   "outputs": [
    {
     "name": "stderr",
     "output_type": "stream",
     "text": [
      "24/11/21 17:03:00 WARN Utils: Your hostname, MacBook-Pro-de-Jaime.local resolves to a loopback address: 127.0.0.1; using 10.170.18.13 instead (on interface en0)\n",
      "24/11/21 17:03:00 WARN Utils: Set SPARK_LOCAL_IP if you need to bind to another address\n",
      "Setting default log level to \"WARN\".\n",
      "To adjust logging level use sc.setLogLevel(newLevel). For SparkR, use setLogLevel(newLevel).\n",
      "24/11/21 17:03:01 WARN NativeCodeLoader: Unable to load native-hadoop library for your platform... using builtin-java classes where applicable\n"
     ]
    }
   ],
   "source": [
    "from pyspark.sql import SparkSession\n",
    "name= \"Insurance_Challenge\"\n",
    "\n",
    "spark= SparkSession.builder.appName(name).master(\"local[*]\").getOrCreate()"
   ]
  },
  {
   "cell_type": "code",
   "execution_count": 3,
   "id": "557d7ed3",
   "metadata": {},
   "outputs": [
    {
     "data": {
      "text/html": [
       "\n",
       "            <div>\n",
       "                <p><b>SparkSession - in-memory</b></p>\n",
       "                \n",
       "        <div>\n",
       "            <p><b>SparkContext</b></p>\n",
       "\n",
       "            <p><a href=\"http://10.170.18.13:4040\">Spark UI</a></p>\n",
       "\n",
       "            <dl>\n",
       "              <dt>Version</dt>\n",
       "                <dd><code>v3.5.3</code></dd>\n",
       "              <dt>Master</dt>\n",
       "                <dd><code>local[*]</code></dd>\n",
       "              <dt>AppName</dt>\n",
       "                <dd><code>Insurance_Challenge</code></dd>\n",
       "            </dl>\n",
       "        </div>\n",
       "        \n",
       "            </div>\n",
       "        "
      ],
      "text/plain": [
       "<pyspark.sql.session.SparkSession at 0x10c662b10>"
      ]
     },
     "execution_count": 3,
     "metadata": {},
     "output_type": "execute_result"
    }
   ],
   "source": [
    "spark"
   ]
  },
  {
   "cell_type": "code",
   "execution_count": 6,
   "id": "41a467e2",
   "metadata": {},
   "outputs": [
    {
     "name": "stderr",
     "output_type": "stream",
     "text": [
      "                                                                                \r"
     ]
    }
   ],
   "source": [
    "train=\"/Users/jaimecastro/Desktop/master/BIG_DATA/kaggle challenge insurance/train.csv\"\n",
    "test= \"/Users/jaimecastro/Desktop/master/BIG_DATA/kaggle challenge insurance/test.csv\"\n",
    "\n",
    "train_data= spark.read.format(\"csv\")\\\n",
    "                                .options(header=True, inferschema=True, delimiter=\",\") \\\n",
    "                                .load(train)\n",
    "\n",
    "test_data= spark.read.format(\"csv\")\\\n",
    "                                .options(header=True, inferschema=True, delimiter=\",\") \\\n",
    "                                .load(test)"
   ]
  },
  {
   "cell_type": "markdown",
   "id": "6fe76837",
   "metadata": {},
   "source": [
    "# Train data "
   ]
  },
  {
   "cell_type": "code",
   "execution_count": 5,
   "id": "b986547e",
   "metadata": {},
   "outputs": [
    {
     "name": "stderr",
     "output_type": "stream",
     "text": [
      "24/11/21 15:45:40 WARN SparkStringUtils: Truncated the string representation of a plan since it was too large. This behavior can be adjusted by setting 'spark.sql.debug.maxToStringFields'.\n",
      "                                                                                \r"
     ]
    },
    {
     "data": {
      "text/html": [
       "<div>\n",
       "<style scoped>\n",
       "    .dataframe tbody tr th:only-of-type {\n",
       "        vertical-align: middle;\n",
       "    }\n",
       "\n",
       "    .dataframe tbody tr th {\n",
       "        vertical-align: top;\n",
       "    }\n",
       "\n",
       "    .dataframe thead th {\n",
       "        text-align: right;\n",
       "    }\n",
       "</style>\n",
       "<table border=\"1\" class=\"dataframe\">\n",
       "  <thead>\n",
       "    <tr style=\"text-align: right;\">\n",
       "      <th></th>\n",
       "      <th>id</th>\n",
       "      <th>cat_0</th>\n",
       "      <th>cat_1</th>\n",
       "      <th>cat_2</th>\n",
       "      <th>cat_3</th>\n",
       "      <th>cat_4</th>\n",
       "      <th>cat_5</th>\n",
       "      <th>cat_6</th>\n",
       "      <th>cat_7</th>\n",
       "      <th>cat_8</th>\n",
       "      <th>...</th>\n",
       "      <th>cont_2</th>\n",
       "      <th>cont_3</th>\n",
       "      <th>cont_4</th>\n",
       "      <th>cont_5</th>\n",
       "      <th>cont_6</th>\n",
       "      <th>cont_7</th>\n",
       "      <th>cont_8</th>\n",
       "      <th>cont_9</th>\n",
       "      <th>cont_10</th>\n",
       "      <th>target</th>\n",
       "    </tr>\n",
       "  </thead>\n",
       "  <tbody>\n",
       "    <tr>\n",
       "      <th>0</th>\n",
       "      <td>0</td>\n",
       "      <td>A</td>\n",
       "      <td>I</td>\n",
       "      <td>A</td>\n",
       "      <td>B</td>\n",
       "      <td>B</td>\n",
       "      <td>BI</td>\n",
       "      <td>A</td>\n",
       "      <td>S</td>\n",
       "      <td>Q</td>\n",
       "      <td>...</td>\n",
       "      <td>0.759439</td>\n",
       "      <td>0.795549</td>\n",
       "      <td>0.681917</td>\n",
       "      <td>0.621672</td>\n",
       "      <td>0.592184</td>\n",
       "      <td>0.791921</td>\n",
       "      <td>0.815254</td>\n",
       "      <td>0.965006</td>\n",
       "      <td>0.665915</td>\n",
       "      <td>1</td>\n",
       "    </tr>\n",
       "    <tr>\n",
       "      <th>1</th>\n",
       "      <td>1</td>\n",
       "      <td>A</td>\n",
       "      <td>I</td>\n",
       "      <td>A</td>\n",
       "      <td>A</td>\n",
       "      <td>E</td>\n",
       "      <td>BI</td>\n",
       "      <td>K</td>\n",
       "      <td>W</td>\n",
       "      <td>AD</td>\n",
       "      <td>...</td>\n",
       "      <td>0.386385</td>\n",
       "      <td>0.541366</td>\n",
       "      <td>0.388982</td>\n",
       "      <td>0.357778</td>\n",
       "      <td>0.600044</td>\n",
       "      <td>0.408701</td>\n",
       "      <td>0.399353</td>\n",
       "      <td>0.927406</td>\n",
       "      <td>0.493729</td>\n",
       "      <td>0</td>\n",
       "    </tr>\n",
       "    <tr>\n",
       "      <th>2</th>\n",
       "      <td>2</td>\n",
       "      <td>A</td>\n",
       "      <td>K</td>\n",
       "      <td>A</td>\n",
       "      <td>A</td>\n",
       "      <td>E</td>\n",
       "      <td>BI</td>\n",
       "      <td>A</td>\n",
       "      <td>E</td>\n",
       "      <td>BM</td>\n",
       "      <td>...</td>\n",
       "      <td>0.343255</td>\n",
       "      <td>0.616352</td>\n",
       "      <td>0.793687</td>\n",
       "      <td>0.552877</td>\n",
       "      <td>0.352113</td>\n",
       "      <td>0.388835</td>\n",
       "      <td>0.412303</td>\n",
       "      <td>0.292696</td>\n",
       "      <td>0.549452</td>\n",
       "      <td>1</td>\n",
       "    </tr>\n",
       "    <tr>\n",
       "      <th>3</th>\n",
       "      <td>4</td>\n",
       "      <td>A</td>\n",
       "      <td>I</td>\n",
       "      <td>G</td>\n",
       "      <td>B</td>\n",
       "      <td>E</td>\n",
       "      <td>BI</td>\n",
       "      <td>C</td>\n",
       "      <td>G</td>\n",
       "      <td>Q</td>\n",
       "      <td>...</td>\n",
       "      <td>0.338818</td>\n",
       "      <td>0.277308</td>\n",
       "      <td>0.610578</td>\n",
       "      <td>0.128291</td>\n",
       "      <td>0.578764</td>\n",
       "      <td>0.279167</td>\n",
       "      <td>0.351103</td>\n",
       "      <td>0.357084</td>\n",
       "      <td>0.328960</td>\n",
       "      <td>0</td>\n",
       "    </tr>\n",
       "    <tr>\n",
       "      <th>4</th>\n",
       "      <td>5</td>\n",
       "      <td>A</td>\n",
       "      <td>F</td>\n",
       "      <td>A</td>\n",
       "      <td>A</td>\n",
       "      <td>F</td>\n",
       "      <td>BI</td>\n",
       "      <td>A</td>\n",
       "      <td>AH</td>\n",
       "      <td>AX</td>\n",
       "      <td>...</td>\n",
       "      <td>0.578366</td>\n",
       "      <td>0.723154</td>\n",
       "      <td>0.228037</td>\n",
       "      <td>0.356227</td>\n",
       "      <td>0.551249</td>\n",
       "      <td>0.655693</td>\n",
       "      <td>0.598331</td>\n",
       "      <td>0.359987</td>\n",
       "      <td>0.947489</td>\n",
       "      <td>0</td>\n",
       "    </tr>\n",
       "  </tbody>\n",
       "</table>\n",
       "<p>5 rows × 32 columns</p>\n",
       "</div>"
      ],
      "text/plain": [
       "   id cat_0 cat_1 cat_2 cat_3 cat_4 cat_5 cat_6 cat_7 cat_8  ...    cont_2  \\\n",
       "0   0     A     I     A     B     B    BI     A     S     Q  ...  0.759439   \n",
       "1   1     A     I     A     A     E    BI     K     W    AD  ...  0.386385   \n",
       "2   2     A     K     A     A     E    BI     A     E    BM  ...  0.343255   \n",
       "3   4     A     I     G     B     E    BI     C     G     Q  ...  0.338818   \n",
       "4   5     A     F     A     A     F    BI     A    AH    AX  ...  0.578366   \n",
       "\n",
       "     cont_3    cont_4    cont_5    cont_6    cont_7    cont_8    cont_9  \\\n",
       "0  0.795549  0.681917  0.621672  0.592184  0.791921  0.815254  0.965006   \n",
       "1  0.541366  0.388982  0.357778  0.600044  0.408701  0.399353  0.927406   \n",
       "2  0.616352  0.793687  0.552877  0.352113  0.388835  0.412303  0.292696   \n",
       "3  0.277308  0.610578  0.128291  0.578764  0.279167  0.351103  0.357084   \n",
       "4  0.723154  0.228037  0.356227  0.551249  0.655693  0.598331  0.359987   \n",
       "\n",
       "    cont_10 target  \n",
       "0  0.665915      1  \n",
       "1  0.493729      0  \n",
       "2  0.549452      1  \n",
       "3  0.328960      0  \n",
       "4  0.947489      0  \n",
       "\n",
       "[5 rows x 32 columns]"
      ]
     },
     "execution_count": 5,
     "metadata": {},
     "output_type": "execute_result"
    }
   ],
   "source": [
    "train_data.toPandas().head()"
   ]
  },
  {
   "cell_type": "code",
   "execution_count": 6,
   "id": "1dbdbfa7",
   "metadata": {},
   "outputs": [
    {
     "name": "stdout",
     "output_type": "stream",
     "text": [
      "root\n",
      " |-- id: integer (nullable = true)\n",
      " |-- cat_0: string (nullable = true)\n",
      " |-- cat_1: string (nullable = true)\n",
      " |-- cat_2: string (nullable = true)\n",
      " |-- cat_3: string (nullable = true)\n",
      " |-- cat_4: string (nullable = true)\n",
      " |-- cat_5: string (nullable = true)\n",
      " |-- cat_6: string (nullable = true)\n",
      " |-- cat_7: string (nullable = true)\n",
      " |-- cat_8: string (nullable = true)\n",
      " |-- cat_9: string (nullable = true)\n",
      " |-- cat_10: string (nullable = true)\n",
      " |-- cat_11: string (nullable = true)\n",
      " |-- cat_12: string (nullable = true)\n",
      " |-- cat_13: string (nullable = true)\n",
      " |-- cat_14: string (nullable = true)\n",
      " |-- cat_15: string (nullable = true)\n",
      " |-- cat_16: string (nullable = true)\n",
      " |-- cat_17: string (nullable = true)\n",
      " |-- cat_18: string (nullable = true)\n",
      " |-- cont_0: double (nullable = true)\n",
      " |-- cont_1: double (nullable = true)\n",
      " |-- cont_2: double (nullable = true)\n",
      " |-- cont_3: double (nullable = true)\n",
      " |-- cont_4: double (nullable = true)\n",
      " |-- cont_5: double (nullable = true)\n",
      " |-- cont_6: double (nullable = true)\n",
      " |-- cont_7: double (nullable = true)\n",
      " |-- cont_8: double (nullable = true)\n",
      " |-- cont_9: double (nullable = true)\n",
      " |-- cont_10: double (nullable = true)\n",
      " |-- target: integer (nullable = true)\n",
      "\n"
     ]
    }
   ],
   "source": [
    "train_data.printSchema()"
   ]
  },
  {
   "cell_type": "code",
   "execution_count": 7,
   "id": "a676e335",
   "metadata": {},
   "outputs": [
    {
     "name": "stderr",
     "output_type": "stream",
     "text": [
      "                                                                                \r"
     ]
    },
    {
     "data": {
      "text/html": [
       "<div>\n",
       "<style scoped>\n",
       "    .dataframe tbody tr th:only-of-type {\n",
       "        vertical-align: middle;\n",
       "    }\n",
       "\n",
       "    .dataframe tbody tr th {\n",
       "        vertical-align: top;\n",
       "    }\n",
       "\n",
       "    .dataframe thead th {\n",
       "        text-align: right;\n",
       "    }\n",
       "</style>\n",
       "<table border=\"1\" class=\"dataframe\">\n",
       "  <thead>\n",
       "    <tr style=\"text-align: right;\">\n",
       "      <th></th>\n",
       "      <th>id</th>\n",
       "      <th>cont_0</th>\n",
       "      <th>cont_1</th>\n",
       "      <th>cont_2</th>\n",
       "      <th>cont_3</th>\n",
       "      <th>cont_4</th>\n",
       "      <th>cont_5</th>\n",
       "      <th>cont_6</th>\n",
       "      <th>cont_7</th>\n",
       "      <th>cont_8</th>\n",
       "      <th>cont_9</th>\n",
       "      <th>cont_10</th>\n",
       "      <th>target</th>\n",
       "    </tr>\n",
       "  </thead>\n",
       "  <tbody>\n",
       "    <tr>\n",
       "      <th>count</th>\n",
       "      <td>300000.000000</td>\n",
       "      <td>300000.000000</td>\n",
       "      <td>300000.000000</td>\n",
       "      <td>300000.000000</td>\n",
       "      <td>300000.000000</td>\n",
       "      <td>300000.000000</td>\n",
       "      <td>300000.000000</td>\n",
       "      <td>300000.000000</td>\n",
       "      <td>300000.000000</td>\n",
       "      <td>300000.000000</td>\n",
       "      <td>300000.000000</td>\n",
       "      <td>300000.000000</td>\n",
       "      <td>300000.000000</td>\n",
       "    </tr>\n",
       "    <tr>\n",
       "      <th>mean</th>\n",
       "      <td>250200.972163</td>\n",
       "      <td>0.504668</td>\n",
       "      <td>0.494298</td>\n",
       "      <td>0.516665</td>\n",
       "      <td>0.474419</td>\n",
       "      <td>0.504471</td>\n",
       "      <td>0.501874</td>\n",
       "      <td>0.488338</td>\n",
       "      <td>0.502006</td>\n",
       "      <td>0.488016</td>\n",
       "      <td>0.469211</td>\n",
       "      <td>0.508217</td>\n",
       "      <td>0.180000</td>\n",
       "    </tr>\n",
       "    <tr>\n",
       "      <th>std</th>\n",
       "      <td>144219.833353</td>\n",
       "      <td>0.206847</td>\n",
       "      <td>0.213004</td>\n",
       "      <td>0.214929</td>\n",
       "      <td>0.216613</td>\n",
       "      <td>0.227354</td>\n",
       "      <td>0.241249</td>\n",
       "      <td>0.211374</td>\n",
       "      <td>0.203526</td>\n",
       "      <td>0.178824</td>\n",
       "      <td>0.194507</td>\n",
       "      <td>0.203393</td>\n",
       "      <td>0.384188</td>\n",
       "    </tr>\n",
       "    <tr>\n",
       "      <th>min</th>\n",
       "      <td>0.000000</td>\n",
       "      <td>-0.049562</td>\n",
       "      <td>0.088998</td>\n",
       "      <td>0.098591</td>\n",
       "      <td>-0.045316</td>\n",
       "      <td>0.168071</td>\n",
       "      <td>-0.036379</td>\n",
       "      <td>-0.005648</td>\n",
       "      <td>0.090901</td>\n",
       "      <td>0.013554</td>\n",
       "      <td>0.215540</td>\n",
       "      <td>0.097789</td>\n",
       "      <td>0.000000</td>\n",
       "    </tr>\n",
       "    <tr>\n",
       "      <th>25%</th>\n",
       "      <td>125358.750000</td>\n",
       "      <td>0.344650</td>\n",
       "      <td>0.317643</td>\n",
       "      <td>0.325857</td>\n",
       "      <td>0.292342</td>\n",
       "      <td>0.279254</td>\n",
       "      <td>0.276052</td>\n",
       "      <td>0.323747</td>\n",
       "      <td>0.353090</td>\n",
       "      <td>0.358912</td>\n",
       "      <td>0.309861</td>\n",
       "      <td>0.368361</td>\n",
       "      <td>0.000000</td>\n",
       "    </tr>\n",
       "    <tr>\n",
       "      <th>50%</th>\n",
       "      <td>250428.000000</td>\n",
       "      <td>0.479535</td>\n",
       "      <td>0.463514</td>\n",
       "      <td>0.471348</td>\n",
       "      <td>0.388602</td>\n",
       "      <td>0.478935</td>\n",
       "      <td>0.554750</td>\n",
       "      <td>0.518136</td>\n",
       "      <td>0.435455</td>\n",
       "      <td>0.410860</td>\n",
       "      <td>0.406286</td>\n",
       "      <td>0.446297</td>\n",
       "      <td>0.000000</td>\n",
       "    </tr>\n",
       "    <tr>\n",
       "      <th>75%</th>\n",
       "      <td>375208.500000</td>\n",
       "      <td>0.637575</td>\n",
       "      <td>0.694153</td>\n",
       "      <td>0.704864</td>\n",
       "      <td>0.645064</td>\n",
       "      <td>0.725430</td>\n",
       "      <td>0.735184</td>\n",
       "      <td>0.608938</td>\n",
       "      <td>0.642915</td>\n",
       "      <td>0.612380</td>\n",
       "      <td>0.586620</td>\n",
       "      <td>0.582064</td>\n",
       "      <td>0.000000</td>\n",
       "    </tr>\n",
       "    <tr>\n",
       "      <th>max</th>\n",
       "      <td>499999.000000</td>\n",
       "      <td>0.999590</td>\n",
       "      <td>1.011597</td>\n",
       "      <td>1.016600</td>\n",
       "      <td>0.965609</td>\n",
       "      <td>0.860253</td>\n",
       "      <td>0.853022</td>\n",
       "      <td>0.966553</td>\n",
       "      <td>1.035818</td>\n",
       "      <td>1.054257</td>\n",
       "      <td>1.007189</td>\n",
       "      <td>1.008060</td>\n",
       "      <td>1.000000</td>\n",
       "    </tr>\n",
       "  </tbody>\n",
       "</table>\n",
       "</div>"
      ],
      "text/plain": [
       "                  id         cont_0         cont_1         cont_2  \\\n",
       "count  300000.000000  300000.000000  300000.000000  300000.000000   \n",
       "mean   250200.972163       0.504668       0.494298       0.516665   \n",
       "std    144219.833353       0.206847       0.213004       0.214929   \n",
       "min         0.000000      -0.049562       0.088998       0.098591   \n",
       "25%    125358.750000       0.344650       0.317643       0.325857   \n",
       "50%    250428.000000       0.479535       0.463514       0.471348   \n",
       "75%    375208.500000       0.637575       0.694153       0.704864   \n",
       "max    499999.000000       0.999590       1.011597       1.016600   \n",
       "\n",
       "              cont_3         cont_4         cont_5         cont_6  \\\n",
       "count  300000.000000  300000.000000  300000.000000  300000.000000   \n",
       "mean        0.474419       0.504471       0.501874       0.488338   \n",
       "std         0.216613       0.227354       0.241249       0.211374   \n",
       "min        -0.045316       0.168071      -0.036379      -0.005648   \n",
       "25%         0.292342       0.279254       0.276052       0.323747   \n",
       "50%         0.388602       0.478935       0.554750       0.518136   \n",
       "75%         0.645064       0.725430       0.735184       0.608938   \n",
       "max         0.965609       0.860253       0.853022       0.966553   \n",
       "\n",
       "              cont_7         cont_8         cont_9        cont_10  \\\n",
       "count  300000.000000  300000.000000  300000.000000  300000.000000   \n",
       "mean        0.502006       0.488016       0.469211       0.508217   \n",
       "std         0.203526       0.178824       0.194507       0.203393   \n",
       "min         0.090901       0.013554       0.215540       0.097789   \n",
       "25%         0.353090       0.358912       0.309861       0.368361   \n",
       "50%         0.435455       0.410860       0.406286       0.446297   \n",
       "75%         0.642915       0.612380       0.586620       0.582064   \n",
       "max         1.035818       1.054257       1.007189       1.008060   \n",
       "\n",
       "              target  \n",
       "count  300000.000000  \n",
       "mean        0.180000  \n",
       "std         0.384188  \n",
       "min         0.000000  \n",
       "25%         0.000000  \n",
       "50%         0.000000  \n",
       "75%         0.000000  \n",
       "max         1.000000  "
      ]
     },
     "execution_count": 7,
     "metadata": {},
     "output_type": "execute_result"
    }
   ],
   "source": [
    "train_data.toPandas().describe()"
   ]
  },
  {
   "cell_type": "markdown",
   "id": "f21bebd0",
   "metadata": {},
   "source": [
    "# Test data"
   ]
  },
  {
   "cell_type": "code",
   "execution_count": 7,
   "id": "0376e087",
   "metadata": {},
   "outputs": [
    {
     "name": "stdout",
     "output_type": "stream",
     "text": [
      "root\n",
      " |-- id: integer (nullable = true)\n",
      " |-- cat_0: string (nullable = true)\n",
      " |-- cat_1: string (nullable = true)\n",
      " |-- cat_2: string (nullable = true)\n",
      " |-- cat_3: string (nullable = true)\n",
      " |-- cat_4: string (nullable = true)\n",
      " |-- cat_5: string (nullable = true)\n",
      " |-- cat_6: string (nullable = true)\n",
      " |-- cat_7: string (nullable = true)\n",
      " |-- cat_8: string (nullable = true)\n",
      " |-- cat_9: string (nullable = true)\n",
      " |-- cat_10: string (nullable = true)\n",
      " |-- cat_11: string (nullable = true)\n",
      " |-- cat_12: string (nullable = true)\n",
      " |-- cat_13: string (nullable = true)\n",
      " |-- cat_14: string (nullable = true)\n",
      " |-- cat_15: string (nullable = true)\n",
      " |-- cat_16: string (nullable = true)\n",
      " |-- cat_17: string (nullable = true)\n",
      " |-- cat_18: string (nullable = true)\n",
      " |-- cont_0: double (nullable = true)\n",
      " |-- cont_1: double (nullable = true)\n",
      " |-- cont_2: double (nullable = true)\n",
      " |-- cont_3: double (nullable = true)\n",
      " |-- cont_4: double (nullable = true)\n",
      " |-- cont_5: double (nullable = true)\n",
      " |-- cont_6: double (nullable = true)\n",
      " |-- cont_7: double (nullable = true)\n",
      " |-- cont_8: double (nullable = true)\n",
      " |-- cont_9: double (nullable = true)\n",
      " |-- cont_10: double (nullable = true)\n",
      "\n"
     ]
    }
   ],
   "source": [
    "test_data.printSchema()"
   ]
  },
  {
   "cell_type": "code",
   "execution_count": 9,
   "id": "6e088ecc",
   "metadata": {},
   "outputs": [
    {
     "name": "stderr",
     "output_type": "stream",
     "text": [
      "                                                                                \r"
     ]
    },
    {
     "data": {
      "text/html": [
       "<div>\n",
       "<style scoped>\n",
       "    .dataframe tbody tr th:only-of-type {\n",
       "        vertical-align: middle;\n",
       "    }\n",
       "\n",
       "    .dataframe tbody tr th {\n",
       "        vertical-align: top;\n",
       "    }\n",
       "\n",
       "    .dataframe thead th {\n",
       "        text-align: right;\n",
       "    }\n",
       "</style>\n",
       "<table border=\"1\" class=\"dataframe\">\n",
       "  <thead>\n",
       "    <tr style=\"text-align: right;\">\n",
       "      <th></th>\n",
       "      <th>id</th>\n",
       "      <th>cont_0</th>\n",
       "      <th>cont_1</th>\n",
       "      <th>cont_2</th>\n",
       "      <th>cont_3</th>\n",
       "      <th>cont_4</th>\n",
       "      <th>cont_5</th>\n",
       "      <th>cont_6</th>\n",
       "      <th>cont_7</th>\n",
       "      <th>cont_8</th>\n",
       "      <th>cont_9</th>\n",
       "      <th>cont_10</th>\n",
       "      <th>target</th>\n",
       "    </tr>\n",
       "  </thead>\n",
       "  <tbody>\n",
       "    <tr>\n",
       "      <th>count</th>\n",
       "      <td>300000.000000</td>\n",
       "      <td>300000.000000</td>\n",
       "      <td>300000.000000</td>\n",
       "      <td>300000.000000</td>\n",
       "      <td>300000.000000</td>\n",
       "      <td>300000.000000</td>\n",
       "      <td>300000.000000</td>\n",
       "      <td>300000.000000</td>\n",
       "      <td>300000.000000</td>\n",
       "      <td>300000.000000</td>\n",
       "      <td>300000.000000</td>\n",
       "      <td>300000.000000</td>\n",
       "      <td>300000.000000</td>\n",
       "    </tr>\n",
       "    <tr>\n",
       "      <th>mean</th>\n",
       "      <td>250200.972163</td>\n",
       "      <td>0.504668</td>\n",
       "      <td>0.494298</td>\n",
       "      <td>0.516665</td>\n",
       "      <td>0.474419</td>\n",
       "      <td>0.504471</td>\n",
       "      <td>0.501874</td>\n",
       "      <td>0.488338</td>\n",
       "      <td>0.502006</td>\n",
       "      <td>0.488016</td>\n",
       "      <td>0.469211</td>\n",
       "      <td>0.508217</td>\n",
       "      <td>0.180000</td>\n",
       "    </tr>\n",
       "    <tr>\n",
       "      <th>std</th>\n",
       "      <td>144219.833353</td>\n",
       "      <td>0.206847</td>\n",
       "      <td>0.213004</td>\n",
       "      <td>0.214929</td>\n",
       "      <td>0.216613</td>\n",
       "      <td>0.227354</td>\n",
       "      <td>0.241249</td>\n",
       "      <td>0.211374</td>\n",
       "      <td>0.203526</td>\n",
       "      <td>0.178824</td>\n",
       "      <td>0.194507</td>\n",
       "      <td>0.203393</td>\n",
       "      <td>0.384188</td>\n",
       "    </tr>\n",
       "    <tr>\n",
       "      <th>min</th>\n",
       "      <td>0.000000</td>\n",
       "      <td>-0.049562</td>\n",
       "      <td>0.088998</td>\n",
       "      <td>0.098591</td>\n",
       "      <td>-0.045316</td>\n",
       "      <td>0.168071</td>\n",
       "      <td>-0.036379</td>\n",
       "      <td>-0.005648</td>\n",
       "      <td>0.090901</td>\n",
       "      <td>0.013554</td>\n",
       "      <td>0.215540</td>\n",
       "      <td>0.097789</td>\n",
       "      <td>0.000000</td>\n",
       "    </tr>\n",
       "    <tr>\n",
       "      <th>25%</th>\n",
       "      <td>125358.750000</td>\n",
       "      <td>0.344650</td>\n",
       "      <td>0.317643</td>\n",
       "      <td>0.325857</td>\n",
       "      <td>0.292342</td>\n",
       "      <td>0.279254</td>\n",
       "      <td>0.276052</td>\n",
       "      <td>0.323747</td>\n",
       "      <td>0.353090</td>\n",
       "      <td>0.358912</td>\n",
       "      <td>0.309861</td>\n",
       "      <td>0.368361</td>\n",
       "      <td>0.000000</td>\n",
       "    </tr>\n",
       "    <tr>\n",
       "      <th>50%</th>\n",
       "      <td>250428.000000</td>\n",
       "      <td>0.479535</td>\n",
       "      <td>0.463514</td>\n",
       "      <td>0.471348</td>\n",
       "      <td>0.388602</td>\n",
       "      <td>0.478935</td>\n",
       "      <td>0.554750</td>\n",
       "      <td>0.518136</td>\n",
       "      <td>0.435455</td>\n",
       "      <td>0.410860</td>\n",
       "      <td>0.406286</td>\n",
       "      <td>0.446297</td>\n",
       "      <td>0.000000</td>\n",
       "    </tr>\n",
       "    <tr>\n",
       "      <th>75%</th>\n",
       "      <td>375208.500000</td>\n",
       "      <td>0.637575</td>\n",
       "      <td>0.694153</td>\n",
       "      <td>0.704864</td>\n",
       "      <td>0.645064</td>\n",
       "      <td>0.725430</td>\n",
       "      <td>0.735184</td>\n",
       "      <td>0.608938</td>\n",
       "      <td>0.642915</td>\n",
       "      <td>0.612380</td>\n",
       "      <td>0.586620</td>\n",
       "      <td>0.582064</td>\n",
       "      <td>0.000000</td>\n",
       "    </tr>\n",
       "    <tr>\n",
       "      <th>max</th>\n",
       "      <td>499999.000000</td>\n",
       "      <td>0.999590</td>\n",
       "      <td>1.011597</td>\n",
       "      <td>1.016600</td>\n",
       "      <td>0.965609</td>\n",
       "      <td>0.860253</td>\n",
       "      <td>0.853022</td>\n",
       "      <td>0.966553</td>\n",
       "      <td>1.035818</td>\n",
       "      <td>1.054257</td>\n",
       "      <td>1.007189</td>\n",
       "      <td>1.008060</td>\n",
       "      <td>1.000000</td>\n",
       "    </tr>\n",
       "  </tbody>\n",
       "</table>\n",
       "</div>"
      ],
      "text/plain": [
       "                  id         cont_0         cont_1         cont_2  \\\n",
       "count  300000.000000  300000.000000  300000.000000  300000.000000   \n",
       "mean   250200.972163       0.504668       0.494298       0.516665   \n",
       "std    144219.833353       0.206847       0.213004       0.214929   \n",
       "min         0.000000      -0.049562       0.088998       0.098591   \n",
       "25%    125358.750000       0.344650       0.317643       0.325857   \n",
       "50%    250428.000000       0.479535       0.463514       0.471348   \n",
       "75%    375208.500000       0.637575       0.694153       0.704864   \n",
       "max    499999.000000       0.999590       1.011597       1.016600   \n",
       "\n",
       "              cont_3         cont_4         cont_5         cont_6  \\\n",
       "count  300000.000000  300000.000000  300000.000000  300000.000000   \n",
       "mean        0.474419       0.504471       0.501874       0.488338   \n",
       "std         0.216613       0.227354       0.241249       0.211374   \n",
       "min        -0.045316       0.168071      -0.036379      -0.005648   \n",
       "25%         0.292342       0.279254       0.276052       0.323747   \n",
       "50%         0.388602       0.478935       0.554750       0.518136   \n",
       "75%         0.645064       0.725430       0.735184       0.608938   \n",
       "max         0.965609       0.860253       0.853022       0.966553   \n",
       "\n",
       "              cont_7         cont_8         cont_9        cont_10  \\\n",
       "count  300000.000000  300000.000000  300000.000000  300000.000000   \n",
       "mean        0.502006       0.488016       0.469211       0.508217   \n",
       "std         0.203526       0.178824       0.194507       0.203393   \n",
       "min         0.090901       0.013554       0.215540       0.097789   \n",
       "25%         0.353090       0.358912       0.309861       0.368361   \n",
       "50%         0.435455       0.410860       0.406286       0.446297   \n",
       "75%         0.642915       0.612380       0.586620       0.582064   \n",
       "max         1.035818       1.054257       1.007189       1.008060   \n",
       "\n",
       "              target  \n",
       "count  300000.000000  \n",
       "mean        0.180000  \n",
       "std         0.384188  \n",
       "min         0.000000  \n",
       "25%         0.000000  \n",
       "50%         0.000000  \n",
       "75%         0.000000  \n",
       "max         1.000000  "
      ]
     },
     "execution_count": 9,
     "metadata": {},
     "output_type": "execute_result"
    }
   ],
   "source": [
    "test_data.toPandas().describe()"
   ]
  },
  {
   "cell_type": "markdown",
   "id": "c722a8bb",
   "metadata": {},
   "source": [
    "# EDA"
   ]
  },
  {
   "cell_type": "markdown",
   "id": "b0185517",
   "metadata": {},
   "source": [
    "Missing values"
   ]
  },
  {
   "cell_type": "code",
   "execution_count": 10,
   "id": "4e4ca39b",
   "metadata": {},
   "outputs": [
    {
     "name": "stderr",
     "output_type": "stream",
     "text": [
      "[Stage 7:======================>                                    (3 + 5) / 8]\r"
     ]
    },
    {
     "name": "stdout",
     "output_type": "stream",
     "text": [
      "+---+-----+-----+-----+-----+-----+-----+-----+-----+-----+-----+------+------+------+------+------+------+------+------+------+------+------+------+------+------+------+------+------+------+------+-------+------+\n",
      "| id|cat_0|cat_1|cat_2|cat_3|cat_4|cat_5|cat_6|cat_7|cat_8|cat_9|cat_10|cat_11|cat_12|cat_13|cat_14|cat_15|cat_16|cat_17|cat_18|cont_0|cont_1|cont_2|cont_3|cont_4|cont_5|cont_6|cont_7|cont_8|cont_9|cont_10|target|\n",
      "+---+-----+-----+-----+-----+-----+-----+-----+-----+-----+-----+------+------+------+------+------+------+------+------+------+------+------+------+------+------+------+------+------+------+------+-------+------+\n",
      "|  0|    0|    0|    0|    0|    0|    0|    0|    0|    0|    0|     0|     0|     0|     0|     0|     0|     0|     0|     0|     0|     0|     0|     0|     0|     0|     0|     0|     0|     0|      0|     0|\n",
      "+---+-----+-----+-----+-----+-----+-----+-----+-----+-----+-----+------+------+------+------+------+------+------+------+------+------+------+------+------+------+------+------+------+------+------+-------+------+\n",
      "\n"
     ]
    },
    {
     "name": "stderr",
     "output_type": "stream",
     "text": [
      "\r",
      "                                                                                \r"
     ]
    }
   ],
   "source": [
    "from pyspark.sql import functions as F\n",
    "\n",
    "missing_values = train_data.select(\n",
    "        [(F.count(F.when(F.col(c).isNull(), c)) + F.count(F.when(F.isnan(c), c))).alias(c) for c in train_data.columns]\n",
    "    )\n",
    "\n",
    "missing_values.show()\n"
   ]
  },
  {
   "cell_type": "markdown",
   "id": "886681bd",
   "metadata": {},
   "source": [
    "Categorical columns values"
   ]
  },
  {
   "cell_type": "code",
   "execution_count": 11,
   "id": "04b993af",
   "metadata": {},
   "outputs": [
    {
     "name": "stderr",
     "output_type": "stream",
     "text": [
      "                                                                                \r"
     ]
    },
    {
     "name": "stdout",
     "output_type": "stream",
     "text": [
      "Column: id, Unique Values: 300000\n"
     ]
    },
    {
     "name": "stderr",
     "output_type": "stream",
     "text": [
      "\r",
      "[Stage 16:=======>                                                  (1 + 7) / 8]\r",
      "\r",
      "                                                                                \r"
     ]
    },
    {
     "name": "stdout",
     "output_type": "stream",
     "text": [
      "Column: cat_0, Unique Values: 2\n",
      "Column: cat_1, Unique Values: 15\n"
     ]
    },
    {
     "name": "stderr",
     "output_type": "stream",
     "text": [
      "\r",
      "[Stage 28:=======>                                                  (1 + 7) / 8]\r",
      "\r",
      "                                                                                \r"
     ]
    },
    {
     "name": "stdout",
     "output_type": "stream",
     "text": [
      "Column: cat_2, Unique Values: 19\n"
     ]
    },
    {
     "name": "stderr",
     "output_type": "stream",
     "text": [
      "\r",
      "[Stage 34:=======>                                                  (1 + 7) / 8]\r",
      "\r",
      "                                                                                \r"
     ]
    },
    {
     "name": "stdout",
     "output_type": "stream",
     "text": [
      "Column: cat_3, Unique Values: 13\n"
     ]
    },
    {
     "name": "stderr",
     "output_type": "stream",
     "text": [
      "\r",
      "[Stage 40:=======>                                                  (1 + 7) / 8]\r",
      "\r",
      "                                                                                \r"
     ]
    },
    {
     "name": "stdout",
     "output_type": "stream",
     "text": [
      "Column: cat_4, Unique Values: 20\n",
      "Column: cat_5, Unique Values: 84\n",
      "Column: cat_6, Unique Values: 16\n",
      "Column: cat_7, Unique Values: 51\n",
      "Column: cat_8, Unique Values: 61\n",
      "Column: cat_9, Unique Values: 19\n"
     ]
    },
    {
     "name": "stderr",
     "output_type": "stream",
     "text": [
      "\r",
      "[Stage 76:=======>                                                  (1 + 7) / 8]\r",
      "\r",
      "                                                                                \r"
     ]
    },
    {
     "name": "stdout",
     "output_type": "stream",
     "text": [
      "Column: cat_10, Unique Values: 297\n"
     ]
    },
    {
     "name": "stderr",
     "output_type": "stream",
     "text": [
      "\r",
      "[Stage 82:===========================================>              (6 + 2) / 8]\r",
      "\r",
      "                                                                                \r"
     ]
    },
    {
     "name": "stdout",
     "output_type": "stream",
     "text": [
      "Column: cat_11, Unique Values: 2\n",
      "Column: cat_12, Unique Values: 2\n",
      "Column: cat_13, Unique Values: 2\n",
      "Column: cat_14, Unique Values: 2\n",
      "Column: cat_15, Unique Values: 4\n",
      "Column: cat_16, Unique Values: 4\n",
      "Column: cat_17, Unique Values: 4\n",
      "Column: cat_18, Unique Values: 4\n"
     ]
    },
    {
     "name": "stderr",
     "output_type": "stream",
     "text": [
      "                                                                                \r"
     ]
    },
    {
     "name": "stdout",
     "output_type": "stream",
     "text": [
      "Column: cont_0, Unique Values: 299854\n"
     ]
    },
    {
     "name": "stderr",
     "output_type": "stream",
     "text": [
      "                                                                                \r"
     ]
    },
    {
     "name": "stdout",
     "output_type": "stream",
     "text": [
      "Column: cont_1, Unique Values: 299874\n"
     ]
    },
    {
     "name": "stderr",
     "output_type": "stream",
     "text": [
      "                                                                                \r"
     ]
    },
    {
     "name": "stdout",
     "output_type": "stream",
     "text": [
      "Column: cont_2, Unique Values: 299874\n"
     ]
    },
    {
     "name": "stderr",
     "output_type": "stream",
     "text": [
      "                                                                                \r"
     ]
    },
    {
     "name": "stdout",
     "output_type": "stream",
     "text": [
      "Column: cont_3, Unique Values: 299805\n"
     ]
    },
    {
     "name": "stderr",
     "output_type": "stream",
     "text": [
      "                                                                                \r"
     ]
    },
    {
     "name": "stdout",
     "output_type": "stream",
     "text": [
      "Column: cont_4, Unique Values: 299872\n"
     ]
    },
    {
     "name": "stderr",
     "output_type": "stream",
     "text": [
      "                                                                                \r"
     ]
    },
    {
     "name": "stdout",
     "output_type": "stream",
     "text": [
      "Column: cont_5, Unique Values: 299781\n"
     ]
    },
    {
     "name": "stderr",
     "output_type": "stream",
     "text": [
      "                                                                                \r"
     ]
    },
    {
     "name": "stdout",
     "output_type": "stream",
     "text": [
      "Column: cont_6, Unique Values: 299802\n"
     ]
    },
    {
     "name": "stderr",
     "output_type": "stream",
     "text": [
      "                                                                                \r"
     ]
    },
    {
     "name": "stdout",
     "output_type": "stream",
     "text": [
      "Column: cont_7, Unique Values: 299895\n"
     ]
    },
    {
     "name": "stderr",
     "output_type": "stream",
     "text": [
      "                                                                                \r"
     ]
    },
    {
     "name": "stdout",
     "output_type": "stream",
     "text": [
      "Column: cont_8, Unique Values: 299859\n"
     ]
    },
    {
     "name": "stderr",
     "output_type": "stream",
     "text": [
      "                                                                                \r"
     ]
    },
    {
     "name": "stdout",
     "output_type": "stream",
     "text": [
      "Column: cont_9, Unique Values: 299846\n",
      "Column: cont_10, Unique Values: 299817\n",
      "Column: target, Unique Values: 2\n"
     ]
    }
   ],
   "source": [
    "for column in train_data.columns:\n",
    "        distinct_count = train_data.select(column).distinct().count()\n",
    "        print(f\"Column: {column}, Unique Values: {distinct_count}\")"
   ]
  },
  {
   "cell_type": "markdown",
   "id": "af09fb1c",
   "metadata": {},
   "source": [
    "Numeric columns outliers"
   ]
  },
  {
   "cell_type": "code",
   "execution_count": 8,
   "id": "38efff8e",
   "metadata": {},
   "outputs": [
    {
     "name": "stderr",
     "output_type": "stream",
     "text": [
      "                                                                                \r"
     ]
    },
    {
     "data": {
      "image/png": "[encoded data removed]",
      "text/plain": [
       "<Figure size 800x400 with 1 Axes>"
      ]
     },
     "metadata": {},
     "output_type": "display_data"
    },
    {
     "data": {
      "image/png": "[encoded data removed]",
      "text/plain": [
       "<Figure size 800x400 with 1 Axes>"
      ]
     },
     "metadata": {},
     "output_type": "display_data"
    },
    {
     "data": {
      "image/png": "[encoded data removed]",
      "text/plain": [
       "<Figure size 800x400 with 1 Axes>"
      ]
     },
     "metadata": {},
     "output_type": "display_data"
    },
    {
     "data": {
      "image/png": "[encoded data removed]",
      "text/plain": [
       "<Figure size 800x400 with 1 Axes>"
      ]
     },
     "metadata": {},
     "output_type": "display_data"
    },
    {
     "data": {
      "image/png": "[encoded data removed]",
      "text/plain": [
       "<Figure size 800x400 with 1 Axes>"
      ]
     },
     "metadata": {},
     "output_type": "display_data"
    },
    {
     "data": {
      "image/png": "[encoded data removed]",
      "text/plain": [
       "<Figure size 800x400 with 1 Axes>"
      ]
     },
     "metadata": {},
     "output_type": "display_data"
    },
    {
     "data": {
      "image/png": "[encoded data removed]",
      "text/plain": [
       "<Figure size 800x400 with 1 Axes>"
      ]
     },
     "metadata": {},
     "output_type": "display_data"
    },
    {
     "data": {
      "image/png": "[encoded data removed]",
      "text/plain": [
       "<Figure size 800x400 with 1 Axes>"
      ]
     },
     "metadata": {},
     "output_type": "display_data"
    },
    {
     "data": {
      "image/png": "[encoded data removed]",
      "text/plain": [
       "<Figure size 800x400 with 1 Axes>"
      ]
     },
     "metadata": {},
     "output_type": "display_data"
    },
    {
     "data": {
      "image/png": "[encoded data removed]",
      "text/plain": [
       "<Figure size 800x400 with 1 Axes>"
      ]
     },
     "metadata": {},
     "output_type": "display_data"
    },
    {
     "data": {
      "image/png": "[encoded data removed]",
      "text/plain": [
       "<Figure size 800x400 with 1 Axes>"
      ]
     },
     "metadata": {},
     "output_type": "display_data"
    }
   ],
   "source": [
    "import matplotlib.pyplot as plt\n",
    "\n",
    "#Split the dataset columns based on their datatype for the preprocessing. I use a for loop that iterates over the\n",
    "#columns in train_data.dtypes, and separates them into string or double. I skip the target(int)\n",
    "categorical_columns=[]\n",
    "continuous_columns=[]\n",
    "\n",
    "for col, dtype in train_data.dtypes:\n",
    "    if dtype==\"string\":\n",
    "        categorical_columns.append(col)\n",
    "    elif dtype==\"double\":\n",
    "        continuous_columns.append(col)\n",
    "    else:\n",
    "        continue\n",
    "\n",
    "\n",
    "# Convert the continuous columns to a Pandas DataFrame\n",
    "pandas_df = train_data.select(continuous_columns).toPandas()\n",
    "\n",
    "# Generate boxplots for each continuous column\n",
    "for column in continuous_columns:\n",
    "    plt.figure(figsize=(8, 4))  # Set figure size\n",
    "    plt.boxplot(pandas_df[column].dropna(), vert=False)  # Drop NaN values and create boxplot\n",
    "    plt.title(f\"Boxplot for {column}\")  # Add title\n",
    "    plt.xlabel(column)  # Add x-axis label\n",
    "    plt.show()  # Display the plot\n",
    "\n"
   ]
  },
  {
   "cell_type": "markdown",
   "id": "afe90b1e",
   "metadata": {},
   "source": [
    "# Data preprocessing"
   ]
  },
  {
   "cell_type": "markdown",
   "id": "3acac45c",
   "metadata": {},
   "source": [
    "Vector assembler and string indexer"
   ]
  },
  {
   "cell_type": "code",
   "execution_count": 13,
   "id": "f75464e4",
   "metadata": {},
   "outputs": [
    {
     "name": "stdout",
     "output_type": "stream",
     "text": [
      "{Param(parent='OneHotEncoder_8f7198f1c3fc', name='outputCol', doc='output column name.'): 'OneHotEncoder_8f7198f1c3fc__output', Param(parent='OneHotEncoder_8f7198f1c3fc', name='handleInvalid', doc=\"How to handle invalid data during transform(). Options are 'keep' (invalid data presented as an extra categorical feature) or error (throw an error). Note that this Param is only used during transform; during fitting, invalid data will result in an error.\"): 'error', Param(parent='OneHotEncoder_8f7198f1c3fc', name='dropLast', doc='whether to drop the last category'): True}\n"
     ]
    }
   ],
   "source": [
    "from pyspark.ml.feature import OneHotEncoder, VectorAssembler\n",
    "\n",
    "encoder=OneHotEncoder()\n",
    "print (encoder.extractParamMap())"
   ]
  },
  {
   "cell_type": "code",
   "execution_count": 9,
   "id": "ef71c9b1",
   "metadata": {},
   "outputs": [
    {
     "name": "stderr",
     "output_type": "stream",
     "text": [
      "24/11/21 17:05:11 WARN SparkStringUtils: Truncated the string representation of a plan since it was too large. This behavior can be adjusted by setting 'spark.sql.debug.maxToStringFields'.\n",
      "[Stage 66:>                                                         (0 + 1) / 1]\r"
     ]
    },
    {
     "name": "stdout",
     "output_type": "stream",
     "text": [
      "+---+-----+-----+-----+-----+-----+-----+-----+-----+-----+-----+------+------+------+------+------+------+------+------+------+-------------------+-------------------+------------------+------------------+-------------------+-------------------+-------------------+------------------+-------------------+-------------------+------------------+------+-------------+-------------+-------------+-------------+-------------+-------------+-------------+-------------+-------------+-------------+--------------+--------------+--------------+--------------+--------------+--------------+--------------+--------------+--------------+-------------+--------------+--------------+--------------+---------------+--------------+--------------+---------------+---------------+--------------+----------------+--------------+--------------+--------------+--------------+--------------+--------------+--------------+--------------+--------------------+\n",
      "| id|cat_0|cat_1|cat_2|cat_3|cat_4|cat_5|cat_6|cat_7|cat_8|cat_9|cat_10|cat_11|cat_12|cat_13|cat_14|cat_15|cat_16|cat_17|cat_18|             cont_0|             cont_1|            cont_2|            cont_3|             cont_4|             cont_5|             cont_6|            cont_7|             cont_8|             cont_9|           cont_10|target|cat_0_indexed|cat_1_indexed|cat_2_indexed|cat_3_indexed|cat_4_indexed|cat_5_indexed|cat_6_indexed|cat_7_indexed|cat_8_indexed|cat_9_indexed|cat_10_indexed|cat_11_indexed|cat_12_indexed|cat_13_indexed|cat_14_indexed|cat_15_indexed|cat_16_indexed|cat_17_indexed|cat_18_indexed|cat_0_encoded| cat_1_encoded| cat_2_encoded| cat_3_encoded|  cat_4_encoded| cat_5_encoded| cat_6_encoded|  cat_7_encoded|  cat_8_encoded| cat_9_encoded|  cat_10_encoded|cat_11_encoded|cat_12_encoded|cat_13_encoded|cat_14_encoded|cat_15_encoded|cat_16_encoded|cat_17_encoded|cat_18_encoded|            features|\n",
      "+---+-----+-----+-----+-----+-----+-----+-----+-----+-----+-----+------+------+------+------+------+------+------+------+------+-------------------+-------------------+------------------+------------------+-------------------+-------------------+-------------------+------------------+-------------------+-------------------+------------------+------+-------------+-------------+-------------+-------------+-------------+-------------+-------------+-------------+-------------+-------------+--------------+--------------+--------------+--------------+--------------+--------------+--------------+--------------+--------------+-------------+--------------+--------------+--------------+---------------+--------------+--------------+---------------+---------------+--------------+----------------+--------------+--------------+--------------+--------------+--------------+--------------+--------------+--------------+--------------------+\n",
      "|  0|    A|    I|    A|    B|    B|   BI|    A|    S|    Q|    A|    LO|     A|     A|     A|     A|     B|     D|     D|     B| 0.6298580932886344| 0.8553490496453626|0.7594386994154677| 0.795549256871245| 0.6819172514031219| 0.6216718236057862| 0.5921843772206821|0.7919207159113629| 0.8152537462248601|  0.965006328742958|0.6659151198639575|     1|          0.0|          0.0|          0.0|          1.0|         11.0|          0.0|          0.0|          9.0|         19.0|          0.0|          21.0|           0.0|           0.0|           0.0|           0.0|           0.0|           0.0|           0.0|           0.0|(2,[0],[1.0])|(15,[0],[1.0])|(19,[0],[1.0])|(13,[1],[1.0])|(20,[11],[1.0])|(84,[0],[1.0])|(16,[0],[1.0])| (51,[9],[1.0])|(61,[19],[1.0])|(19,[0],[1.0])|(297,[21],[1.0])| (2,[0],[1.0])| (2,[0],[1.0])| (2,[0],[1.0])| (2,[0],[1.0])| (4,[0],[1.0])| (4,[0],[1.0])| (4,[0],[1.0])| (4,[0],[1.0])|(632,[0,1,2,3,4,5...|\n",
      "|  1|    A|    I|    A|    A|    E|   BI|    K|    W|   AD|    F|    HJ|     A|     B|     A|     B|     D|     B|     D|     B|0.37072710368935663|0.32892942328506936|0.3863848396544993|0.5413662314603979| 0.3889824529295912| 0.3577782607273347| 0.6000435979273233|0.4087010629559668|0.39935257249894734| 0.9274058250023683|0.4937292188969079|     0|          0.0|          0.0|          0.0|          0.0|          0.0|          0.0|          6.0|         31.0|          6.0|          3.0|          23.0|           0.0|           1.0|           0.0|           1.0|           1.0|           1.0|           0.0|           0.0|(2,[0],[1.0])|(15,[0],[1.0])|(19,[0],[1.0])|(13,[0],[1.0])| (20,[0],[1.0])|(84,[0],[1.0])|(16,[6],[1.0])|(51,[31],[1.0])| (61,[6],[1.0])|(19,[3],[1.0])|(297,[23],[1.0])| (2,[0],[1.0])| (2,[1],[1.0])| (2,[0],[1.0])| (2,[1],[1.0])| (4,[1],[1.0])| (4,[1],[1.0])| (4,[0],[1.0])| (4,[0],[1.0])|(632,[0,1,2,3,4,5...|\n",
      "|  2|    A|    K|    A|    A|    E|   BI|    A|    E|   BM|    L|    DJ|     A|     B|     A|     A|     B|     D|     D|     B| 0.5022716956789236|0.32274884251498537|0.3432547395332873|0.6163515586940255| 0.7936867983255183| 0.5528768777542055|0.35211338219817845|0.3888348567776837|0.41230312338993824|0.29269552318731995|0.5494523936681402|     1|          0.0|          2.0|          0.0|          0.0|          0.0|          0.0|          0.0|          1.0|          0.0|          7.0|           0.0|           0.0|           1.0|           0.0|           0.0|           0.0|           0.0|           0.0|           0.0|(2,[0],[1.0])|(15,[2],[1.0])|(19,[0],[1.0])|(13,[0],[1.0])| (20,[0],[1.0])|(84,[0],[1.0])|(16,[0],[1.0])| (51,[1],[1.0])| (61,[0],[1.0])|(19,[7],[1.0])| (297,[0],[1.0])| (2,[0],[1.0])| (2,[1],[1.0])| (2,[0],[1.0])| (2,[0],[1.0])| (4,[0],[1.0])| (4,[0],[1.0])| (4,[0],[1.0])| (4,[0],[1.0])|(632,[0,1,2,3,4,5...|\n",
      "|  4|    A|    I|    G|    B|    E|   BI|    C|    G|    Q|    A|    DP|     A|     A|     A|     B|     B|     B|     D|     B| 0.2544273861735361| 0.2745137182590417|0.3388179288828572|0.2773076638614053| 0.6105781545188853|0.12829101986825742|  0.578764269381999|0.2791671281711305| 0.3511026549172377| 0.3570835797113264|0.3289598322079217|     0|          0.0|          0.0|          3.0|          1.0|          0.0|          0.0|          1.0|         15.0|         19.0|          0.0|           2.0|           0.0|           0.0|           0.0|           1.0|           0.0|           1.0|           0.0|           0.0|(2,[0],[1.0])|(15,[0],[1.0])|(19,[3],[1.0])|(13,[1],[1.0])| (20,[0],[1.0])|(84,[0],[1.0])|(16,[1],[1.0])|(51,[15],[1.0])|(61,[19],[1.0])|(19,[0],[1.0])| (297,[2],[1.0])| (2,[0],[1.0])| (2,[0],[1.0])| (2,[0],[1.0])| (2,[1],[1.0])| (4,[0],[1.0])| (4,[1],[1.0])| (4,[0],[1.0])| (4,[0],[1.0])|(632,[0,1,2,3,4,5...|\n",
      "|  5|    A|    F|    A|    A|    F|   BI|    A|   AH|   AX|    A|    LF|     A|     A|     A|     A|     B|     D|     D|     B| 0.7081197209161232| 0.7356900781822099|0.5783662537758792|0.7231540294835398|0.22803702874381085| 0.3562271656227514| 0.5512491766350025| 0.655693068028917| 0.5983305390406377|0.35998748437710426|0.9474891434294836|     0|          0.0|          1.0|          0.0|          0.0|          1.0|          0.0|          0.0|          0.0|          2.0|          0.0|          11.0|           0.0|           0.0|           0.0|           0.0|           0.0|           0.0|           0.0|           0.0|(2,[0],[1.0])|(15,[1],[1.0])|(19,[0],[1.0])|(13,[0],[1.0])| (20,[1],[1.0])|(84,[0],[1.0])|(16,[0],[1.0])| (51,[0],[1.0])| (61,[2],[1.0])|(19,[0],[1.0])|(297,[11],[1.0])| (2,[0],[1.0])| (2,[0],[1.0])| (2,[0],[1.0])| (2,[0],[1.0])| (4,[0],[1.0])| (4,[0],[1.0])| (4,[0],[1.0])| (4,[0],[1.0])|(632,[0,1,2,3,4,5...|\n",
      "+---+-----+-----+-----+-----+-----+-----+-----+-----+-----+-----+------+------+------+------+------+------+------+------+------+-------------------+-------------------+------------------+------------------+-------------------+-------------------+-------------------+------------------+-------------------+-------------------+------------------+------+-------------+-------------+-------------+-------------+-------------+-------------+-------------+-------------+-------------+-------------+--------------+--------------+--------------+--------------+--------------+--------------+--------------+--------------+--------------+-------------+--------------+--------------+--------------+---------------+--------------+--------------+---------------+---------------+--------------+----------------+--------------+--------------+--------------+--------------+--------------+--------------+--------------+--------------+--------------------+\n",
      "only showing top 5 rows\n",
      "\n"
     ]
    },
    {
     "name": "stderr",
     "output_type": "stream",
     "text": [
      "\r",
      "                                                                                \r"
     ]
    }
   ],
   "source": [
    "from pyspark.ml.feature import StringIndexer, OneHotEncoder, VectorAssembler\n",
    "from pyspark.ml import Pipeline\n",
    "\n",
    "#Split the dataset columns based on their datatype for the preprocessing. I use a for loop that iterates over the\n",
    "#columns in train_data.dtypes, and separates them into string or double. I skip the target(int)\n",
    "\n",
    "# Step 1: StringIndexer for categorical columns\n",
    "indexer = [\n",
    "    StringIndexer(inputCol=col, outputCol=f\"{col}_indexed\", handleInvalid=\"keep\")\n",
    "    for col in categorical_columns\n",
    "]\n",
    "\n",
    "# Step 2: OneHotEncoder for indexing the columns\n",
    "encoder = [\n",
    "    OneHotEncoder(inputCol=f\"{col}_indexed\", outputCol=f\"{col}_encoded\", dropLast=True)\n",
    "    for col in categorical_columns\n",
    "]\n",
    "encoded_columns= [f\"{col}_encoded\" for col in categorical_columns]\n",
    "\n",
    "#Step 3: Assembler\n",
    "assembler= VectorAssembler(inputCols= continuous_columns + encoded_columns, outputCol= \"features\")\n",
    "        \n",
    "# Step 3: Create a Pipeline with Indexers and Encoders\n",
    "pipeline = Pipeline(stages=indexer + encoder + [assembler])\n",
    "\n",
    "# Step 4: Fit and Transform the Data\n",
    "pipeline_model = pipeline.fit(train_data)\n",
    "processed_train_data = pipeline_model.transform(train_data)\n",
    "\n",
    "processed_train_data.show(5)"
   ]
  },
  {
   "cell_type": "markdown",
   "id": "6f2b0673",
   "metadata": {},
   "source": [
    "# Train a Random Forest model"
   ]
  },
  {
   "cell_type": "code",
   "execution_count": 10,
   "id": "2c0bea13",
   "metadata": {},
   "outputs": [
    {
     "name": "stderr",
     "output_type": "stream",
     "text": [
      "24/11/21 17:05:39 WARN MemoryStore: Not enough space to cache rdd_214_7 in memory! (computed 46.5 MiB so far)\n",
      "24/11/21 17:05:39 WARN MemoryStore: Not enough space to cache rdd_214_4 in memory! (computed 46.5 MiB so far)\n",
      "24/11/21 17:05:39 WARN MemoryStore: Not enough space to cache rdd_214_0 in memory! (computed 46.5 MiB so far)\n",
      "24/11/21 17:05:39 WARN BlockManager: Persisting block rdd_214_0 to disk instead.\n",
      "24/11/21 17:05:39 WARN BlockManager: Persisting block rdd_214_7 to disk instead.\n",
      "24/11/21 17:05:39 WARN BlockManager: Persisting block rdd_214_4 to disk instead.\n",
      "24/11/21 17:05:39 WARN MemoryStore: Not enough space to cache rdd_214_2 in memory! (computed 46.5 MiB so far)\n",
      "24/11/21 17:05:39 WARN MemoryStore: Not enough space to cache rdd_214_5 in memory! (computed 46.5 MiB so far)\n",
      "24/11/21 17:05:39 WARN BlockManager: Persisting block rdd_214_5 to disk instead.\n",
      "24/11/21 17:05:39 WARN BlockManager: Persisting block rdd_214_2 to disk instead.\n",
      "24/11/21 17:05:39 WARN MemoryStore: Not enough space to cache rdd_214_3 in memory! (computed 46.5 MiB so far)\n",
      "24/11/21 17:05:39 WARN BlockManager: Persisting block rdd_214_3 to disk instead.\n",
      "24/11/21 17:05:39 WARN MemoryStore: Not enough space to cache rdd_214_1 in memory! (computed 46.5 MiB so far)\n",
      "24/11/21 17:05:39 WARN BlockManager: Persisting block rdd_214_1 to disk instead.\n",
      "24/11/21 17:05:39 WARN MemoryStore: Not enough space to cache rdd_214_6 in memory! (computed 46.5 MiB so far)\n",
      "24/11/21 17:05:39 WARN BlockManager: Persisting block rdd_214_6 to disk instead.\n",
      "24/11/21 17:05:43 WARN MemoryStore: Not enough space to cache rdd_214_2 in memory! (computed 29.9 MiB so far)\n",
      "24/11/21 17:05:43 WARN MemoryStore: Not enough space to cache rdd_214_4 in memory! (computed 46.5 MiB so far)\n",
      "24/11/21 17:05:43 WARN MemoryStore: Not enough space to cache rdd_214_1 in memory! (computed 46.5 MiB so far)\n",
      "24/11/21 17:05:43 WARN MemoryStore: Not enough space to cache rdd_214_0 in memory! (computed 46.5 MiB so far)\n",
      "24/11/21 17:05:43 WARN MemoryStore: Not enough space to cache rdd_214_3 in memory! (computed 46.5 MiB so far)\n",
      "24/11/21 17:05:43 WARN MemoryStore: Not enough space to cache rdd_214_6 in memory! (computed 46.5 MiB so far)\n",
      "24/11/21 17:05:43 WARN MemoryStore: Not enough space to cache rdd_214_5 in memory! (computed 46.5 MiB so far)\n",
      "24/11/21 17:05:45 WARN MemoryStore: Not enough space to cache rdd_214_4 in memory! (computed 29.9 MiB so far)\n",
      "24/11/21 17:05:45 WARN MemoryStore: Not enough space to cache rdd_214_5 in memory! (computed 46.5 MiB so far)\n",
      "24/11/21 17:05:45 WARN MemoryStore: Not enough space to cache rdd_214_6 in memory! (computed 46.5 MiB so far)\n",
      "24/11/21 17:05:45 WARN MemoryStore: Not enough space to cache rdd_214_1 in memory! (computed 46.5 MiB so far)\n",
      "24/11/21 17:05:45 WARN MemoryStore: Not enough space to cache rdd_214_0 in memory! (computed 46.5 MiB so far)\n",
      "24/11/21 17:05:45 WARN MemoryStore: Not enough space to cache rdd_214_2 in memory! (computed 46.5 MiB so far)\n",
      "24/11/21 17:05:45 WARN MemoryStore: Not enough space to cache rdd_214_3 in memory! (computed 46.5 MiB so far)\n",
      "24/11/21 17:05:46 WARN MemoryStore: Not enough space to cache rdd_214_0 in memory! (computed 29.9 MiB so far)\n",
      "24/11/21 17:05:46 WARN MemoryStore: Not enough space to cache rdd_214_4 in memory! (computed 46.5 MiB so far)\n",
      "24/11/21 17:05:46 WARN MemoryStore: Not enough space to cache rdd_214_6 in memory! (computed 46.5 MiB so far)\n",
      "24/11/21 17:05:46 WARN MemoryStore: Not enough space to cache rdd_214_1 in memory! (computed 46.5 MiB so far)\n",
      "24/11/21 17:05:46 WARN MemoryStore: Not enough space to cache rdd_214_2 in memory! (computed 46.5 MiB so far)\n",
      "24/11/21 17:05:46 WARN MemoryStore: Not enough space to cache rdd_214_5 in memory! (computed 46.5 MiB so far)\n",
      "24/11/21 17:05:46 WARN MemoryStore: Not enough space to cache rdd_214_3 in memory! (computed 46.5 MiB so far)\n",
      "24/11/21 17:05:47 WARN MemoryStore: Not enough space to cache rdd_214_0 in memory! (computed 29.9 MiB so far)\n",
      "24/11/21 17:05:47 WARN MemoryStore: Not enough space to cache rdd_214_2 in memory! (computed 46.5 MiB so far)\n",
      "24/11/21 17:05:47 WARN MemoryStore: Not enough space to cache rdd_214_5 in memory! (computed 46.5 MiB so far)\n",
      "24/11/21 17:05:47 WARN MemoryStore: Not enough space to cache rdd_214_3 in memory! (computed 46.5 MiB so far)\n",
      "24/11/21 17:05:47 WARN MemoryStore: Not enough space to cache rdd_214_1 in memory! (computed 46.5 MiB so far)\n",
      "24/11/21 17:05:47 WARN MemoryStore: Not enough space to cache rdd_214_4 in memory! (computed 46.5 MiB so far)\n",
      "24/11/21 17:05:47 WARN MemoryStore: Not enough space to cache rdd_214_6 in memory! (computed 46.5 MiB so far)\n",
      "24/11/21 17:05:49 WARN MemoryStore: Not enough space to cache rdd_214_6 in memory! (computed 29.9 MiB so far)\n",
      "24/11/21 17:05:49 WARN MemoryStore: Not enough space to cache rdd_214_0 in memory! (computed 46.5 MiB so far)\n",
      "24/11/21 17:05:49 WARN MemoryStore: Not enough space to cache rdd_214_4 in memory! (computed 46.5 MiB so far)\n",
      "24/11/21 17:05:49 WARN MemoryStore: Not enough space to cache rdd_214_1 in memory! (computed 46.5 MiB so far)\n",
      "24/11/21 17:05:49 WARN MemoryStore: Not enough space to cache rdd_214_5 in memory! (computed 46.5 MiB so far)\n",
      "24/11/21 17:05:49 WARN MemoryStore: Not enough space to cache rdd_214_2 in memory! (computed 46.5 MiB so far)\n",
      "24/11/21 17:05:49 WARN MemoryStore: Not enough space to cache rdd_214_3 in memory! (computed 46.5 MiB so far)\n",
      "                                                                                \r"
     ]
    }
   ],
   "source": [
    "from pyspark.ml.classification import RandomForestClassifier\n",
    "\n",
    "rfc= RandomForestClassifier(labelCol=\"target\", numTrees=20)\n",
    "\n",
    "rfc_model= rfc.fit(processed_train_data)\n"
   ]
  },
  {
   "cell_type": "markdown",
   "id": "1fe2db1a",
   "metadata": {},
   "source": [
    "# Predict with the test dataset"
   ]
  },
  {
   "cell_type": "code",
   "execution_count": 11,
   "id": "f31cb9cf",
   "metadata": {},
   "outputs": [
    {
     "name": "stderr",
     "output_type": "stream",
     "text": [
      "24/11/21 17:06:06 ERROR Executor: Exception in task 0.0 in stage 141.0 (TID 501)\n",
      "org.apache.spark.SparkException: [FAILED_EXECUTE_UDF] Failed to execute user defined function (`ProbabilisticClassificationModel$$Lambda$5142/0x00000007c14d7428`: (struct<type:tinyint,size:int,indices:array<int>,values:array<double>>) => struct<type:tinyint,size:int,indices:array<int>,values:array<double>>).\n",
      "\tat org.apache.spark.sql.errors.QueryExecutionErrors$.failedExecuteUserDefinedFunctionError(QueryExecutionErrors.scala:198)\n",
      "\tat org.apache.spark.sql.errors.QueryExecutionErrors.failedExecuteUserDefinedFunctionError(QueryExecutionErrors.scala)\n",
      "\tat org.apache.spark.sql.catalyst.expressions.GeneratedClass$SpecificUnsafeProjection.writeFields_0_27$(Unknown Source)\n",
      "\tat org.apache.spark.sql.catalyst.expressions.GeneratedClass$SpecificUnsafeProjection.apply(Unknown Source)\n",
      "\tat org.apache.spark.sql.catalyst.expressions.GeneratedClass$SpecificUnsafeProjection.apply(Unknown Source)\n",
      "\tat scala.collection.Iterator$$anon$10.next(Iterator.scala:461)\n",
      "\tat scala.collection.Iterator$$anon$10.next(Iterator.scala:461)\n",
      "\tat org.apache.spark.sql.execution.SparkPlan.$anonfun$getByteArrayRdd$1(SparkPlan.scala:389)\n",
      "\tat org.apache.spark.rdd.RDD.$anonfun$mapPartitionsInternal$2(RDD.scala:893)\n",
      "\tat org.apache.spark.rdd.RDD.$anonfun$mapPartitionsInternal$2$adapted(RDD.scala:893)\n",
      "\tat org.apache.spark.rdd.MapPartitionsRDD.compute(MapPartitionsRDD.scala:52)\n",
      "\tat org.apache.spark.rdd.RDD.computeOrReadCheckpoint(RDD.scala:367)\n",
      "\tat org.apache.spark.rdd.RDD.iterator(RDD.scala:331)\n",
      "\tat org.apache.spark.scheduler.ResultTask.runTask(ResultTask.scala:93)\n",
      "\tat org.apache.spark.TaskContext.runTaskWithListeners(TaskContext.scala:166)\n",
      "\tat org.apache.spark.scheduler.Task.run(Task.scala:141)\n",
      "\tat org.apache.spark.executor.Executor$TaskRunner.$anonfun$run$4(Executor.scala:620)\n",
      "\tat org.apache.spark.util.SparkErrorUtils.tryWithSafeFinally(SparkErrorUtils.scala:64)\n",
      "\tat org.apache.spark.util.SparkErrorUtils.tryWithSafeFinally$(SparkErrorUtils.scala:61)\n",
      "\tat org.apache.spark.util.Utils$.tryWithSafeFinally(Utils.scala:94)\n",
      "\tat org.apache.spark.executor.Executor$TaskRunner.run(Executor.scala:623)\n",
      "\tat java.util.concurrent.ThreadPoolExecutor.runWorker(ThreadPoolExecutor.java:1149)\n",
      "\tat java.util.concurrent.ThreadPoolExecutor$Worker.run(ThreadPoolExecutor.java:624)\n",
      "\tat java.lang.Thread.run(Thread.java:750)\n",
      "Caused by: java.lang.IndexOutOfBoundsException: Index 631 out of bounds [0, 629)\n",
      "\tat org.apache.spark.ml.linalg.SparseVector.apply(Vectors.scala:657)\n",
      "\tat org.apache.spark.ml.tree.CategoricalSplit.shouldGoLeft(Split.scala:99)\n",
      "\tat org.apache.spark.ml.tree.InternalNode.predictImpl(Node.scala:180)\n",
      "\tat org.apache.spark.ml.classification.RandomForestClassificationModel.$anonfun$predictRaw$1(RandomForestClassifier.scala:334)\n",
      "\tat org.apache.spark.ml.classification.RandomForestClassificationModel.$anonfun$predictRaw$1$adapted(RandomForestClassifier.scala:333)\n",
      "\tat scala.collection.IndexedSeqOptimized.foreach(IndexedSeqOptimized.scala:36)\n",
      "\tat scala.collection.IndexedSeqOptimized.foreach$(IndexedSeqOptimized.scala:33)\n",
      "\tat scala.collection.mutable.ArrayOps$ofRef.foreach(ArrayOps.scala:198)\n",
      "\tat org.apache.spark.ml.classification.RandomForestClassificationModel.predictRaw(RandomForestClassifier.scala:333)\n",
      "\tat org.apache.spark.ml.classification.RandomForestClassificationModel.predictRaw(RandomForestClassifier.scala:235)\n",
      "\tat org.apache.spark.ml.classification.ProbabilisticClassificationModel.$anonfun$transform$2(ProbabilisticClassifier.scala:121)\n",
      "\t... 22 more\n",
      "24/11/21 17:06:06 WARN TaskSetManager: Lost task 0.0 in stage 141.0 (TID 501) (10.170.18.13 executor driver): org.apache.spark.SparkException: [FAILED_EXECUTE_UDF] Failed to execute user defined function (`ProbabilisticClassificationModel$$Lambda$5142/0x00000007c14d7428`: (struct<type:tinyint,size:int,indices:array<int>,values:array<double>>) => struct<type:tinyint,size:int,indices:array<int>,values:array<double>>).\n",
      "\tat org.apache.spark.sql.errors.QueryExecutionErrors$.failedExecuteUserDefinedFunctionError(QueryExecutionErrors.scala:198)\n",
      "\tat org.apache.spark.sql.errors.QueryExecutionErrors.failedExecuteUserDefinedFunctionError(QueryExecutionErrors.scala)\n",
      "\tat org.apache.spark.sql.catalyst.expressions.GeneratedClass$SpecificUnsafeProjection.writeFields_0_27$(Unknown Source)\n",
      "\tat org.apache.spark.sql.catalyst.expressions.GeneratedClass$SpecificUnsafeProjection.apply(Unknown Source)\n",
      "\tat org.apache.spark.sql.catalyst.expressions.GeneratedClass$SpecificUnsafeProjection.apply(Unknown Source)\n",
      "\tat scala.collection.Iterator$$anon$10.next(Iterator.scala:461)\n",
      "\tat scala.collection.Iterator$$anon$10.next(Iterator.scala:461)\n",
      "\tat org.apache.spark.sql.execution.SparkPlan.$anonfun$getByteArrayRdd$1(SparkPlan.scala:389)\n",
      "\tat org.apache.spark.rdd.RDD.$anonfun$mapPartitionsInternal$2(RDD.scala:893)\n",
      "\tat org.apache.spark.rdd.RDD.$anonfun$mapPartitionsInternal$2$adapted(RDD.scala:893)\n",
      "\tat org.apache.spark.rdd.MapPartitionsRDD.compute(MapPartitionsRDD.scala:52)\n",
      "\tat org.apache.spark.rdd.RDD.computeOrReadCheckpoint(RDD.scala:367)\n",
      "\tat org.apache.spark.rdd.RDD.iterator(RDD.scala:331)\n",
      "\tat org.apache.spark.scheduler.ResultTask.runTask(ResultTask.scala:93)\n",
      "\tat org.apache.spark.TaskContext.runTaskWithListeners(TaskContext.scala:166)\n",
      "\tat org.apache.spark.scheduler.Task.run(Task.scala:141)\n",
      "\tat org.apache.spark.executor.Executor$TaskRunner.$anonfun$run$4(Executor.scala:620)\n",
      "\tat org.apache.spark.util.SparkErrorUtils.tryWithSafeFinally(SparkErrorUtils.scala:64)\n",
      "\tat org.apache.spark.util.SparkErrorUtils.tryWithSafeFinally$(SparkErrorUtils.scala:61)\n",
      "\tat org.apache.spark.util.Utils$.tryWithSafeFinally(Utils.scala:94)\n",
      "\tat org.apache.spark.executor.Executor$TaskRunner.run(Executor.scala:623)\n",
      "\tat java.util.concurrent.ThreadPoolExecutor.runWorker(ThreadPoolExecutor.java:1149)\n",
      "\tat java.util.concurrent.ThreadPoolExecutor$Worker.run(ThreadPoolExecutor.java:624)\n",
      "\tat java.lang.Thread.run(Thread.java:750)\n",
      "Caused by: java.lang.IndexOutOfBoundsException: Index 631 out of bounds [0, 629)\n",
      "\tat org.apache.spark.ml.linalg.SparseVector.apply(Vectors.scala:657)\n",
      "\tat org.apache.spark.ml.tree.CategoricalSplit.shouldGoLeft(Split.scala:99)\n",
      "\tat org.apache.spark.ml.tree.InternalNode.predictImpl(Node.scala:180)\n",
      "\tat org.apache.spark.ml.classification.RandomForestClassificationModel.$anonfun$predictRaw$1(RandomForestClassifier.scala:334)\n",
      "\tat org.apache.spark.ml.classification.RandomForestClassificationModel.$anonfun$predictRaw$1$adapted(RandomForestClassifier.scala:333)\n",
      "\tat scala.collection.IndexedSeqOptimized.foreach(IndexedSeqOptimized.scala:36)\n",
      "\tat scala.collection.IndexedSeqOptimized.foreach$(IndexedSeqOptimized.scala:33)\n",
      "\tat scala.collection.mutable.ArrayOps$ofRef.foreach(ArrayOps.scala:198)\n",
      "\tat org.apache.spark.ml.classification.RandomForestClassificationModel.predictRaw(RandomForestClassifier.scala:333)\n",
      "\tat org.apache.spark.ml.classification.RandomForestClassificationModel.predictRaw(RandomForestClassifier.scala:235)\n",
      "\tat org.apache.spark.ml.classification.ProbabilisticClassificationModel.$anonfun$transform$2(ProbabilisticClassifier.scala:121)\n",
      "\t... 22 more\n",
      "\n",
      "24/11/21 17:06:06 ERROR TaskSetManager: Task 0 in stage 141.0 failed 1 times; aborting job\n"
     ]
    },
    {
     "ename": "Py4JJavaError",
     "evalue": "An error occurred while calling o5090.showString.\n: org.apache.spark.SparkException: Job aborted due to stage failure: Task 0 in stage 141.0 failed 1 times, most recent failure: Lost task 0.0 in stage 141.0 (TID 501) (10.170.18.13 executor driver): org.apache.spark.SparkException: [FAILED_EXECUTE_UDF] Failed to execute user defined function (`ProbabilisticClassificationModel$$Lambda$5142/0x00000007c14d7428`: (struct<type:tinyint,size:int,indices:array<int>,values:array<double>>) => struct<type:tinyint,size:int,indices:array<int>,values:array<double>>).\n\tat org.apache.spark.sql.errors.QueryExecutionErrors$.failedExecuteUserDefinedFunctionError(QueryExecutionErrors.scala:198)\n\tat org.apache.spark.sql.errors.QueryExecutionErrors.failedExecuteUserDefinedFunctionError(QueryExecutionErrors.scala)\n\tat org.apache.spark.sql.catalyst.expressions.GeneratedClass$SpecificUnsafeProjection.writeFields_0_27$(Unknown Source)\n\tat org.apache.spark.sql.catalyst.expressions.GeneratedClass$SpecificUnsafeProjection.apply(Unknown Source)\n\tat org.apache.spark.sql.catalyst.expressions.GeneratedClass$SpecificUnsafeProjection.apply(Unknown Source)\n\tat scala.collection.Iterator$$anon$10.next(Iterator.scala:461)\n\tat scala.collection.Iterator$$anon$10.next(Iterator.scala:461)\n\tat org.apache.spark.sql.execution.SparkPlan.$anonfun$getByteArrayRdd$1(SparkPlan.scala:389)\n\tat org.apache.spark.rdd.RDD.$anonfun$mapPartitionsInternal$2(RDD.scala:893)\n\tat org.apache.spark.rdd.RDD.$anonfun$mapPartitionsInternal$2$adapted(RDD.scala:893)\n\tat org.apache.spark.rdd.MapPartitionsRDD.compute(MapPartitionsRDD.scala:52)\n\tat org.apache.spark.rdd.RDD.computeOrReadCheckpoint(RDD.scala:367)\n\tat org.apache.spark.rdd.RDD.iterator(RDD.scala:331)\n\tat org.apache.spark.scheduler.ResultTask.runTask(ResultTask.scala:93)\n\tat org.apache.spark.TaskContext.runTaskWithListeners(TaskContext.scala:166)\n\tat org.apache.spark.scheduler.Task.run(Task.scala:141)\n\tat org.apache.spark.executor.Executor$TaskRunner.$anonfun$run$4(Executor.scala:620)\n\tat org.apache.spark.util.SparkErrorUtils.tryWithSafeFinally(SparkErrorUtils.scala:64)\n\tat org.apache.spark.util.SparkErrorUtils.tryWithSafeFinally$(SparkErrorUtils.scala:61)\n\tat org.apache.spark.util.Utils$.tryWithSafeFinally(Utils.scala:94)\n\tat org.apache.spark.executor.Executor$TaskRunner.run(Executor.scala:623)\n\tat java.util.concurrent.ThreadPoolExecutor.runWorker(ThreadPoolExecutor.java:1149)\n\tat java.util.concurrent.ThreadPoolExecutor$Worker.run(ThreadPoolExecutor.java:624)\n\tat java.lang.Thread.run(Thread.java:750)\nCaused by: java.lang.IndexOutOfBoundsException: Index 631 out of bounds [0, 629)\n\tat org.apache.spark.ml.linalg.SparseVector.apply(Vectors.scala:657)\n\tat org.apache.spark.ml.tree.CategoricalSplit.shouldGoLeft(Split.scala:99)\n\tat org.apache.spark.ml.tree.InternalNode.predictImpl(Node.scala:180)\n\tat org.apache.spark.ml.classification.RandomForestClassificationModel.$anonfun$predictRaw$1(RandomForestClassifier.scala:334)\n\tat org.apache.spark.ml.classification.RandomForestClassificationModel.$anonfun$predictRaw$1$adapted(RandomForestClassifier.scala:333)\n\tat scala.collection.IndexedSeqOptimized.foreach(IndexedSeqOptimized.scala:36)\n\tat scala.collection.IndexedSeqOptimized.foreach$(IndexedSeqOptimized.scala:33)\n\tat scala.collection.mutable.ArrayOps$ofRef.foreach(ArrayOps.scala:198)\n\tat org.apache.spark.ml.classification.RandomForestClassificationModel.predictRaw(RandomForestClassifier.scala:333)\n\tat org.apache.spark.ml.classification.RandomForestClassificationModel.predictRaw(RandomForestClassifier.scala:235)\n\tat org.apache.spark.ml.classification.ProbabilisticClassificationModel.$anonfun$transform$2(ProbabilisticClassifier.scala:121)\n\t... 22 more\n\nDriver stacktrace:\n\tat org.apache.spark.scheduler.DAGScheduler.failJobAndIndependentStages(DAGScheduler.scala:2856)\n\tat org.apache.spark.scheduler.DAGScheduler.$anonfun$abortStage$2(DAGScheduler.scala:2792)\n\tat org.apache.spark.scheduler.DAGScheduler.$anonfun$abortStage$2$adapted(DAGScheduler.scala:2791)\n\tat scala.collection.mutable.ResizableArray.foreach(ResizableArray.scala:62)\n\tat scala.collection.mutable.ResizableArray.foreach$(ResizableArray.scala:55)\n\tat scala.collection.mutable.ArrayBuffer.foreach(ArrayBuffer.scala:49)\n\tat org.apache.spark.scheduler.DAGScheduler.abortStage(DAGScheduler.scala:2791)\n\tat org.apache.spark.scheduler.DAGScheduler.$anonfun$handleTaskSetFailed$1(DAGScheduler.scala:1247)\n\tat org.apache.spark.scheduler.DAGScheduler.$anonfun$handleTaskSetFailed$1$adapted(DAGScheduler.scala:1247)\n\tat scala.Option.foreach(Option.scala:407)\n\tat org.apache.spark.scheduler.DAGScheduler.handleTaskSetFailed(DAGScheduler.scala:1247)\n\tat org.apache.spark.scheduler.DAGSchedulerEventProcessLoop.doOnReceive(DAGScheduler.scala:3060)\n\tat org.apache.spark.scheduler.DAGSchedulerEventProcessLoop.onReceive(DAGScheduler.scala:2994)\n\tat org.apache.spark.scheduler.DAGSchedulerEventProcessLoop.onReceive(DAGScheduler.scala:2983)\n\tat org.apache.spark.util.EventLoop$$anon$1.run(EventLoop.scala:49)\n\tat org.apache.spark.scheduler.DAGScheduler.runJob(DAGScheduler.scala:989)\n\tat org.apache.spark.SparkContext.runJob(SparkContext.scala:2393)\n\tat org.apache.spark.SparkContext.runJob(SparkContext.scala:2414)\n\tat org.apache.spark.SparkContext.runJob(SparkContext.scala:2433)\n\tat org.apache.spark.sql.execution.SparkPlan.executeTake(SparkPlan.scala:530)\n\tat org.apache.spark.sql.execution.SparkPlan.executeTake(SparkPlan.scala:483)\n\tat org.apache.spark.sql.execution.CollectLimitExec.executeCollect(limit.scala:61)\n\tat org.apache.spark.sql.Dataset.collectFromPlan(Dataset.scala:4333)\n\tat org.apache.spark.sql.Dataset.$anonfun$head$1(Dataset.scala:3316)\n\tat org.apache.spark.sql.Dataset.$anonfun$withAction$2(Dataset.scala:4323)\n\tat org.apache.spark.sql.execution.QueryExecution$.withInternalError(QueryExecution.scala:546)\n\tat org.apache.spark.sql.Dataset.$anonfun$withAction$1(Dataset.scala:4321)\n\tat org.apache.spark.sql.execution.SQLExecution$.$anonfun$withNewExecutionId$6(SQLExecution.scala:125)\n\tat org.apache.spark.sql.execution.SQLExecution$.withSQLConfPropagated(SQLExecution.scala:201)\n\tat org.apache.spark.sql.execution.SQLExecution$.$anonfun$withNewExecutionId$1(SQLExecution.scala:108)\n\tat org.apache.spark.sql.SparkSession.withActive(SparkSession.scala:900)\n\tat org.apache.spark.sql.execution.SQLExecution$.withNewExecutionId(SQLExecution.scala:66)\n\tat org.apache.spark.sql.Dataset.withAction(Dataset.scala:4321)\n\tat org.apache.spark.sql.Dataset.head(Dataset.scala:3316)\n\tat org.apache.spark.sql.Dataset.take(Dataset.scala:3539)\n\tat org.apache.spark.sql.Dataset.getRows(Dataset.scala:280)\n\tat org.apache.spark.sql.Dataset.showString(Dataset.scala:315)\n\tat sun.reflect.NativeMethodAccessorImpl.invoke0(Native Method)\n\tat sun.reflect.NativeMethodAccessorImpl.invoke(NativeMethodAccessorImpl.java:62)\n\tat sun.reflect.DelegatingMethodAccessorImpl.invoke(DelegatingMethodAccessorImpl.java:43)\n\tat java.lang.reflect.Method.invoke(Method.java:498)\n\tat py4j.reflection.MethodInvoker.invoke(MethodInvoker.java:244)\n\tat py4j.reflection.ReflectionEngine.invoke(ReflectionEngine.java:374)\n\tat py4j.Gateway.invoke(Gateway.java:282)\n\tat py4j.commands.AbstractCommand.invokeMethod(AbstractCommand.java:132)\n\tat py4j.commands.CallCommand.execute(CallCommand.java:79)\n\tat py4j.ClientServerConnection.waitForCommands(ClientServerConnection.java:182)\n\tat py4j.ClientServerConnection.run(ClientServerConnection.java:106)\n\tat java.lang.Thread.run(Thread.java:750)\nCaused by: org.apache.spark.SparkException: [FAILED_EXECUTE_UDF] Failed to execute user defined function (`ProbabilisticClassificationModel$$Lambda$5142/0x00000007c14d7428`: (struct<type:tinyint,size:int,indices:array<int>,values:array<double>>) => struct<type:tinyint,size:int,indices:array<int>,values:array<double>>).\n\tat org.apache.spark.sql.errors.QueryExecutionErrors$.failedExecuteUserDefinedFunctionError(QueryExecutionErrors.scala:198)\n\tat org.apache.spark.sql.errors.QueryExecutionErrors.failedExecuteUserDefinedFunctionError(QueryExecutionErrors.scala)\n\tat org.apache.spark.sql.catalyst.expressions.GeneratedClass$SpecificUnsafeProjection.writeFields_0_27$(Unknown Source)\n\tat org.apache.spark.sql.catalyst.expressions.GeneratedClass$SpecificUnsafeProjection.apply(Unknown Source)\n\tat org.apache.spark.sql.catalyst.expressions.GeneratedClass$SpecificUnsafeProjection.apply(Unknown Source)\n\tat scala.collection.Iterator$$anon$10.next(Iterator.scala:461)\n\tat scala.collection.Iterator$$anon$10.next(Iterator.scala:461)\n\tat org.apache.spark.sql.execution.SparkPlan.$anonfun$getByteArrayRdd$1(SparkPlan.scala:389)\n\tat org.apache.spark.rdd.RDD.$anonfun$mapPartitionsInternal$2(RDD.scala:893)\n\tat org.apache.spark.rdd.RDD.$anonfun$mapPartitionsInternal$2$adapted(RDD.scala:893)\n\tat org.apache.spark.rdd.MapPartitionsRDD.compute(MapPartitionsRDD.scala:52)\n\tat org.apache.spark.rdd.RDD.computeOrReadCheckpoint(RDD.scala:367)\n\tat org.apache.spark.rdd.RDD.iterator(RDD.scala:331)\n\tat org.apache.spark.scheduler.ResultTask.runTask(ResultTask.scala:93)\n\tat org.apache.spark.TaskContext.runTaskWithListeners(TaskContext.scala:166)\n\tat org.apache.spark.scheduler.Task.run(Task.scala:141)\n\tat org.apache.spark.executor.Executor$TaskRunner.$anonfun$run$4(Executor.scala:620)\n\tat org.apache.spark.util.SparkErrorUtils.tryWithSafeFinally(SparkErrorUtils.scala:64)\n\tat org.apache.spark.util.SparkErrorUtils.tryWithSafeFinally$(SparkErrorUtils.scala:61)\n\tat org.apache.spark.util.Utils$.tryWithSafeFinally(Utils.scala:94)\n\tat org.apache.spark.executor.Executor$TaskRunner.run(Executor.scala:623)\n\tat java.util.concurrent.ThreadPoolExecutor.runWorker(ThreadPoolExecutor.java:1149)\n\tat java.util.concurrent.ThreadPoolExecutor$Worker.run(ThreadPoolExecutor.java:624)\n\t... 1 more\nCaused by: java.lang.IndexOutOfBoundsException: Index 631 out of bounds [0, 629)\n\tat org.apache.spark.ml.linalg.SparseVector.apply(Vectors.scala:657)\n\tat org.apache.spark.ml.tree.CategoricalSplit.shouldGoLeft(Split.scala:99)\n\tat org.apache.spark.ml.tree.InternalNode.predictImpl(Node.scala:180)\n\tat org.apache.spark.ml.classification.RandomForestClassificationModel.$anonfun$predictRaw$1(RandomForestClassifier.scala:334)\n\tat org.apache.spark.ml.classification.RandomForestClassificationModel.$anonfun$predictRaw$1$adapted(RandomForestClassifier.scala:333)\n\tat scala.collection.IndexedSeqOptimized.foreach(IndexedSeqOptimized.scala:36)\n\tat scala.collection.IndexedSeqOptimized.foreach$(IndexedSeqOptimized.scala:33)\n\tat scala.collection.mutable.ArrayOps$ofRef.foreach(ArrayOps.scala:198)\n\tat org.apache.spark.ml.classification.RandomForestClassificationModel.predictRaw(RandomForestClassifier.scala:333)\n\tat org.apache.spark.ml.classification.RandomForestClassificationModel.predictRaw(RandomForestClassifier.scala:235)\n\tat org.apache.spark.ml.classification.ProbabilisticClassificationModel.$anonfun$transform$2(ProbabilisticClassifier.scala:121)\n\t... 22 more\n",
     "output_type": "error",
     "traceback": [
      "\u001b[0;31m---------------------------------------------------------------------------\u001b[0m",
      "\u001b[0;31mPy4JJavaError\u001b[0m                             Traceback (most recent call last)",
      "Cell \u001b[0;32mIn[11], line 6\u001b[0m\n\u001b[1;32m      2\u001b[0m processed_test_data \u001b[38;5;241m=\u001b[39m pipeline_model\u001b[38;5;241m.\u001b[39mtransform(test_data)\n\u001b[1;32m      4\u001b[0m rfc_pred\u001b[38;5;241m=\u001b[39m rfc_model\u001b[38;5;241m.\u001b[39mtransform(processed_test_data)\n\u001b[0;32m----> 6\u001b[0m rfc_pred\u001b[38;5;241m.\u001b[39mshow(\u001b[38;5;241m5\u001b[39m)\n",
      "File \u001b[0;32m~/anaconda3/lib/python3.11/site-packages/pyspark/sql/dataframe.py:947\u001b[0m, in \u001b[0;36mDataFrame.show\u001b[0;34m(self, n, truncate, vertical)\u001b[0m\n\u001b[1;32m    887\u001b[0m \u001b[38;5;28;01mdef\u001b[39;00m \u001b[38;5;21mshow\u001b[39m(\u001b[38;5;28mself\u001b[39m, n: \u001b[38;5;28mint\u001b[39m \u001b[38;5;241m=\u001b[39m \u001b[38;5;241m20\u001b[39m, truncate: Union[\u001b[38;5;28mbool\u001b[39m, \u001b[38;5;28mint\u001b[39m] \u001b[38;5;241m=\u001b[39m \u001b[38;5;28;01mTrue\u001b[39;00m, vertical: \u001b[38;5;28mbool\u001b[39m \u001b[38;5;241m=\u001b[39m \u001b[38;5;28;01mFalse\u001b[39;00m) \u001b[38;5;241m-\u001b[39m\u001b[38;5;241m>\u001b[39m \u001b[38;5;28;01mNone\u001b[39;00m:\n\u001b[1;32m    888\u001b[0m \u001b[38;5;250m    \u001b[39m\u001b[38;5;124;03m\"\"\"Prints the first ``n`` rows to the console.\u001b[39;00m\n\u001b[1;32m    889\u001b[0m \n\u001b[1;32m    890\u001b[0m \u001b[38;5;124;03m    .. versionadded:: 1.3.0\u001b[39;00m\n\u001b[0;32m   (...)\u001b[0m\n\u001b[1;32m    945\u001b[0m \u001b[38;5;124;03m    name | Bob\u001b[39;00m\n\u001b[1;32m    946\u001b[0m \u001b[38;5;124;03m    \"\"\"\u001b[39;00m\n\u001b[0;32m--> 947\u001b[0m     \u001b[38;5;28mprint\u001b[39m(\u001b[38;5;28mself\u001b[39m\u001b[38;5;241m.\u001b[39m_show_string(n, truncate, vertical))\n",
      "File \u001b[0;32m~/anaconda3/lib/python3.11/site-packages/pyspark/sql/dataframe.py:965\u001b[0m, in \u001b[0;36mDataFrame._show_string\u001b[0;34m(self, n, truncate, vertical)\u001b[0m\n\u001b[1;32m    959\u001b[0m     \u001b[38;5;28;01mraise\u001b[39;00m PySparkTypeError(\n\u001b[1;32m    960\u001b[0m         error_class\u001b[38;5;241m=\u001b[39m\u001b[38;5;124m\"\u001b[39m\u001b[38;5;124mNOT_BOOL\u001b[39m\u001b[38;5;124m\"\u001b[39m,\n\u001b[1;32m    961\u001b[0m         message_parameters\u001b[38;5;241m=\u001b[39m{\u001b[38;5;124m\"\u001b[39m\u001b[38;5;124marg_name\u001b[39m\u001b[38;5;124m\"\u001b[39m: \u001b[38;5;124m\"\u001b[39m\u001b[38;5;124mvertical\u001b[39m\u001b[38;5;124m\"\u001b[39m, \u001b[38;5;124m\"\u001b[39m\u001b[38;5;124marg_type\u001b[39m\u001b[38;5;124m\"\u001b[39m: \u001b[38;5;28mtype\u001b[39m(vertical)\u001b[38;5;241m.\u001b[39m\u001b[38;5;18m__name__\u001b[39m},\n\u001b[1;32m    962\u001b[0m     )\n\u001b[1;32m    964\u001b[0m \u001b[38;5;28;01mif\u001b[39;00m \u001b[38;5;28misinstance\u001b[39m(truncate, \u001b[38;5;28mbool\u001b[39m) \u001b[38;5;129;01mand\u001b[39;00m truncate:\n\u001b[0;32m--> 965\u001b[0m     \u001b[38;5;28;01mreturn\u001b[39;00m \u001b[38;5;28mself\u001b[39m\u001b[38;5;241m.\u001b[39m_jdf\u001b[38;5;241m.\u001b[39mshowString(n, \u001b[38;5;241m20\u001b[39m, vertical)\n\u001b[1;32m    966\u001b[0m \u001b[38;5;28;01melse\u001b[39;00m:\n\u001b[1;32m    967\u001b[0m     \u001b[38;5;28;01mtry\u001b[39;00m:\n",
      "File \u001b[0;32m~/anaconda3/lib/python3.11/site-packages/py4j/java_gateway.py:1322\u001b[0m, in \u001b[0;36mJavaMember.__call__\u001b[0;34m(self, *args)\u001b[0m\n\u001b[1;32m   1316\u001b[0m command \u001b[38;5;241m=\u001b[39m proto\u001b[38;5;241m.\u001b[39mCALL_COMMAND_NAME \u001b[38;5;241m+\u001b[39m\\\n\u001b[1;32m   1317\u001b[0m     \u001b[38;5;28mself\u001b[39m\u001b[38;5;241m.\u001b[39mcommand_header \u001b[38;5;241m+\u001b[39m\\\n\u001b[1;32m   1318\u001b[0m     args_command \u001b[38;5;241m+\u001b[39m\\\n\u001b[1;32m   1319\u001b[0m     proto\u001b[38;5;241m.\u001b[39mEND_COMMAND_PART\n\u001b[1;32m   1321\u001b[0m answer \u001b[38;5;241m=\u001b[39m \u001b[38;5;28mself\u001b[39m\u001b[38;5;241m.\u001b[39mgateway_client\u001b[38;5;241m.\u001b[39msend_command(command)\n\u001b[0;32m-> 1322\u001b[0m return_value \u001b[38;5;241m=\u001b[39m get_return_value(\n\u001b[1;32m   1323\u001b[0m     answer, \u001b[38;5;28mself\u001b[39m\u001b[38;5;241m.\u001b[39mgateway_client, \u001b[38;5;28mself\u001b[39m\u001b[38;5;241m.\u001b[39mtarget_id, \u001b[38;5;28mself\u001b[39m\u001b[38;5;241m.\u001b[39mname)\n\u001b[1;32m   1325\u001b[0m \u001b[38;5;28;01mfor\u001b[39;00m temp_arg \u001b[38;5;129;01min\u001b[39;00m temp_args:\n\u001b[1;32m   1326\u001b[0m     \u001b[38;5;28;01mif\u001b[39;00m \u001b[38;5;28mhasattr\u001b[39m(temp_arg, \u001b[38;5;124m\"\u001b[39m\u001b[38;5;124m_detach\u001b[39m\u001b[38;5;124m\"\u001b[39m):\n",
      "File \u001b[0;32m~/anaconda3/lib/python3.11/site-packages/pyspark/errors/exceptions/captured.py:179\u001b[0m, in \u001b[0;36mcapture_sql_exception.<locals>.deco\u001b[0;34m(*a, **kw)\u001b[0m\n\u001b[1;32m    177\u001b[0m \u001b[38;5;28;01mdef\u001b[39;00m \u001b[38;5;21mdeco\u001b[39m(\u001b[38;5;241m*\u001b[39ma: Any, \u001b[38;5;241m*\u001b[39m\u001b[38;5;241m*\u001b[39mkw: Any) \u001b[38;5;241m-\u001b[39m\u001b[38;5;241m>\u001b[39m Any:\n\u001b[1;32m    178\u001b[0m     \u001b[38;5;28;01mtry\u001b[39;00m:\n\u001b[0;32m--> 179\u001b[0m         \u001b[38;5;28;01mreturn\u001b[39;00m f(\u001b[38;5;241m*\u001b[39ma, \u001b[38;5;241m*\u001b[39m\u001b[38;5;241m*\u001b[39mkw)\n\u001b[1;32m    180\u001b[0m     \u001b[38;5;28;01mexcept\u001b[39;00m Py4JJavaError \u001b[38;5;28;01mas\u001b[39;00m e:\n\u001b[1;32m    181\u001b[0m         converted \u001b[38;5;241m=\u001b[39m convert_exception(e\u001b[38;5;241m.\u001b[39mjava_exception)\n",
      "File \u001b[0;32m~/anaconda3/lib/python3.11/site-packages/py4j/protocol.py:326\u001b[0m, in \u001b[0;36mget_return_value\u001b[0;34m(answer, gateway_client, target_id, name)\u001b[0m\n\u001b[1;32m    324\u001b[0m value \u001b[38;5;241m=\u001b[39m OUTPUT_CONVERTER[\u001b[38;5;28mtype\u001b[39m](answer[\u001b[38;5;241m2\u001b[39m:], gateway_client)\n\u001b[1;32m    325\u001b[0m \u001b[38;5;28;01mif\u001b[39;00m answer[\u001b[38;5;241m1\u001b[39m] \u001b[38;5;241m==\u001b[39m REFERENCE_TYPE:\n\u001b[0;32m--> 326\u001b[0m     \u001b[38;5;28;01mraise\u001b[39;00m Py4JJavaError(\n\u001b[1;32m    327\u001b[0m         \u001b[38;5;124m\"\u001b[39m\u001b[38;5;124mAn error occurred while calling \u001b[39m\u001b[38;5;132;01m{0}\u001b[39;00m\u001b[38;5;132;01m{1}\u001b[39;00m\u001b[38;5;132;01m{2}\u001b[39;00m\u001b[38;5;124m.\u001b[39m\u001b[38;5;130;01m\\n\u001b[39;00m\u001b[38;5;124m\"\u001b[39m\u001b[38;5;241m.\u001b[39m\n\u001b[1;32m    328\u001b[0m         \u001b[38;5;28mformat\u001b[39m(target_id, \u001b[38;5;124m\"\u001b[39m\u001b[38;5;124m.\u001b[39m\u001b[38;5;124m\"\u001b[39m, name), value)\n\u001b[1;32m    329\u001b[0m \u001b[38;5;28;01melse\u001b[39;00m:\n\u001b[1;32m    330\u001b[0m     \u001b[38;5;28;01mraise\u001b[39;00m Py4JError(\n\u001b[1;32m    331\u001b[0m         \u001b[38;5;124m\"\u001b[39m\u001b[38;5;124mAn error occurred while calling \u001b[39m\u001b[38;5;132;01m{0}\u001b[39;00m\u001b[38;5;132;01m{1}\u001b[39;00m\u001b[38;5;132;01m{2}\u001b[39;00m\u001b[38;5;124m. Trace:\u001b[39m\u001b[38;5;130;01m\\n\u001b[39;00m\u001b[38;5;132;01m{3}\u001b[39;00m\u001b[38;5;130;01m\\n\u001b[39;00m\u001b[38;5;124m\"\u001b[39m\u001b[38;5;241m.\u001b[39m\n\u001b[1;32m    332\u001b[0m         \u001b[38;5;28mformat\u001b[39m(target_id, \u001b[38;5;124m\"\u001b[39m\u001b[38;5;124m.\u001b[39m\u001b[38;5;124m\"\u001b[39m, name, value))\n",
      "\u001b[0;31mPy4JJavaError\u001b[0m: An error occurred while calling o5090.showString.\n: org.apache.spark.SparkException: Job aborted due to stage failure: Task 0 in stage 141.0 failed 1 times, most recent failure: Lost task 0.0 in stage 141.0 (TID 501) (10.170.18.13 executor driver): org.apache.spark.SparkException: [FAILED_EXECUTE_UDF] Failed to execute user defined function (`ProbabilisticClassificationModel$$Lambda$5142/0x00000007c14d7428`: (struct<type:tinyint,size:int,indices:array<int>,values:array<double>>) => struct<type:tinyint,size:int,indices:array<int>,values:array<double>>).\n\tat org.apache.spark.sql.errors.QueryExecutionErrors$.failedExecuteUserDefinedFunctionError(QueryExecutionErrors.scala:198)\n\tat org.apache.spark.sql.errors.QueryExecutionErrors.failedExecuteUserDefinedFunctionError(QueryExecutionErrors.scala)\n\tat org.apache.spark.sql.catalyst.expressions.GeneratedClass$SpecificUnsafeProjection.writeFields_0_27$(Unknown Source)\n\tat org.apache.spark.sql.catalyst.expressions.GeneratedClass$SpecificUnsafeProjection.apply(Unknown Source)\n\tat org.apache.spark.sql.catalyst.expressions.GeneratedClass$SpecificUnsafeProjection.apply(Unknown Source)\n\tat scala.collection.Iterator$$anon$10.next(Iterator.scala:461)\n\tat scala.collection.Iterator$$anon$10.next(Iterator.scala:461)\n\tat org.apache.spark.sql.execution.SparkPlan.$anonfun$getByteArrayRdd$1(SparkPlan.scala:389)\n\tat org.apache.spark.rdd.RDD.$anonfun$mapPartitionsInternal$2(RDD.scala:893)\n\tat org.apache.spark.rdd.RDD.$anonfun$mapPartitionsInternal$2$adapted(RDD.scala:893)\n\tat org.apache.spark.rdd.MapPartitionsRDD.compute(MapPartitionsRDD.scala:52)\n\tat org.apache.spark.rdd.RDD.computeOrReadCheckpoint(RDD.scala:367)\n\tat org.apache.spark.rdd.RDD.iterator(RDD.scala:331)\n\tat org.apache.spark.scheduler.ResultTask.runTask(ResultTask.scala:93)\n\tat org.apache.spark.TaskContext.runTaskWithListeners(TaskContext.scala:166)\n\tat org.apache.spark.scheduler.Task.run(Task.scala:141)\n\tat org.apache.spark.executor.Executor$TaskRunner.$anonfun$run$4(Executor.scala:620)\n\tat org.apache.spark.util.SparkErrorUtils.tryWithSafeFinally(SparkErrorUtils.scala:64)\n\tat org.apache.spark.util.SparkErrorUtils.tryWithSafeFinally$(SparkErrorUtils.scala:61)\n\tat org.apache.spark.util.Utils$.tryWithSafeFinally(Utils.scala:94)\n\tat org.apache.spark.executor.Executor$TaskRunner.run(Executor.scala:623)\n\tat java.util.concurrent.ThreadPoolExecutor.runWorker(ThreadPoolExecutor.java:1149)\n\tat java.util.concurrent.ThreadPoolExecutor$Worker.run(ThreadPoolExecutor.java:624)\n\tat java.lang.Thread.run(Thread.java:750)\nCaused by: java.lang.IndexOutOfBoundsException: Index 631 out of bounds [0, 629)\n\tat org.apache.spark.ml.linalg.SparseVector.apply(Vectors.scala:657)\n\tat org.apache.spark.ml.tree.CategoricalSplit.shouldGoLeft(Split.scala:99)\n\tat org.apache.spark.ml.tree.InternalNode.predictImpl(Node.scala:180)\n\tat org.apache.spark.ml.classification.RandomForestClassificationModel.$anonfun$predictRaw$1(RandomForestClassifier.scala:334)\n\tat org.apache.spark.ml.classification.RandomForestClassificationModel.$anonfun$predictRaw$1$adapted(RandomForestClassifier.scala:333)\n\tat scala.collection.IndexedSeqOptimized.foreach(IndexedSeqOptimized.scala:36)\n\tat scala.collection.IndexedSeqOptimized.foreach$(IndexedSeqOptimized.scala:33)\n\tat scala.collection.mutable.ArrayOps$ofRef.foreach(ArrayOps.scala:198)\n\tat org.apache.spark.ml.classification.RandomForestClassificationModel.predictRaw(RandomForestClassifier.scala:333)\n\tat org.apache.spark.ml.classification.RandomForestClassificationModel.predictRaw(RandomForestClassifier.scala:235)\n\tat org.apache.spark.ml.classification.ProbabilisticClassificationModel.$anonfun$transform$2(ProbabilisticClassifier.scala:121)\n\t... 22 more\n\nDriver stacktrace:\n\tat org.apache.spark.scheduler.DAGScheduler.failJobAndIndependentStages(DAGScheduler.scala:2856)\n\tat org.apache.spark.scheduler.DAGScheduler.$anonfun$abortStage$2(DAGScheduler.scala:2792)\n\tat org.apache.spark.scheduler.DAGScheduler.$anonfun$abortStage$2$adapted(DAGScheduler.scala:2791)\n\tat scala.collection.mutable.ResizableArray.foreach(ResizableArray.scala:62)\n\tat scala.collection.mutable.ResizableArray.foreach$(ResizableArray.scala:55)\n\tat scala.collection.mutable.ArrayBuffer.foreach(ArrayBuffer.scala:49)\n\tat org.apache.spark.scheduler.DAGScheduler.abortStage(DAGScheduler.scala:2791)\n\tat org.apache.spark.scheduler.DAGScheduler.$anonfun$handleTaskSetFailed$1(DAGScheduler.scala:1247)\n\tat org.apache.spark.scheduler.DAGScheduler.$anonfun$handleTaskSetFailed$1$adapted(DAGScheduler.scala:1247)\n\tat scala.Option.foreach(Option.scala:407)\n\tat org.apache.spark.scheduler.DAGScheduler.handleTaskSetFailed(DAGScheduler.scala:1247)\n\tat org.apache.spark.scheduler.DAGSchedulerEventProcessLoop.doOnReceive(DAGScheduler.scala:3060)\n\tat org.apache.spark.scheduler.DAGSchedulerEventProcessLoop.onReceive(DAGScheduler.scala:2994)\n\tat org.apache.spark.scheduler.DAGSchedulerEventProcessLoop.onReceive(DAGScheduler.scala:2983)\n\tat org.apache.spark.util.EventLoop$$anon$1.run(EventLoop.scala:49)\n\tat org.apache.spark.scheduler.DAGScheduler.runJob(DAGScheduler.scala:989)\n\tat org.apache.spark.SparkContext.runJob(SparkContext.scala:2393)\n\tat org.apache.spark.SparkContext.runJob(SparkContext.scala:2414)\n\tat org.apache.spark.SparkContext.runJob(SparkContext.scala:2433)\n\tat org.apache.spark.sql.execution.SparkPlan.executeTake(SparkPlan.scala:530)\n\tat org.apache.spark.sql.execution.SparkPlan.executeTake(SparkPlan.scala:483)\n\tat org.apache.spark.sql.execution.CollectLimitExec.executeCollect(limit.scala:61)\n\tat org.apache.spark.sql.Dataset.collectFromPlan(Dataset.scala:4333)\n\tat org.apache.spark.sql.Dataset.$anonfun$head$1(Dataset.scala:3316)\n\tat org.apache.spark.sql.Dataset.$anonfun$withAction$2(Dataset.scala:4323)\n\tat org.apache.spark.sql.execution.QueryExecution$.withInternalError(QueryExecution.scala:546)\n\tat org.apache.spark.sql.Dataset.$anonfun$withAction$1(Dataset.scala:4321)\n\tat org.apache.spark.sql.execution.SQLExecution$.$anonfun$withNewExecutionId$6(SQLExecution.scala:125)\n\tat org.apache.spark.sql.execution.SQLExecution$.withSQLConfPropagated(SQLExecution.scala:201)\n\tat org.apache.spark.sql.execution.SQLExecution$.$anonfun$withNewExecutionId$1(SQLExecution.scala:108)\n\tat org.apache.spark.sql.SparkSession.withActive(SparkSession.scala:900)\n\tat org.apache.spark.sql.execution.SQLExecution$.withNewExecutionId(SQLExecution.scala:66)\n\tat org.apache.spark.sql.Dataset.withAction(Dataset.scala:4321)\n\tat org.apache.spark.sql.Dataset.head(Dataset.scala:3316)\n\tat org.apache.spark.sql.Dataset.take(Dataset.scala:3539)\n\tat org.apache.spark.sql.Dataset.getRows(Dataset.scala:280)\n\tat org.apache.spark.sql.Dataset.showString(Dataset.scala:315)\n\tat sun.reflect.NativeMethodAccessorImpl.invoke0(Native Method)\n\tat sun.reflect.NativeMethodAccessorImpl.invoke(NativeMethodAccessorImpl.java:62)\n\tat sun.reflect.DelegatingMethodAccessorImpl.invoke(DelegatingMethodAccessorImpl.java:43)\n\tat java.lang.reflect.Method.invoke(Method.java:498)\n\tat py4j.reflection.MethodInvoker.invoke(MethodInvoker.java:244)\n\tat py4j.reflection.ReflectionEngine.invoke(ReflectionEngine.java:374)\n\tat py4j.Gateway.invoke(Gateway.java:282)\n\tat py4j.commands.AbstractCommand.invokeMethod(AbstractCommand.java:132)\n\tat py4j.commands.CallCommand.execute(CallCommand.java:79)\n\tat py4j.ClientServerConnection.waitForCommands(ClientServerConnection.java:182)\n\tat py4j.ClientServerConnection.run(ClientServerConnection.java:106)\n\tat java.lang.Thread.run(Thread.java:750)\nCaused by: org.apache.spark.SparkException: [FAILED_EXECUTE_UDF] Failed to execute user defined function (`ProbabilisticClassificationModel$$Lambda$5142/0x00000007c14d7428`: (struct<type:tinyint,size:int,indices:array<int>,values:array<double>>) => struct<type:tinyint,size:int,indices:array<int>,values:array<double>>).\n\tat org.apache.spark.sql.errors.QueryExecutionErrors$.failedExecuteUserDefinedFunctionError(QueryExecutionErrors.scala:198)\n\tat org.apache.spark.sql.errors.QueryExecutionErrors.failedExecuteUserDefinedFunctionError(QueryExecutionErrors.scala)\n\tat org.apache.spark.sql.catalyst.expressions.GeneratedClass$SpecificUnsafeProjection.writeFields_0_27$(Unknown Source)\n\tat org.apache.spark.sql.catalyst.expressions.GeneratedClass$SpecificUnsafeProjection.apply(Unknown Source)\n\tat org.apache.spark.sql.catalyst.expressions.GeneratedClass$SpecificUnsafeProjection.apply(Unknown Source)\n\tat scala.collection.Iterator$$anon$10.next(Iterator.scala:461)\n\tat scala.collection.Iterator$$anon$10.next(Iterator.scala:461)\n\tat org.apache.spark.sql.execution.SparkPlan.$anonfun$getByteArrayRdd$1(SparkPlan.scala:389)\n\tat org.apache.spark.rdd.RDD.$anonfun$mapPartitionsInternal$2(RDD.scala:893)\n\tat org.apache.spark.rdd.RDD.$anonfun$mapPartitionsInternal$2$adapted(RDD.scala:893)\n\tat org.apache.spark.rdd.MapPartitionsRDD.compute(MapPartitionsRDD.scala:52)\n\tat org.apache.spark.rdd.RDD.computeOrReadCheckpoint(RDD.scala:367)\n\tat org.apache.spark.rdd.RDD.iterator(RDD.scala:331)\n\tat org.apache.spark.scheduler.ResultTask.runTask(ResultTask.scala:93)\n\tat org.apache.spark.TaskContext.runTaskWithListeners(TaskContext.scala:166)\n\tat org.apache.spark.scheduler.Task.run(Task.scala:141)\n\tat org.apache.spark.executor.Executor$TaskRunner.$anonfun$run$4(Executor.scala:620)\n\tat org.apache.spark.util.SparkErrorUtils.tryWithSafeFinally(SparkErrorUtils.scala:64)\n\tat org.apache.spark.util.SparkErrorUtils.tryWithSafeFinally$(SparkErrorUtils.scala:61)\n\tat org.apache.spark.util.Utils$.tryWithSafeFinally(Utils.scala:94)\n\tat org.apache.spark.executor.Executor$TaskRunner.run(Executor.scala:623)\n\tat java.util.concurrent.ThreadPoolExecutor.runWorker(ThreadPoolExecutor.java:1149)\n\tat java.util.concurrent.ThreadPoolExecutor$Worker.run(ThreadPoolExecutor.java:624)\n\t... 1 more\nCaused by: java.lang.IndexOutOfBoundsException: Index 631 out of bounds [0, 629)\n\tat org.apache.spark.ml.linalg.SparseVector.apply(Vectors.scala:657)\n\tat org.apache.spark.ml.tree.CategoricalSplit.shouldGoLeft(Split.scala:99)\n\tat org.apache.spark.ml.tree.InternalNode.predictImpl(Node.scala:180)\n\tat org.apache.spark.ml.classification.RandomForestClassificationModel.$anonfun$predictRaw$1(RandomForestClassifier.scala:334)\n\tat org.apache.spark.ml.classification.RandomForestClassificationModel.$anonfun$predictRaw$1$adapted(RandomForestClassifier.scala:333)\n\tat scala.collection.IndexedSeqOptimized.foreach(IndexedSeqOptimized.scala:36)\n\tat scala.collection.IndexedSeqOptimized.foreach$(IndexedSeqOptimized.scala:33)\n\tat scala.collection.mutable.ArrayOps$ofRef.foreach(ArrayOps.scala:198)\n\tat org.apache.spark.ml.classification.RandomForestClassificationModel.predictRaw(RandomForestClassifier.scala:333)\n\tat org.apache.spark.ml.classification.RandomForestClassificationModel.predictRaw(RandomForestClassifier.scala:235)\n\tat org.apache.spark.ml.classification.ProbabilisticClassificationModel.$anonfun$transform$2(ProbabilisticClassifier.scala:121)\n\t... 22 more\n"
     ]
    }
   ],
   "source": [
    "pipeline_model = pipeline.fit(test_data)\n",
    "processed_test_data = pipeline_model.transform(test_data)\n",
    "\n",
    "rfc_pred= rfc_model.transform(processed_test_data)\n",
    "\n",
    "rfc_pred.show(5)"
   ]
  },
  {
   "cell_type": "markdown",
   "id": "a1abd66c",
   "metadata": {},
   "source": [
    "# Evaluate the prediction (ROC)"
   ]
  },
  {
   "cell_type": "code",
   "execution_count": 12,
   "id": "d33dabfd",
   "metadata": {},
   "outputs": [
    {
     "ename": "AnalysisException",
     "evalue": "[UNRESOLVED_COLUMN.WITH_SUGGESTION] A column or function parameter with name `target` cannot be resolved. Did you mean one of the following? [`cat_0`, `cat_1`, `cat_2`, `cat_3`, `cat_4`].;\n'Project [probability#12477, 'target]\n+- Project [id#260, cat_0#261, cat_1#262, cat_2#263, cat_3#264, cat_4#265, cat_5#266, cat_6#267, cat_7#268, cat_8#269, cat_9#270, cat_10#271, cat_11#272, cat_12#273, cat_13#274, cat_14#275, cat_15#276, cat_16#277, cat_17#278, cat_18#279, cont_0#280, cont_1#281, cont_2#282, cont_3#283, ... 49 more fields]\n   +- Project [id#260, cat_0#261, cat_1#262, cat_2#263, cat_3#264, cat_4#265, cat_5#266, cat_6#267, cat_7#268, cat_8#269, cat_9#270, cat_10#271, cat_11#272, cat_12#273, cat_13#274, cat_14#275, cat_15#276, cat_16#277, cat_17#278, cat_18#279, cont_0#280, cont_1#281, cont_2#282, cont_3#283, ... 48 more fields]\n      +- Project [id#260, cat_0#261, cat_1#262, cat_2#263, cat_3#264, cat_4#265, cat_5#266, cat_6#267, cat_7#268, cat_8#269, cat_9#270, cat_10#271, cat_11#272, cat_12#273, cat_13#274, cat_14#275, cat_15#276, cat_16#277, cat_17#278, cat_18#279, cont_0#280, cont_1#281, cont_2#282, cont_3#283, ... 47 more fields]\n         +- Project [id#260, cat_0#261, cat_1#262, cat_2#263, cat_3#264, cat_4#265, cat_5#266, cat_6#267, cat_7#268, cat_8#269, cat_9#270, cat_10#271, cat_11#272, cat_12#273, cat_13#274, cat_14#275, cat_15#276, cat_16#277, cat_17#278, cat_18#279, cont_0#280, cont_1#281, cont_2#282, cont_3#283, ... 46 more fields]\n            +- Project [id#260, cat_0#261, cat_1#262, cat_2#263, cat_3#264, cat_4#265, cat_5#266, cat_6#267, cat_7#268, cat_8#269, cat_9#270, cat_10#271, cat_11#272, cat_12#273, cat_13#274, cat_14#275, cat_15#276, cat_16#277, cat_17#278, cat_18#279, cont_0#280, cont_1#281, cont_2#282, cont_3#283, ... 45 more fields]\n               +- Project [id#260, cat_0#261, cat_1#262, cat_2#263, cat_3#264, cat_4#265, cat_5#266, cat_6#267, cat_7#268, cat_8#269, cat_9#270, cat_10#271, cat_11#272, cat_12#273, cat_13#274, cat_14#275, cat_15#276, cat_16#277, cat_17#278, cat_18#279, cont_0#280, cont_1#281, cont_2#282, cont_3#283, ... 44 more fields]\n                  +- Project [id#260, cat_0#261, cat_1#262, cat_2#263, cat_3#264, cat_4#265, cat_5#266, cat_6#267, cat_7#268, cat_8#269, cat_9#270, cat_10#271, cat_11#272, cat_12#273, cat_13#274, cat_14#275, cat_15#276, cat_16#277, cat_17#278, cat_18#279, cont_0#280, cont_1#281, cont_2#282, cont_3#283, ... 43 more fields]\n                     +- Project [id#260, cat_0#261, cat_1#262, cat_2#263, cat_3#264, cat_4#265, cat_5#266, cat_6#267, cat_7#268, cat_8#269, cat_9#270, cat_10#271, cat_11#272, cat_12#273, cat_13#274, cat_14#275, cat_15#276, cat_16#277, cat_17#278, cat_18#279, cont_0#280, cont_1#281, cont_2#282, cont_3#283, ... 42 more fields]\n                        +- Project [id#260, cat_0#261, cat_1#262, cat_2#263, cat_3#264, cat_4#265, cat_5#266, cat_6#267, cat_7#268, cat_8#269, cat_9#270, cat_10#271, cat_11#272, cat_12#273, cat_13#274, cat_14#275, cat_15#276, cat_16#277, cat_17#278, cat_18#279, cont_0#280, cont_1#281, cont_2#282, cont_3#283, ... 41 more fields]\n                           +- Project [id#260, cat_0#261, cat_1#262, cat_2#263, cat_3#264, cat_4#265, cat_5#266, cat_6#267, cat_7#268, cat_8#269, cat_9#270, cat_10#271, cat_11#272, cat_12#273, cat_13#274, cat_14#275, cat_15#276, cat_16#277, cat_17#278, cat_18#279, cont_0#280, cont_1#281, cont_2#282, cont_3#283, ... 40 more fields]\n                              +- Project [id#260, cat_0#261, cat_1#262, cat_2#263, cat_3#264, cat_4#265, cat_5#266, cat_6#267, cat_7#268, cat_8#269, cat_9#270, cat_10#271, cat_11#272, cat_12#273, cat_13#274, cat_14#275, cat_15#276, cat_16#277, cat_17#278, cat_18#279, cont_0#280, cont_1#281, cont_2#282, cont_3#283, ... 39 more fields]\n                                 +- Project [id#260, cat_0#261, cat_1#262, cat_2#263, cat_3#264, cat_4#265, cat_5#266, cat_6#267, cat_7#268, cat_8#269, cat_9#270, cat_10#271, cat_11#272, cat_12#273, cat_13#274, cat_14#275, cat_15#276, cat_16#277, cat_17#278, cat_18#279, cont_0#280, cont_1#281, cont_2#282, cont_3#283, ... 38 more fields]\n                                    +- Project [id#260, cat_0#261, cat_1#262, cat_2#263, cat_3#264, cat_4#265, cat_5#266, cat_6#267, cat_7#268, cat_8#269, cat_9#270, cat_10#271, cat_11#272, cat_12#273, cat_13#274, cat_14#275, cat_15#276, cat_16#277, cat_17#278, cat_18#279, cont_0#280, cont_1#281, cont_2#282, cont_3#283, ... 37 more fields]\n                                       +- Project [id#260, cat_0#261, cat_1#262, cat_2#263, cat_3#264, cat_4#265, cat_5#266, cat_6#267, cat_7#268, cat_8#269, cat_9#270, cat_10#271, cat_11#272, cat_12#273, cat_13#274, cat_14#275, cat_15#276, cat_16#277, cat_17#278, cat_18#279, cont_0#280, cont_1#281, cont_2#282, cont_3#283, ... 36 more fields]\n                                          +- Project [id#260, cat_0#261, cat_1#262, cat_2#263, cat_3#264, cat_4#265, cat_5#266, cat_6#267, cat_7#268, cat_8#269, cat_9#270, cat_10#271, cat_11#272, cat_12#273, cat_13#274, cat_14#275, cat_15#276, cat_16#277, cat_17#278, cat_18#279, cont_0#280, cont_1#281, cont_2#282, cont_3#283, ... 35 more fields]\n                                             +- Project [id#260, cat_0#261, cat_1#262, cat_2#263, cat_3#264, cat_4#265, cat_5#266, cat_6#267, cat_7#268, cat_8#269, cat_9#270, cat_10#271, cat_11#272, cat_12#273, cat_13#274, cat_14#275, cat_15#276, cat_16#277, cat_17#278, cat_18#279, cont_0#280, cont_1#281, cont_2#282, cont_3#283, ... 34 more fields]\n                                                +- Project [id#260, cat_0#261, cat_1#262, cat_2#263, cat_3#264, cat_4#265, cat_5#266, cat_6#267, cat_7#268, cat_8#269, cat_9#270, cat_10#271, cat_11#272, cat_12#273, cat_13#274, cat_14#275, cat_15#276, cat_16#277, cat_17#278, cat_18#279, cont_0#280, cont_1#281, cont_2#282, cont_3#283, ... 33 more fields]\n                                                   +- Project [id#260, cat_0#261, cat_1#262, cat_2#263, cat_3#264, cat_4#265, cat_5#266, cat_6#267, cat_7#268, cat_8#269, cat_9#270, cat_10#271, cat_11#272, cat_12#273, cat_13#274, cat_14#275, cat_15#276, cat_16#277, cat_17#278, cat_18#279, cont_0#280, cont_1#281, cont_2#282, cont_3#283, ... 32 more fields]\n                                                      +- Project [id#260, cat_0#261, cat_1#262, cat_2#263, cat_3#264, cat_4#265, cat_5#266, cat_6#267, cat_7#268, cat_8#269, cat_9#270, cat_10#271, cat_11#272, cat_12#273, cat_13#274, cat_14#275, cat_15#276, cat_16#277, cat_17#278, cat_18#279, cont_0#280, cont_1#281, cont_2#282, cont_3#283, ... 31 more fields]\n                                                         +- Project [id#260, cat_0#261, cat_1#262, cat_2#263, cat_3#264, cat_4#265, cat_5#266, cat_6#267, cat_7#268, cat_8#269, cat_9#270, cat_10#271, cat_11#272, cat_12#273, cat_13#274, cat_14#275, cat_15#276, cat_16#277, cat_17#278, cat_18#279, cont_0#280, cont_1#281, cont_2#282, cont_3#283, ... 30 more fields]\n                                                            +- Project [id#260, cat_0#261, cat_1#262, cat_2#263, cat_3#264, cat_4#265, cat_5#266, cat_6#267, cat_7#268, cat_8#269, cat_9#270, cat_10#271, cat_11#272, cat_12#273, cat_13#274, cat_14#275, cat_15#276, cat_16#277, cat_17#278, cat_18#279, cont_0#280, cont_1#281, cont_2#282, cont_3#283, ... 29 more fields]\n                                                               +- Project [id#260, cat_0#261, cat_1#262, cat_2#263, cat_3#264, cat_4#265, cat_5#266, cat_6#267, cat_7#268, cat_8#269, cat_9#270, cat_10#271, cat_11#272, cat_12#273, cat_13#274, cat_14#275, cat_15#276, cat_16#277, cat_17#278, cat_18#279, cont_0#280, cont_1#281, cont_2#282, cont_3#283, ... 28 more fields]\n                                                                  +- Project [id#260, cat_0#261, cat_1#262, cat_2#263, cat_3#264, cat_4#265, cat_5#266, cat_6#267, cat_7#268, cat_8#269, cat_9#270, cat_10#271, cat_11#272, cat_12#273, cat_13#274, cat_14#275, cat_15#276, cat_16#277, cat_17#278, cat_18#279, cont_0#280, cont_1#281, cont_2#282, cont_3#283, ... 27 more fields]\n                                                                     +- Project [id#260, cat_0#261, cat_1#262, cat_2#263, cat_3#264, cat_4#265, cat_5#266, cat_6#267, cat_7#268, cat_8#269, cat_9#270, cat_10#271, cat_11#272, cat_12#273, cat_13#274, cat_14#275, cat_15#276, cat_16#277, cat_17#278, cat_18#279, cont_0#280, cont_1#281, cont_2#282, cont_3#283, ... 26 more fields]\n                                                                        +- Project [id#260, cat_0#261, cat_1#262, cat_2#263, cat_3#264, cat_4#265, cat_5#266, cat_6#267, cat_7#268, cat_8#269, cat_9#270, cat_10#271, cat_11#272, cat_12#273, cat_13#274, cat_14#275, cat_15#276, cat_16#277, cat_17#278, cat_18#279, cont_0#280, cont_1#281, cont_2#282, cont_3#283, ... 25 more fields]\n                                                                           +- Project [id#260, cat_0#261, cat_1#262, cat_2#263, cat_3#264, cat_4#265, cat_5#266, cat_6#267, cat_7#268, cat_8#269, cat_9#270, cat_10#271, cat_11#272, cat_12#273, cat_13#274, cat_14#275, cat_15#276, cat_16#277, cat_17#278, cat_18#279, cont_0#280, cont_1#281, cont_2#282, cont_3#283, ... 24 more fields]\n                                                                              +- Project [id#260, cat_0#261, cat_1#262, cat_2#263, cat_3#264, cat_4#265, cat_5#266, cat_6#267, cat_7#268, cat_8#269, cat_9#270, cat_10#271, cat_11#272, cat_12#273, cat_13#274, cat_14#275, cat_15#276, cat_16#277, cat_17#278, cat_18#279, cont_0#280, cont_1#281, cont_2#282, cont_3#283, ... 23 more fields]\n                                                                                 +- Project [id#260, cat_0#261, cat_1#262, cat_2#263, cat_3#264, cat_4#265, cat_5#266, cat_6#267, cat_7#268, cat_8#269, cat_9#270, cat_10#271, cat_11#272, cat_12#273, cat_13#274, cat_14#275, cat_15#276, cat_16#277, cat_17#278, cat_18#279, cont_0#280, cont_1#281, cont_2#282, cont_3#283, ... 22 more fields]\n                                                                                    +- Project [id#260, cat_0#261, cat_1#262, cat_2#263, cat_3#264, cat_4#265, cat_5#266, cat_6#267, cat_7#268, cat_8#269, cat_9#270, cat_10#271, cat_11#272, cat_12#273, cat_13#274, cat_14#275, cat_15#276, cat_16#277, cat_17#278, cat_18#279, cont_0#280, cont_1#281, cont_2#282, cont_3#283, ... 21 more fields]\n                                                                                       +- Project [id#260, cat_0#261, cat_1#262, cat_2#263, cat_3#264, cat_4#265, cat_5#266, cat_6#267, cat_7#268, cat_8#269, cat_9#270, cat_10#271, cat_11#272, cat_12#273, cat_13#274, cat_14#275, cat_15#276, cat_16#277, cat_17#278, cat_18#279, cont_0#280, cont_1#281, cont_2#282, cont_3#283, ... 20 more fields]\n                                                                                          +- Project [id#260, cat_0#261, cat_1#262, cat_2#263, cat_3#264, cat_4#265, cat_5#266, cat_6#267, cat_7#268, cat_8#269, cat_9#270, cat_10#271, cat_11#272, cat_12#273, cat_13#274, cat_14#275, cat_15#276, cat_16#277, cat_17#278, cat_18#279, cont_0#280, cont_1#281, cont_2#282, cont_3#283, ... 19 more fields]\n                                                                                             +- Project [id#260, cat_0#261, cat_1#262, cat_2#263, cat_3#264, cat_4#265, cat_5#266, cat_6#267, cat_7#268, cat_8#269, cat_9#270, cat_10#271, cat_11#272, cat_12#273, cat_13#274, cat_14#275, cat_15#276, cat_16#277, cat_17#278, cat_18#279, cont_0#280, cont_1#281, cont_2#282, cont_3#283, ... 18 more fields]\n                                                                                                +- Project [id#260, cat_0#261, cat_1#262, cat_2#263, cat_3#264, cat_4#265, cat_5#266, cat_6#267, cat_7#268, cat_8#269, cat_9#270, cat_10#271, cat_11#272, cat_12#273, cat_13#274, cat_14#275, cat_15#276, cat_16#277, cat_17#278, cat_18#279, cont_0#280, cont_1#281, cont_2#282, cont_3#283, ... 17 more fields]\n                                                                                                   +- Project [id#260, cat_0#261, cat_1#262, cat_2#263, cat_3#264, cat_4#265, cat_5#266, cat_6#267, cat_7#268, cat_8#269, cat_9#270, cat_10#271, cat_11#272, cat_12#273, cat_13#274, cat_14#275, cat_15#276, cat_16#277, cat_17#278, cat_18#279, cont_0#280, cont_1#281, cont_2#282, cont_3#283, ... 16 more fields]\n                                                                                                      +- Project [id#260, cat_0#261, cat_1#262, cat_2#263, cat_3#264, cat_4#265, cat_5#266, cat_6#267, cat_7#268, cat_8#269, cat_9#270, cat_10#271, cat_11#272, cat_12#273, cat_13#274, cat_14#275, cat_15#276, cat_16#277, cat_17#278, cat_18#279, cont_0#280, cont_1#281, cont_2#282, cont_3#283, ... 15 more fields]\n                                                                                                         +- Project [id#260, cat_0#261, cat_1#262, cat_2#263, cat_3#264, cat_4#265, cat_5#266, cat_6#267, cat_7#268, cat_8#269, cat_9#270, cat_10#271, cat_11#272, cat_12#273, cat_13#274, cat_14#275, cat_15#276, cat_16#277, cat_17#278, cat_18#279, cont_0#280, cont_1#281, cont_2#282, cont_3#283, ... 14 more fields]\n                                                                                                            +- Project [id#260, cat_0#261, cat_1#262, cat_2#263, cat_3#264, cat_4#265, cat_5#266, cat_6#267, cat_7#268, cat_8#269, cat_9#270, cat_10#271, cat_11#272, cat_12#273, cat_13#274, cat_14#275, cat_15#276, cat_16#277, cat_17#278, cat_18#279, cont_0#280, cont_1#281, cont_2#282, cont_3#283, ... 13 more fields]\n                                                                                                               +- Project [id#260, cat_0#261, cat_1#262, cat_2#263, cat_3#264, cat_4#265, cat_5#266, cat_6#267, cat_7#268, cat_8#269, cat_9#270, cat_10#271, cat_11#272, cat_12#273, cat_13#274, cat_14#275, cat_15#276, cat_16#277, cat_17#278, cat_18#279, cont_0#280, cont_1#281, cont_2#282, cont_3#283, ... 12 more fields]\n                                                                                                                  +- Project [id#260, cat_0#261, cat_1#262, cat_2#263, cat_3#264, cat_4#265, cat_5#266, cat_6#267, cat_7#268, cat_8#269, cat_9#270, cat_10#271, cat_11#272, cat_12#273, cat_13#274, cat_14#275, cat_15#276, cat_16#277, cat_17#278, cat_18#279, cont_0#280, cont_1#281, cont_2#282, cont_3#283, ... 11 more fields]\n                                                                                                                     +- Project [id#260, cat_0#261, cat_1#262, cat_2#263, cat_3#264, cat_4#265, cat_5#266, cat_6#267, cat_7#268, cat_8#269, cat_9#270, cat_10#271, cat_11#272, cat_12#273, cat_13#274, cat_14#275, cat_15#276, cat_16#277, cat_17#278, cat_18#279, cont_0#280, cont_1#281, cont_2#282, cont_3#283, ... 10 more fields]\n                                                                                                                        +- Project [id#260, cat_0#261, cat_1#262, cat_2#263, cat_3#264, cat_4#265, cat_5#266, cat_6#267, cat_7#268, cat_8#269, cat_9#270, cat_10#271, cat_11#272, cat_12#273, cat_13#274, cat_14#275, cat_15#276, cat_16#277, cat_17#278, cat_18#279, cont_0#280, cont_1#281, cont_2#282, cont_3#283, ... 9 more fields]\n                                                                                                                           +- Project [id#260, cat_0#261, cat_1#262, cat_2#263, cat_3#264, cat_4#265, cat_5#266, cat_6#267, cat_7#268, cat_8#269, cat_9#270, cat_10#271, cat_11#272, cat_12#273, cat_13#274, cat_14#275, cat_15#276, cat_16#277, cat_17#278, cat_18#279, cont_0#280, cont_1#281, cont_2#282, cont_3#283, ... 8 more fields]\n                                                                                                                              +- Relation [id#260,cat_0#261,cat_1#262,cat_2#263,cat_3#264,cat_4#265,cat_5#266,cat_6#267,cat_7#268,cat_8#269,cat_9#270,cat_10#271,cat_11#272,cat_12#273,cat_13#274,cat_14#275,cat_15#276,cat_16#277,cat_17#278,cat_18#279,cont_0#280,cont_1#281,cont_2#282,cont_3#283,... 7 more fields] csv\n",
     "output_type": "error",
     "traceback": [
      "\u001b[0;31m---------------------------------------------------------------------------\u001b[0m",
      "\u001b[0;31mAnalysisException\u001b[0m                         Traceback (most recent call last)",
      "Cell \u001b[0;32mIn[12], line 4\u001b[0m\n\u001b[1;32m      1\u001b[0m \u001b[38;5;28;01mfrom\u001b[39;00m \u001b[38;5;21;01mpyspark\u001b[39;00m\u001b[38;5;21;01m.\u001b[39;00m\u001b[38;5;21;01mmllib\u001b[39;00m\u001b[38;5;21;01m.\u001b[39;00m\u001b[38;5;21;01mevaluation\u001b[39;00m \u001b[38;5;28;01mimport\u001b[39;00m BinaryClassificationMetrics\n\u001b[1;32m      3\u001b[0m \u001b[38;5;66;03m#Create RDD tuples for prediction and labels\u001b[39;00m\n\u001b[0;32m----> 4\u001b[0m pred_and_labels \u001b[38;5;241m=\u001b[39m rfc_pred\u001b[38;5;241m.\u001b[39mselect(\u001b[38;5;124m\"\u001b[39m\u001b[38;5;124mprobability\u001b[39m\u001b[38;5;124m\"\u001b[39m, \u001b[38;5;124m\"\u001b[39m\u001b[38;5;124mtarget\u001b[39m\u001b[38;5;124m\"\u001b[39m)\u001b[38;5;241m.\u001b[39mrdd\u001b[38;5;241m.\u001b[39mmap(\n\u001b[1;32m      5\u001b[0m     \u001b[38;5;28;01mlambda\u001b[39;00m row: (\u001b[38;5;28mfloat\u001b[39m(row[\u001b[38;5;124m\"\u001b[39m\u001b[38;5;124mprobability\u001b[39m\u001b[38;5;124m\"\u001b[39m][\u001b[38;5;241m1\u001b[39m]), \u001b[38;5;28mfloat\u001b[39m(row[\u001b[38;5;124m\"\u001b[39m\u001b[38;5;124mtarget\u001b[39m\u001b[38;5;124m\"\u001b[39m]))\n\u001b[1;32m      6\u001b[0m )\n\u001b[1;32m      8\u001b[0m evaluator\u001b[38;5;241m=\u001b[39m BinaryClassificationMetrics(pred_and_labels)\n\u001b[1;32m     10\u001b[0m AUC_ev \u001b[38;5;241m=\u001b[39m evaluator\u001b[38;5;241m.\u001b[39mareaUnderROC\n",
      "File \u001b[0;32m~/anaconda3/lib/python3.11/site-packages/pyspark/sql/dataframe.py:3229\u001b[0m, in \u001b[0;36mDataFrame.select\u001b[0;34m(self, *cols)\u001b[0m\n\u001b[1;32m   3184\u001b[0m \u001b[38;5;28;01mdef\u001b[39;00m \u001b[38;5;21mselect\u001b[39m(\u001b[38;5;28mself\u001b[39m, \u001b[38;5;241m*\u001b[39mcols: \u001b[38;5;124m\"\u001b[39m\u001b[38;5;124mColumnOrName\u001b[39m\u001b[38;5;124m\"\u001b[39m) \u001b[38;5;241m-\u001b[39m\u001b[38;5;241m>\u001b[39m \u001b[38;5;124m\"\u001b[39m\u001b[38;5;124mDataFrame\u001b[39m\u001b[38;5;124m\"\u001b[39m:  \u001b[38;5;66;03m# type: ignore[misc]\u001b[39;00m\n\u001b[1;32m   3185\u001b[0m \u001b[38;5;250m    \u001b[39m\u001b[38;5;124;03m\"\"\"Projects a set of expressions and returns a new :class:`DataFrame`.\u001b[39;00m\n\u001b[1;32m   3186\u001b[0m \n\u001b[1;32m   3187\u001b[0m \u001b[38;5;124;03m    .. versionadded:: 1.3.0\u001b[39;00m\n\u001b[0;32m   (...)\u001b[0m\n\u001b[1;32m   3227\u001b[0m \u001b[38;5;124;03m    +-----+---+\u001b[39;00m\n\u001b[1;32m   3228\u001b[0m \u001b[38;5;124;03m    \"\"\"\u001b[39;00m\n\u001b[0;32m-> 3229\u001b[0m     jdf \u001b[38;5;241m=\u001b[39m \u001b[38;5;28mself\u001b[39m\u001b[38;5;241m.\u001b[39m_jdf\u001b[38;5;241m.\u001b[39mselect(\u001b[38;5;28mself\u001b[39m\u001b[38;5;241m.\u001b[39m_jcols(\u001b[38;5;241m*\u001b[39mcols))\n\u001b[1;32m   3230\u001b[0m     \u001b[38;5;28;01mreturn\u001b[39;00m DataFrame(jdf, \u001b[38;5;28mself\u001b[39m\u001b[38;5;241m.\u001b[39msparkSession)\n",
      "File \u001b[0;32m~/anaconda3/lib/python3.11/site-packages/py4j/java_gateway.py:1322\u001b[0m, in \u001b[0;36mJavaMember.__call__\u001b[0;34m(self, *args)\u001b[0m\n\u001b[1;32m   1316\u001b[0m command \u001b[38;5;241m=\u001b[39m proto\u001b[38;5;241m.\u001b[39mCALL_COMMAND_NAME \u001b[38;5;241m+\u001b[39m\\\n\u001b[1;32m   1317\u001b[0m     \u001b[38;5;28mself\u001b[39m\u001b[38;5;241m.\u001b[39mcommand_header \u001b[38;5;241m+\u001b[39m\\\n\u001b[1;32m   1318\u001b[0m     args_command \u001b[38;5;241m+\u001b[39m\\\n\u001b[1;32m   1319\u001b[0m     proto\u001b[38;5;241m.\u001b[39mEND_COMMAND_PART\n\u001b[1;32m   1321\u001b[0m answer \u001b[38;5;241m=\u001b[39m \u001b[38;5;28mself\u001b[39m\u001b[38;5;241m.\u001b[39mgateway_client\u001b[38;5;241m.\u001b[39msend_command(command)\n\u001b[0;32m-> 1322\u001b[0m return_value \u001b[38;5;241m=\u001b[39m get_return_value(\n\u001b[1;32m   1323\u001b[0m     answer, \u001b[38;5;28mself\u001b[39m\u001b[38;5;241m.\u001b[39mgateway_client, \u001b[38;5;28mself\u001b[39m\u001b[38;5;241m.\u001b[39mtarget_id, \u001b[38;5;28mself\u001b[39m\u001b[38;5;241m.\u001b[39mname)\n\u001b[1;32m   1325\u001b[0m \u001b[38;5;28;01mfor\u001b[39;00m temp_arg \u001b[38;5;129;01min\u001b[39;00m temp_args:\n\u001b[1;32m   1326\u001b[0m     \u001b[38;5;28;01mif\u001b[39;00m \u001b[38;5;28mhasattr\u001b[39m(temp_arg, \u001b[38;5;124m\"\u001b[39m\u001b[38;5;124m_detach\u001b[39m\u001b[38;5;124m\"\u001b[39m):\n",
      "File \u001b[0;32m~/anaconda3/lib/python3.11/site-packages/pyspark/errors/exceptions/captured.py:185\u001b[0m, in \u001b[0;36mcapture_sql_exception.<locals>.deco\u001b[0;34m(*a, **kw)\u001b[0m\n\u001b[1;32m    181\u001b[0m converted \u001b[38;5;241m=\u001b[39m convert_exception(e\u001b[38;5;241m.\u001b[39mjava_exception)\n\u001b[1;32m    182\u001b[0m \u001b[38;5;28;01mif\u001b[39;00m \u001b[38;5;129;01mnot\u001b[39;00m \u001b[38;5;28misinstance\u001b[39m(converted, UnknownException):\n\u001b[1;32m    183\u001b[0m     \u001b[38;5;66;03m# Hide where the exception came from that shows a non-Pythonic\u001b[39;00m\n\u001b[1;32m    184\u001b[0m     \u001b[38;5;66;03m# JVM exception message.\u001b[39;00m\n\u001b[0;32m--> 185\u001b[0m     \u001b[38;5;28;01mraise\u001b[39;00m converted \u001b[38;5;28;01mfrom\u001b[39;00m \u001b[38;5;28;01mNone\u001b[39;00m\n\u001b[1;32m    186\u001b[0m \u001b[38;5;28;01melse\u001b[39;00m:\n\u001b[1;32m    187\u001b[0m     \u001b[38;5;28;01mraise\u001b[39;00m\n",
      "\u001b[0;31mAnalysisException\u001b[0m: [UNRESOLVED_COLUMN.WITH_SUGGESTION] A column or function parameter with name `target` cannot be resolved. Did you mean one of the following? [`cat_0`, `cat_1`, `cat_2`, `cat_3`, `cat_4`].;\n'Project [probability#12477, 'target]\n+- Project [id#260, cat_0#261, cat_1#262, cat_2#263, cat_3#264, cat_4#265, cat_5#266, cat_6#267, cat_7#268, cat_8#269, cat_9#270, cat_10#271, cat_11#272, cat_12#273, cat_13#274, cat_14#275, cat_15#276, cat_16#277, cat_17#278, cat_18#279, cont_0#280, cont_1#281, cont_2#282, cont_3#283, ... 49 more fields]\n   +- Project [id#260, cat_0#261, cat_1#262, cat_2#263, cat_3#264, cat_4#265, cat_5#266, cat_6#267, cat_7#268, cat_8#269, cat_9#270, cat_10#271, cat_11#272, cat_12#273, cat_13#274, cat_14#275, cat_15#276, cat_16#277, cat_17#278, cat_18#279, cont_0#280, cont_1#281, cont_2#282, cont_3#283, ... 48 more fields]\n      +- Project [id#260, cat_0#261, cat_1#262, cat_2#263, cat_3#264, cat_4#265, cat_5#266, cat_6#267, cat_7#268, cat_8#269, cat_9#270, cat_10#271, cat_11#272, cat_12#273, cat_13#274, cat_14#275, cat_15#276, cat_16#277, cat_17#278, cat_18#279, cont_0#280, cont_1#281, cont_2#282, cont_3#283, ... 47 more fields]\n         +- Project [id#260, cat_0#261, cat_1#262, cat_2#263, cat_3#264, cat_4#265, cat_5#266, cat_6#267, cat_7#268, cat_8#269, cat_9#270, cat_10#271, cat_11#272, cat_12#273, cat_13#274, cat_14#275, cat_15#276, cat_16#277, cat_17#278, cat_18#279, cont_0#280, cont_1#281, cont_2#282, cont_3#283, ... 46 more fields]\n            +- Project [id#260, cat_0#261, cat_1#262, cat_2#263, cat_3#264, cat_4#265, cat_5#266, cat_6#267, cat_7#268, cat_8#269, cat_9#270, cat_10#271, cat_11#272, cat_12#273, cat_13#274, cat_14#275, cat_15#276, cat_16#277, cat_17#278, cat_18#279, cont_0#280, cont_1#281, cont_2#282, cont_3#283, ... 45 more fields]\n               +- Project [id#260, cat_0#261, cat_1#262, cat_2#263, cat_3#264, cat_4#265, cat_5#266, cat_6#267, cat_7#268, cat_8#269, cat_9#270, cat_10#271, cat_11#272, cat_12#273, cat_13#274, cat_14#275, cat_15#276, cat_16#277, cat_17#278, cat_18#279, cont_0#280, cont_1#281, cont_2#282, cont_3#283, ... 44 more fields]\n                  +- Project [id#260, cat_0#261, cat_1#262, cat_2#263, cat_3#264, cat_4#265, cat_5#266, cat_6#267, cat_7#268, cat_8#269, cat_9#270, cat_10#271, cat_11#272, cat_12#273, cat_13#274, cat_14#275, cat_15#276, cat_16#277, cat_17#278, cat_18#279, cont_0#280, cont_1#281, cont_2#282, cont_3#283, ... 43 more fields]\n                     +- Project [id#260, cat_0#261, cat_1#262, cat_2#263, cat_3#264, cat_4#265, cat_5#266, cat_6#267, cat_7#268, cat_8#269, cat_9#270, cat_10#271, cat_11#272, cat_12#273, cat_13#274, cat_14#275, cat_15#276, cat_16#277, cat_17#278, cat_18#279, cont_0#280, cont_1#281, cont_2#282, cont_3#283, ... 42 more fields]\n                        +- Project [id#260, cat_0#261, cat_1#262, cat_2#263, cat_3#264, cat_4#265, cat_5#266, cat_6#267, cat_7#268, cat_8#269, cat_9#270, cat_10#271, cat_11#272, cat_12#273, cat_13#274, cat_14#275, cat_15#276, cat_16#277, cat_17#278, cat_18#279, cont_0#280, cont_1#281, cont_2#282, cont_3#283, ... 41 more fields]\n                           +- Project [id#260, cat_0#261, cat_1#262, cat_2#263, cat_3#264, cat_4#265, cat_5#266, cat_6#267, cat_7#268, cat_8#269, cat_9#270, cat_10#271, cat_11#272, cat_12#273, cat_13#274, cat_14#275, cat_15#276, cat_16#277, cat_17#278, cat_18#279, cont_0#280, cont_1#281, cont_2#282, cont_3#283, ... 40 more fields]\n                              +- Project [id#260, cat_0#261, cat_1#262, cat_2#263, cat_3#264, cat_4#265, cat_5#266, cat_6#267, cat_7#268, cat_8#269, cat_9#270, cat_10#271, cat_11#272, cat_12#273, cat_13#274, cat_14#275, cat_15#276, cat_16#277, cat_17#278, cat_18#279, cont_0#280, cont_1#281, cont_2#282, cont_3#283, ... 39 more fields]\n                                 +- Project [id#260, cat_0#261, cat_1#262, cat_2#263, cat_3#264, cat_4#265, cat_5#266, cat_6#267, cat_7#268, cat_8#269, cat_9#270, cat_10#271, cat_11#272, cat_12#273, cat_13#274, cat_14#275, cat_15#276, cat_16#277, cat_17#278, cat_18#279, cont_0#280, cont_1#281, cont_2#282, cont_3#283, ... 38 more fields]\n                                    +- Project [id#260, cat_0#261, cat_1#262, cat_2#263, cat_3#264, cat_4#265, cat_5#266, cat_6#267, cat_7#268, cat_8#269, cat_9#270, cat_10#271, cat_11#272, cat_12#273, cat_13#274, cat_14#275, cat_15#276, cat_16#277, cat_17#278, cat_18#279, cont_0#280, cont_1#281, cont_2#282, cont_3#283, ... 37 more fields]\n                                       +- Project [id#260, cat_0#261, cat_1#262, cat_2#263, cat_3#264, cat_4#265, cat_5#266, cat_6#267, cat_7#268, cat_8#269, cat_9#270, cat_10#271, cat_11#272, cat_12#273, cat_13#274, cat_14#275, cat_15#276, cat_16#277, cat_17#278, cat_18#279, cont_0#280, cont_1#281, cont_2#282, cont_3#283, ... 36 more fields]\n                                          +- Project [id#260, cat_0#261, cat_1#262, cat_2#263, cat_3#264, cat_4#265, cat_5#266, cat_6#267, cat_7#268, cat_8#269, cat_9#270, cat_10#271, cat_11#272, cat_12#273, cat_13#274, cat_14#275, cat_15#276, cat_16#277, cat_17#278, cat_18#279, cont_0#280, cont_1#281, cont_2#282, cont_3#283, ... 35 more fields]\n                                             +- Project [id#260, cat_0#261, cat_1#262, cat_2#263, cat_3#264, cat_4#265, cat_5#266, cat_6#267, cat_7#268, cat_8#269, cat_9#270, cat_10#271, cat_11#272, cat_12#273, cat_13#274, cat_14#275, cat_15#276, cat_16#277, cat_17#278, cat_18#279, cont_0#280, cont_1#281, cont_2#282, cont_3#283, ... 34 more fields]\n                                                +- Project [id#260, cat_0#261, cat_1#262, cat_2#263, cat_3#264, cat_4#265, cat_5#266, cat_6#267, cat_7#268, cat_8#269, cat_9#270, cat_10#271, cat_11#272, cat_12#273, cat_13#274, cat_14#275, cat_15#276, cat_16#277, cat_17#278, cat_18#279, cont_0#280, cont_1#281, cont_2#282, cont_3#283, ... 33 more fields]\n                                                   +- Project [id#260, cat_0#261, cat_1#262, cat_2#263, cat_3#264, cat_4#265, cat_5#266, cat_6#267, cat_7#268, cat_8#269, cat_9#270, cat_10#271, cat_11#272, cat_12#273, cat_13#274, cat_14#275, cat_15#276, cat_16#277, cat_17#278, cat_18#279, cont_0#280, cont_1#281, cont_2#282, cont_3#283, ... 32 more fields]\n                                                      +- Project [id#260, cat_0#261, cat_1#262, cat_2#263, cat_3#264, cat_4#265, cat_5#266, cat_6#267, cat_7#268, cat_8#269, cat_9#270, cat_10#271, cat_11#272, cat_12#273, cat_13#274, cat_14#275, cat_15#276, cat_16#277, cat_17#278, cat_18#279, cont_0#280, cont_1#281, cont_2#282, cont_3#283, ... 31 more fields]\n                                                         +- Project [id#260, cat_0#261, cat_1#262, cat_2#263, cat_3#264, cat_4#265, cat_5#266, cat_6#267, cat_7#268, cat_8#269, cat_9#270, cat_10#271, cat_11#272, cat_12#273, cat_13#274, cat_14#275, cat_15#276, cat_16#277, cat_17#278, cat_18#279, cont_0#280, cont_1#281, cont_2#282, cont_3#283, ... 30 more fields]\n                                                            +- Project [id#260, cat_0#261, cat_1#262, cat_2#263, cat_3#264, cat_4#265, cat_5#266, cat_6#267, cat_7#268, cat_8#269, cat_9#270, cat_10#271, cat_11#272, cat_12#273, cat_13#274, cat_14#275, cat_15#276, cat_16#277, cat_17#278, cat_18#279, cont_0#280, cont_1#281, cont_2#282, cont_3#283, ... 29 more fields]\n                                                               +- Project [id#260, cat_0#261, cat_1#262, cat_2#263, cat_3#264, cat_4#265, cat_5#266, cat_6#267, cat_7#268, cat_8#269, cat_9#270, cat_10#271, cat_11#272, cat_12#273, cat_13#274, cat_14#275, cat_15#276, cat_16#277, cat_17#278, cat_18#279, cont_0#280, cont_1#281, cont_2#282, cont_3#283, ... 28 more fields]\n                                                                  +- Project [id#260, cat_0#261, cat_1#262, cat_2#263, cat_3#264, cat_4#265, cat_5#266, cat_6#267, cat_7#268, cat_8#269, cat_9#270, cat_10#271, cat_11#272, cat_12#273, cat_13#274, cat_14#275, cat_15#276, cat_16#277, cat_17#278, cat_18#279, cont_0#280, cont_1#281, cont_2#282, cont_3#283, ... 27 more fields]\n                                                                     +- Project [id#260, cat_0#261, cat_1#262, cat_2#263, cat_3#264, cat_4#265, cat_5#266, cat_6#267, cat_7#268, cat_8#269, cat_9#270, cat_10#271, cat_11#272, cat_12#273, cat_13#274, cat_14#275, cat_15#276, cat_16#277, cat_17#278, cat_18#279, cont_0#280, cont_1#281, cont_2#282, cont_3#283, ... 26 more fields]\n                                                                        +- Project [id#260, cat_0#261, cat_1#262, cat_2#263, cat_3#264, cat_4#265, cat_5#266, cat_6#267, cat_7#268, cat_8#269, cat_9#270, cat_10#271, cat_11#272, cat_12#273, cat_13#274, cat_14#275, cat_15#276, cat_16#277, cat_17#278, cat_18#279, cont_0#280, cont_1#281, cont_2#282, cont_3#283, ... 25 more fields]\n                                                                           +- Project [id#260, cat_0#261, cat_1#262, cat_2#263, cat_3#264, cat_4#265, cat_5#266, cat_6#267, cat_7#268, cat_8#269, cat_9#270, cat_10#271, cat_11#272, cat_12#273, cat_13#274, cat_14#275, cat_15#276, cat_16#277, cat_17#278, cat_18#279, cont_0#280, cont_1#281, cont_2#282, cont_3#283, ... 24 more fields]\n                                                                              +- Project [id#260, cat_0#261, cat_1#262, cat_2#263, cat_3#264, cat_4#265, cat_5#266, cat_6#267, cat_7#268, cat_8#269, cat_9#270, cat_10#271, cat_11#272, cat_12#273, cat_13#274, cat_14#275, cat_15#276, cat_16#277, cat_17#278, cat_18#279, cont_0#280, cont_1#281, cont_2#282, cont_3#283, ... 23 more fields]\n                                                                                 +- Project [id#260, cat_0#261, cat_1#262, cat_2#263, cat_3#264, cat_4#265, cat_5#266, cat_6#267, cat_7#268, cat_8#269, cat_9#270, cat_10#271, cat_11#272, cat_12#273, cat_13#274, cat_14#275, cat_15#276, cat_16#277, cat_17#278, cat_18#279, cont_0#280, cont_1#281, cont_2#282, cont_3#283, ... 22 more fields]\n                                                                                    +- Project [id#260, cat_0#261, cat_1#262, cat_2#263, cat_3#264, cat_4#265, cat_5#266, cat_6#267, cat_7#268, cat_8#269, cat_9#270, cat_10#271, cat_11#272, cat_12#273, cat_13#274, cat_14#275, cat_15#276, cat_16#277, cat_17#278, cat_18#279, cont_0#280, cont_1#281, cont_2#282, cont_3#283, ... 21 more fields]\n                                                                                       +- Project [id#260, cat_0#261, cat_1#262, cat_2#263, cat_3#264, cat_4#265, cat_5#266, cat_6#267, cat_7#268, cat_8#269, cat_9#270, cat_10#271, cat_11#272, cat_12#273, cat_13#274, cat_14#275, cat_15#276, cat_16#277, cat_17#278, cat_18#279, cont_0#280, cont_1#281, cont_2#282, cont_3#283, ... 20 more fields]\n                                                                                          +- Project [id#260, cat_0#261, cat_1#262, cat_2#263, cat_3#264, cat_4#265, cat_5#266, cat_6#267, cat_7#268, cat_8#269, cat_9#270, cat_10#271, cat_11#272, cat_12#273, cat_13#274, cat_14#275, cat_15#276, cat_16#277, cat_17#278, cat_18#279, cont_0#280, cont_1#281, cont_2#282, cont_3#283, ... 19 more fields]\n                                                                                             +- Project [id#260, cat_0#261, cat_1#262, cat_2#263, cat_3#264, cat_4#265, cat_5#266, cat_6#267, cat_7#268, cat_8#269, cat_9#270, cat_10#271, cat_11#272, cat_12#273, cat_13#274, cat_14#275, cat_15#276, cat_16#277, cat_17#278, cat_18#279, cont_0#280, cont_1#281, cont_2#282, cont_3#283, ... 18 more fields]\n                                                                                                +- Project [id#260, cat_0#261, cat_1#262, cat_2#263, cat_3#264, cat_4#265, cat_5#266, cat_6#267, cat_7#268, cat_8#269, cat_9#270, cat_10#271, cat_11#272, cat_12#273, cat_13#274, cat_14#275, cat_15#276, cat_16#277, cat_17#278, cat_18#279, cont_0#280, cont_1#281, cont_2#282, cont_3#283, ... 17 more fields]\n                                                                                                   +- Project [id#260, cat_0#261, cat_1#262, cat_2#263, cat_3#264, cat_4#265, cat_5#266, cat_6#267, cat_7#268, cat_8#269, cat_9#270, cat_10#271, cat_11#272, cat_12#273, cat_13#274, cat_14#275, cat_15#276, cat_16#277, cat_17#278, cat_18#279, cont_0#280, cont_1#281, cont_2#282, cont_3#283, ... 16 more fields]\n                                                                                                      +- Project [id#260, cat_0#261, cat_1#262, cat_2#263, cat_3#264, cat_4#265, cat_5#266, cat_6#267, cat_7#268, cat_8#269, cat_9#270, cat_10#271, cat_11#272, cat_12#273, cat_13#274, cat_14#275, cat_15#276, cat_16#277, cat_17#278, cat_18#279, cont_0#280, cont_1#281, cont_2#282, cont_3#283, ... 15 more fields]\n                                                                                                         +- Project [id#260, cat_0#261, cat_1#262, cat_2#263, cat_3#264, cat_4#265, cat_5#266, cat_6#267, cat_7#268, cat_8#269, cat_9#270, cat_10#271, cat_11#272, cat_12#273, cat_13#274, cat_14#275, cat_15#276, cat_16#277, cat_17#278, cat_18#279, cont_0#280, cont_1#281, cont_2#282, cont_3#283, ... 14 more fields]\n                                                                                                            +- Project [id#260, cat_0#261, cat_1#262, cat_2#263, cat_3#264, cat_4#265, cat_5#266, cat_6#267, cat_7#268, cat_8#269, cat_9#270, cat_10#271, cat_11#272, cat_12#273, cat_13#274, cat_14#275, cat_15#276, cat_16#277, cat_17#278, cat_18#279, cont_0#280, cont_1#281, cont_2#282, cont_3#283, ... 13 more fields]\n                                                                                                               +- Project [id#260, cat_0#261, cat_1#262, cat_2#263, cat_3#264, cat_4#265, cat_5#266, cat_6#267, cat_7#268, cat_8#269, cat_9#270, cat_10#271, cat_11#272, cat_12#273, cat_13#274, cat_14#275, cat_15#276, cat_16#277, cat_17#278, cat_18#279, cont_0#280, cont_1#281, cont_2#282, cont_3#283, ... 12 more fields]\n                                                                                                                  +- Project [id#260, cat_0#261, cat_1#262, cat_2#263, cat_3#264, cat_4#265, cat_5#266, cat_6#267, cat_7#268, cat_8#269, cat_9#270, cat_10#271, cat_11#272, cat_12#273, cat_13#274, cat_14#275, cat_15#276, cat_16#277, cat_17#278, cat_18#279, cont_0#280, cont_1#281, cont_2#282, cont_3#283, ... 11 more fields]\n                                                                                                                     +- Project [id#260, cat_0#261, cat_1#262, cat_2#263, cat_3#264, cat_4#265, cat_5#266, cat_6#267, cat_7#268, cat_8#269, cat_9#270, cat_10#271, cat_11#272, cat_12#273, cat_13#274, cat_14#275, cat_15#276, cat_16#277, cat_17#278, cat_18#279, cont_0#280, cont_1#281, cont_2#282, cont_3#283, ... 10 more fields]\n                                                                                                                        +- Project [id#260, cat_0#261, cat_1#262, cat_2#263, cat_3#264, cat_4#265, cat_5#266, cat_6#267, cat_7#268, cat_8#269, cat_9#270, cat_10#271, cat_11#272, cat_12#273, cat_13#274, cat_14#275, cat_15#276, cat_16#277, cat_17#278, cat_18#279, cont_0#280, cont_1#281, cont_2#282, cont_3#283, ... 9 more fields]\n                                                                                                                           +- Project [id#260, cat_0#261, cat_1#262, cat_2#263, cat_3#264, cat_4#265, cat_5#266, cat_6#267, cat_7#268, cat_8#269, cat_9#270, cat_10#271, cat_11#272, cat_12#273, cat_13#274, cat_14#275, cat_15#276, cat_16#277, cat_17#278, cat_18#279, cont_0#280, cont_1#281, cont_2#282, cont_3#283, ... 8 more fields]\n                                                                                                                              +- Relation [id#260,cat_0#261,cat_1#262,cat_2#263,cat_3#264,cat_4#265,cat_5#266,cat_6#267,cat_7#268,cat_8#269,cat_9#270,cat_10#271,cat_11#272,cat_12#273,cat_13#274,cat_14#275,cat_15#276,cat_16#277,cat_17#278,cat_18#279,cont_0#280,cont_1#281,cont_2#282,cont_3#283,... 7 more fields] csv\n"
     ]
    }
   ],
   "source": [
    "from pyspark.mllib.evaluation import BinaryClassificationMetrics\n",
    "\n",
    "#Create RDD tuples for prediction and labels\n",
    "pred_and_labels = rfc_pred.select(\"probability\", \"target\").rdd.map(\n",
    "    lambda row: (float(row[\"probability\"][1]), float(row[\"target\"]))\n",
    ")\n",
    "\n",
    "evaluator= BinaryClassificationMetrics(pred_and_labels)\n",
    "\n",
    "AUC_ev = evaluator.areaUnderROC\n",
    "print(f\"Area Under ROC (AUC): {AUC_ev}\")\n",
    "\n",
    "\n",
    "\n",
    "\n",
    "\n"
   ]
  },
  {
   "cell_type": "code",
   "execution_count": 36,
   "id": "e02dc952",
   "metadata": {},
   "outputs": [
    {
     "ename": "AnalysisException",
     "evalue": "[INVALID_EXTRACT_BASE_FIELD_TYPE] Can't extract a value from \"probability\". Need a complex type [STRUCT, ARRAY, MAP] but got \"STRUCT<type: TINYINT, size: INT, indices: ARRAY<INT>, values: ARRAY<DOUBLE>>\".",
     "output_type": "error",
     "traceback": [
      "\u001b[0;31m---------------------------------------------------------------------------\u001b[0m",
      "\u001b[0;31mAnalysisException\u001b[0m                         Traceback (most recent call last)",
      "Cell \u001b[0;32mIn[36], line 4\u001b[0m\n\u001b[1;32m      1\u001b[0m \u001b[38;5;28;01mfrom\u001b[39;00m \u001b[38;5;21;01mpyspark\u001b[39;00m\u001b[38;5;21;01m.\u001b[39;00m\u001b[38;5;21;01msql\u001b[39;00m\u001b[38;5;21;01m.\u001b[39;00m\u001b[38;5;21;01mfunctions\u001b[39;00m \u001b[38;5;28;01mimport\u001b[39;00m col\n\u001b[1;32m      3\u001b[0m \u001b[38;5;66;03m# Extract the first value of the `values` array\u001b[39;00m\n\u001b[0;32m----> 4\u001b[0m result_df \u001b[38;5;241m=\u001b[39m rfc_pred\u001b[38;5;241m.\u001b[39mselect(\n\u001b[1;32m      5\u001b[0m     col(\u001b[38;5;124m\"\u001b[39m\u001b[38;5;124mid\u001b[39m\u001b[38;5;124m\"\u001b[39m),\n\u001b[1;32m      6\u001b[0m     col(\u001b[38;5;124m\"\u001b[39m\u001b[38;5;124mprobability\u001b[39m\u001b[38;5;124m\"\u001b[39m)\u001b[38;5;241m.\u001b[39mgetField(\u001b[38;5;124m\"\u001b[39m\u001b[38;5;124mvalues\u001b[39m\u001b[38;5;124m\"\u001b[39m)[\u001b[38;5;241m0\u001b[39m]\u001b[38;5;241m.\u001b[39malias(\u001b[38;5;124m\"\u001b[39m\u001b[38;5;124mtarget\u001b[39m\u001b[38;5;124m\"\u001b[39m)  \u001b[38;5;66;03m# Extract first probability\u001b[39;00m\n\u001b[1;32m      7\u001b[0m )\n\u001b[1;32m      9\u001b[0m result_df \u001b[38;5;241m=\u001b[39m result_df\u001b[38;5;241m.\u001b[39mgroupBy(\u001b[38;5;124m\"\u001b[39m\u001b[38;5;124mid\u001b[39m\u001b[38;5;124m\"\u001b[39m, \u001b[38;5;124m\"\u001b[39m\u001b[38;5;124mtarget\u001b[39m\u001b[38;5;124m\"\u001b[39m)\u001b[38;5;241m.\u001b[39mcount()\u001b[38;5;241m.\u001b[39morderBy(\u001b[38;5;124m\"\u001b[39m\u001b[38;5;124mid\u001b[39m\u001b[38;5;124m\"\u001b[39m)\n\u001b[1;32m     11\u001b[0m result_df\u001b[38;5;241m.\u001b[39mcoalesce(\u001b[38;5;241m1\u001b[39m)\u001b[38;5;241m.\u001b[39mwrite\u001b[38;5;241m.\u001b[39mcsv(\u001b[38;5;124m\"\u001b[39m\u001b[38;5;124moutput.csv\u001b[39m\u001b[38;5;124m\"\u001b[39m, header\u001b[38;5;241m=\u001b[39m\u001b[38;5;28;01mTrue\u001b[39;00m)\n",
      "File \u001b[0;32m~/anaconda3/lib/python3.11/site-packages/pyspark/sql/dataframe.py:3229\u001b[0m, in \u001b[0;36mDataFrame.select\u001b[0;34m(self, *cols)\u001b[0m\n\u001b[1;32m   3184\u001b[0m \u001b[38;5;28;01mdef\u001b[39;00m \u001b[38;5;21mselect\u001b[39m(\u001b[38;5;28mself\u001b[39m, \u001b[38;5;241m*\u001b[39mcols: \u001b[38;5;124m\"\u001b[39m\u001b[38;5;124mColumnOrName\u001b[39m\u001b[38;5;124m\"\u001b[39m) \u001b[38;5;241m-\u001b[39m\u001b[38;5;241m>\u001b[39m \u001b[38;5;124m\"\u001b[39m\u001b[38;5;124mDataFrame\u001b[39m\u001b[38;5;124m\"\u001b[39m:  \u001b[38;5;66;03m# type: ignore[misc]\u001b[39;00m\n\u001b[1;32m   3185\u001b[0m \u001b[38;5;250m    \u001b[39m\u001b[38;5;124;03m\"\"\"Projects a set of expressions and returns a new :class:`DataFrame`.\u001b[39;00m\n\u001b[1;32m   3186\u001b[0m \n\u001b[1;32m   3187\u001b[0m \u001b[38;5;124;03m    .. versionadded:: 1.3.0\u001b[39;00m\n\u001b[0;32m   (...)\u001b[0m\n\u001b[1;32m   3227\u001b[0m \u001b[38;5;124;03m    +-----+---+\u001b[39;00m\n\u001b[1;32m   3228\u001b[0m \u001b[38;5;124;03m    \"\"\"\u001b[39;00m\n\u001b[0;32m-> 3229\u001b[0m     jdf \u001b[38;5;241m=\u001b[39m \u001b[38;5;28mself\u001b[39m\u001b[38;5;241m.\u001b[39m_jdf\u001b[38;5;241m.\u001b[39mselect(\u001b[38;5;28mself\u001b[39m\u001b[38;5;241m.\u001b[39m_jcols(\u001b[38;5;241m*\u001b[39mcols))\n\u001b[1;32m   3230\u001b[0m     \u001b[38;5;28;01mreturn\u001b[39;00m DataFrame(jdf, \u001b[38;5;28mself\u001b[39m\u001b[38;5;241m.\u001b[39msparkSession)\n",
      "File \u001b[0;32m~/anaconda3/lib/python3.11/site-packages/py4j/java_gateway.py:1322\u001b[0m, in \u001b[0;36mJavaMember.__call__\u001b[0;34m(self, *args)\u001b[0m\n\u001b[1;32m   1316\u001b[0m command \u001b[38;5;241m=\u001b[39m proto\u001b[38;5;241m.\u001b[39mCALL_COMMAND_NAME \u001b[38;5;241m+\u001b[39m\\\n\u001b[1;32m   1317\u001b[0m     \u001b[38;5;28mself\u001b[39m\u001b[38;5;241m.\u001b[39mcommand_header \u001b[38;5;241m+\u001b[39m\\\n\u001b[1;32m   1318\u001b[0m     args_command \u001b[38;5;241m+\u001b[39m\\\n\u001b[1;32m   1319\u001b[0m     proto\u001b[38;5;241m.\u001b[39mEND_COMMAND_PART\n\u001b[1;32m   1321\u001b[0m answer \u001b[38;5;241m=\u001b[39m \u001b[38;5;28mself\u001b[39m\u001b[38;5;241m.\u001b[39mgateway_client\u001b[38;5;241m.\u001b[39msend_command(command)\n\u001b[0;32m-> 1322\u001b[0m return_value \u001b[38;5;241m=\u001b[39m get_return_value(\n\u001b[1;32m   1323\u001b[0m     answer, \u001b[38;5;28mself\u001b[39m\u001b[38;5;241m.\u001b[39mgateway_client, \u001b[38;5;28mself\u001b[39m\u001b[38;5;241m.\u001b[39mtarget_id, \u001b[38;5;28mself\u001b[39m\u001b[38;5;241m.\u001b[39mname)\n\u001b[1;32m   1325\u001b[0m \u001b[38;5;28;01mfor\u001b[39;00m temp_arg \u001b[38;5;129;01min\u001b[39;00m temp_args:\n\u001b[1;32m   1326\u001b[0m     \u001b[38;5;28;01mif\u001b[39;00m \u001b[38;5;28mhasattr\u001b[39m(temp_arg, \u001b[38;5;124m\"\u001b[39m\u001b[38;5;124m_detach\u001b[39m\u001b[38;5;124m\"\u001b[39m):\n",
      "File \u001b[0;32m~/anaconda3/lib/python3.11/site-packages/pyspark/errors/exceptions/captured.py:185\u001b[0m, in \u001b[0;36mcapture_sql_exception.<locals>.deco\u001b[0;34m(*a, **kw)\u001b[0m\n\u001b[1;32m    181\u001b[0m converted \u001b[38;5;241m=\u001b[39m convert_exception(e\u001b[38;5;241m.\u001b[39mjava_exception)\n\u001b[1;32m    182\u001b[0m \u001b[38;5;28;01mif\u001b[39;00m \u001b[38;5;129;01mnot\u001b[39;00m \u001b[38;5;28misinstance\u001b[39m(converted, UnknownException):\n\u001b[1;32m    183\u001b[0m     \u001b[38;5;66;03m# Hide where the exception came from that shows a non-Pythonic\u001b[39;00m\n\u001b[1;32m    184\u001b[0m     \u001b[38;5;66;03m# JVM exception message.\u001b[39;00m\n\u001b[0;32m--> 185\u001b[0m     \u001b[38;5;28;01mraise\u001b[39;00m converted \u001b[38;5;28;01mfrom\u001b[39;00m \u001b[38;5;28;01mNone\u001b[39;00m\n\u001b[1;32m    186\u001b[0m \u001b[38;5;28;01melse\u001b[39;00m:\n\u001b[1;32m    187\u001b[0m     \u001b[38;5;28;01mraise\u001b[39;00m\n",
      "\u001b[0;31mAnalysisException\u001b[0m: [INVALID_EXTRACT_BASE_FIELD_TYPE] Can't extract a value from \"probability\". Need a complex type [STRUCT, ARRAY, MAP] but got \"STRUCT<type: TINYINT, size: INT, indices: ARRAY<INT>, values: ARRAY<DOUBLE>>\"."
     ]
    }
   ],
   "source": [
    "from pyspark.sql.functions import col\n",
    "\n",
    "# Extract the first value of the `values` array\n",
    "result_df = rfc_pred.select(\n",
    "    col(\"id\"),\n",
    "    col(\"probability\").getField(\"values\")[0].alias(\"target\")  # Extract first probability\n",
    ")\n",
    "\n"
   ]
  },
  {
   "cell_type": "code",
   "execution_count": 33,
   "id": "9068c37d",
   "metadata": {},
   "outputs": [
    {
     "name": "stderr",
     "output_type": "stream",
     "text": [
      "                                                                                \r"
     ]
    },
    {
     "name": "stdout",
     "output_type": "stream",
     "text": [
      "+---+--------------------+\n",
      "| id|              target|\n",
      "+---+--------------------+\n",
      "|  0|[0.81494059562934...|\n",
      "|  1|[0.81860312715800...|\n",
      "|  2|[0.79752493826334...|\n",
      "|  4|[0.80763928024959...|\n",
      "|  5|[0.82983515056094...|\n",
      "|  6|[0.85448389568943...|\n",
      "|  7|[0.77970661478327...|\n",
      "|  8|[0.77383271412111...|\n",
      "| 10|[0.84022548788598...|\n",
      "| 12|[0.90510428628710...|\n",
      "| 17|[0.81486498998818...|\n",
      "| 18|[0.91278484631565...|\n",
      "| 21|[0.83369354560148...|\n",
      "| 23|[0.88797550992108...|\n",
      "| 24|[0.66267543703615...|\n",
      "| 25|[0.87357822036442...|\n",
      "| 28|[0.79377719533426...|\n",
      "| 29|[0.78024685511358...|\n",
      "| 30|[0.82998543243472...|\n",
      "| 32|[0.80204021184933...|\n",
      "+---+--------------------+\n",
      "only showing top 20 rows\n",
      "\n"
     ]
    },
    {
     "name": "stderr",
     "output_type": "stream",
     "text": [
      "                                                                                \r"
     ]
    },
    {
     "ename": "AnalysisException",
     "evalue": "[UNSUPPORTED_DATA_TYPE_FOR_DATASOURCE] The CSV datasource doesn't support the column `target` of the type \"STRUCT<type: TINYINT, size: INT, indices: ARRAY<INT>, values: ARRAY<DOUBLE>>\".",
     "output_type": "error",
     "traceback": [
      "\u001b[0;31m---------------------------------------------------------------------------\u001b[0m",
      "\u001b[0;31mAnalysisException\u001b[0m                         Traceback (most recent call last)",
      "Cell \u001b[0;32mIn[33], line 12\u001b[0m\n\u001b[1;32m      3\u001b[0m result_df\u001b[38;5;241m=\u001b[39mspark\u001b[38;5;241m.\u001b[39msql(\u001b[38;5;124m\"\"\"\u001b[39m\n\u001b[1;32m      4\u001b[0m \u001b[38;5;124m        SELECT id, probability as target\u001b[39m\n\u001b[1;32m      5\u001b[0m \u001b[38;5;124m        FROM rfc_pred\u001b[39m\n\u001b[0;32m   (...)\u001b[0m\n\u001b[1;32m      8\u001b[0m \n\u001b[1;32m      9\u001b[0m \u001b[38;5;124m\"\"\"\u001b[39m)\n\u001b[1;32m     10\u001b[0m result_df\u001b[38;5;241m.\u001b[39mshow()\n\u001b[0;32m---> 12\u001b[0m result_df\u001b[38;5;241m.\u001b[39mcoalesce(\u001b[38;5;241m1\u001b[39m)\u001b[38;5;241m.\u001b[39mwrite\u001b[38;5;241m.\u001b[39mcsv(\u001b[38;5;124m\"\u001b[39m\u001b[38;5;124moutput.csv\u001b[39m\u001b[38;5;124m\"\u001b[39m, header\u001b[38;5;241m=\u001b[39m\u001b[38;5;28;01mTrue\u001b[39;00m)\n",
      "File \u001b[0;32m~/anaconda3/lib/python3.11/site-packages/pyspark/sql/readwriter.py:1864\u001b[0m, in \u001b[0;36mDataFrameWriter.csv\u001b[0;34m(self, path, mode, compression, sep, quote, escape, header, nullValue, escapeQuotes, quoteAll, dateFormat, timestampFormat, ignoreLeadingWhiteSpace, ignoreTrailingWhiteSpace, charToEscapeQuoteEscaping, encoding, emptyValue, lineSep)\u001b[0m\n\u001b[1;32m   1845\u001b[0m \u001b[38;5;28mself\u001b[39m\u001b[38;5;241m.\u001b[39mmode(mode)\n\u001b[1;32m   1846\u001b[0m \u001b[38;5;28mself\u001b[39m\u001b[38;5;241m.\u001b[39m_set_opts(\n\u001b[1;32m   1847\u001b[0m     compression\u001b[38;5;241m=\u001b[39mcompression,\n\u001b[1;32m   1848\u001b[0m     sep\u001b[38;5;241m=\u001b[39msep,\n\u001b[0;32m   (...)\u001b[0m\n\u001b[1;32m   1862\u001b[0m     lineSep\u001b[38;5;241m=\u001b[39mlineSep,\n\u001b[1;32m   1863\u001b[0m )\n\u001b[0;32m-> 1864\u001b[0m \u001b[38;5;28mself\u001b[39m\u001b[38;5;241m.\u001b[39m_jwrite\u001b[38;5;241m.\u001b[39mcsv(path)\n",
      "File \u001b[0;32m~/anaconda3/lib/python3.11/site-packages/py4j/java_gateway.py:1322\u001b[0m, in \u001b[0;36mJavaMember.__call__\u001b[0;34m(self, *args)\u001b[0m\n\u001b[1;32m   1316\u001b[0m command \u001b[38;5;241m=\u001b[39m proto\u001b[38;5;241m.\u001b[39mCALL_COMMAND_NAME \u001b[38;5;241m+\u001b[39m\\\n\u001b[1;32m   1317\u001b[0m     \u001b[38;5;28mself\u001b[39m\u001b[38;5;241m.\u001b[39mcommand_header \u001b[38;5;241m+\u001b[39m\\\n\u001b[1;32m   1318\u001b[0m     args_command \u001b[38;5;241m+\u001b[39m\\\n\u001b[1;32m   1319\u001b[0m     proto\u001b[38;5;241m.\u001b[39mEND_COMMAND_PART\n\u001b[1;32m   1321\u001b[0m answer \u001b[38;5;241m=\u001b[39m \u001b[38;5;28mself\u001b[39m\u001b[38;5;241m.\u001b[39mgateway_client\u001b[38;5;241m.\u001b[39msend_command(command)\n\u001b[0;32m-> 1322\u001b[0m return_value \u001b[38;5;241m=\u001b[39m get_return_value(\n\u001b[1;32m   1323\u001b[0m     answer, \u001b[38;5;28mself\u001b[39m\u001b[38;5;241m.\u001b[39mgateway_client, \u001b[38;5;28mself\u001b[39m\u001b[38;5;241m.\u001b[39mtarget_id, \u001b[38;5;28mself\u001b[39m\u001b[38;5;241m.\u001b[39mname)\n\u001b[1;32m   1325\u001b[0m \u001b[38;5;28;01mfor\u001b[39;00m temp_arg \u001b[38;5;129;01min\u001b[39;00m temp_args:\n\u001b[1;32m   1326\u001b[0m     \u001b[38;5;28;01mif\u001b[39;00m \u001b[38;5;28mhasattr\u001b[39m(temp_arg, \u001b[38;5;124m\"\u001b[39m\u001b[38;5;124m_detach\u001b[39m\u001b[38;5;124m\"\u001b[39m):\n",
      "File \u001b[0;32m~/anaconda3/lib/python3.11/site-packages/pyspark/errors/exceptions/captured.py:185\u001b[0m, in \u001b[0;36mcapture_sql_exception.<locals>.deco\u001b[0;34m(*a, **kw)\u001b[0m\n\u001b[1;32m    181\u001b[0m converted \u001b[38;5;241m=\u001b[39m convert_exception(e\u001b[38;5;241m.\u001b[39mjava_exception)\n\u001b[1;32m    182\u001b[0m \u001b[38;5;28;01mif\u001b[39;00m \u001b[38;5;129;01mnot\u001b[39;00m \u001b[38;5;28misinstance\u001b[39m(converted, UnknownException):\n\u001b[1;32m    183\u001b[0m     \u001b[38;5;66;03m# Hide where the exception came from that shows a non-Pythonic\u001b[39;00m\n\u001b[1;32m    184\u001b[0m     \u001b[38;5;66;03m# JVM exception message.\u001b[39;00m\n\u001b[0;32m--> 185\u001b[0m     \u001b[38;5;28;01mraise\u001b[39;00m converted \u001b[38;5;28;01mfrom\u001b[39;00m \u001b[38;5;28;01mNone\u001b[39;00m\n\u001b[1;32m    186\u001b[0m \u001b[38;5;28;01melse\u001b[39;00m:\n\u001b[1;32m    187\u001b[0m     \u001b[38;5;28;01mraise\u001b[39;00m\n",
      "\u001b[0;31mAnalysisException\u001b[0m: [UNSUPPORTED_DATA_TYPE_FOR_DATASOURCE] The CSV datasource doesn't support the column `target` of the type \"STRUCT<type: TINYINT, size: INT, indices: ARRAY<INT>, values: ARRAY<DOUBLE>>\"."
     ]
    }
   ],
   "source": [
    "rfc_pred.createOrReplaceTempView(\"rfc_pred\")\n",
    "\n",
    "result_df=spark.sql(\"\"\"\n",
    "        SELECT id, probability as target\n",
    "        FROM rfc_pred\n",
    "        GROUP BY id, probability\n",
    "        ORDER BY id \n",
    "\n",
    "\"\"\")\n",
    "result_df.show()\n",
    "\n",
    "result_df.coalesce(1).write.csv(\"output.csv\", header=True)"
   ]
  },
  {
   "cell_type": "markdown",
   "id": "5d981f94",
   "metadata": {},
   "source": [
    "# GENERATE THE CSV FILE AND ID AUC´s"
   ]
  },
  {
   "cell_type": "code",
   "execution_count": null,
   "id": "f67297a6",
   "metadata": {},
   "outputs": [],
   "source": []
  }
 ],
 "metadata": {
  "kernelspec": {
   "display_name": "Python 3 (ipykernel)",
   "language": "python",
   "name": "python3"
  },
  "language_info": {
   "codemirror_mode": {
    "name": "ipython",
    "version": 3
   },
   "file_extension": ".py",
   "mimetype": "text/x-python",
   "name": "python",
   "nbconvert_exporter": "python",
   "pygments_lexer": "ipython3",
   "version": "3.11.4"
  }
 },
 "nbformat": 4,
 "nbformat_minor": 5
}
