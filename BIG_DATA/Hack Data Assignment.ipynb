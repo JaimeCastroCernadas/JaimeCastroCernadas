{
 "cells": [
  {
   "cell_type": "code",
   "execution_count": 6,
   "id": "6772074b",
   "metadata": {},
   "outputs": [],
   "source": [
    "!pip install -q findspark"
   ]
  },
  {
   "cell_type": "code",
   "execution_count": 7,
   "id": "4383915d",
   "metadata": {},
   "outputs": [],
   "source": [
    "from pyspark.sql import SparkSession\n",
    "name= \"Hack_Data\"\n",
    "\n",
    "spark= SparkSession.builder.appName(name).master(\"local[*]\").getOrCreate()"
   ]
  },
  {
   "cell_type": "code",
   "execution_count": 8,
   "id": "282a74fe",
   "metadata": {},
   "outputs": [
    {
     "data": {
      "text/html": [
       "\n",
       "            <div>\n",
       "                <p><b>SparkSession - in-memory</b></p>\n",
       "                \n",
       "        <div>\n",
       "            <p><b>SparkContext</b></p>\n",
       "\n",
       "            <p><a href=\"http://192.168.1.138:4040\">Spark UI</a></p>\n",
       "\n",
       "            <dl>\n",
       "              <dt>Version</dt>\n",
       "                <dd><code>v3.5.3</code></dd>\n",
       "              <dt>Master</dt>\n",
       "                <dd><code>local[*]</code></dd>\n",
       "              <dt>AppName</dt>\n",
       "                <dd><code>Hack_Data</code></dd>\n",
       "            </dl>\n",
       "        </div>\n",
       "        \n",
       "            </div>\n",
       "        "
      ],
      "text/plain": [
       "<pyspark.sql.session.SparkSession at 0x10bcda090>"
      ]
     },
     "execution_count": 8,
     "metadata": {},
     "output_type": "execute_result"
    }
   ],
   "source": [
    "spark"
   ]
  },
  {
   "cell_type": "markdown",
   "id": "0261ab26",
   "metadata": {},
   "source": [
    " ## Import data from Kaggle "
   ]
  },
  {
   "cell_type": "code",
   "execution_count": 12,
   "id": "6b76619f",
   "metadata": {},
   "outputs": [
    {
     "name": "stdout",
     "output_type": "stream",
     "text": [
      "Path to dataset files: /Users/jaimecastro/.cache/kagglehub/datasets/soheiltehranipour/sample-hack-data/versions/1\n"
     ]
    },
    {
     "data": {
      "text/html": [
       "<div>\n",
       "<style scoped>\n",
       "    .dataframe tbody tr th:only-of-type {\n",
       "        vertical-align: middle;\n",
       "    }\n",
       "\n",
       "    .dataframe tbody tr th {\n",
       "        vertical-align: top;\n",
       "    }\n",
       "\n",
       "    .dataframe thead th {\n",
       "        text-align: right;\n",
       "    }\n",
       "</style>\n",
       "<table border=\"1\" class=\"dataframe\">\n",
       "  <thead>\n",
       "    <tr style=\"text-align: right;\">\n",
       "      <th></th>\n",
       "      <th>Session_Connection_Time</th>\n",
       "      <th>Bytes Transferred</th>\n",
       "      <th>Kali_Trace_Used</th>\n",
       "      <th>Servers_Corrupted</th>\n",
       "      <th>Pages_Corrupted</th>\n",
       "      <th>Location</th>\n",
       "      <th>WPM_Typing_Speed</th>\n",
       "    </tr>\n",
       "  </thead>\n",
       "  <tbody>\n",
       "    <tr>\n",
       "      <th>0</th>\n",
       "      <td>8</td>\n",
       "      <td>391.09</td>\n",
       "      <td>1</td>\n",
       "      <td>2.96</td>\n",
       "      <td>7</td>\n",
       "      <td>Slovenia</td>\n",
       "      <td>72.37</td>\n",
       "    </tr>\n",
       "    <tr>\n",
       "      <th>1</th>\n",
       "      <td>20</td>\n",
       "      <td>720.99</td>\n",
       "      <td>0</td>\n",
       "      <td>3.04</td>\n",
       "      <td>9</td>\n",
       "      <td>British Virgin Islands</td>\n",
       "      <td>69.08</td>\n",
       "    </tr>\n",
       "    <tr>\n",
       "      <th>2</th>\n",
       "      <td>31</td>\n",
       "      <td>356.32</td>\n",
       "      <td>1</td>\n",
       "      <td>3.71</td>\n",
       "      <td>8</td>\n",
       "      <td>Tokelau</td>\n",
       "      <td>70.58</td>\n",
       "    </tr>\n",
       "    <tr>\n",
       "      <th>3</th>\n",
       "      <td>2</td>\n",
       "      <td>228.08</td>\n",
       "      <td>1</td>\n",
       "      <td>2.48</td>\n",
       "      <td>8</td>\n",
       "      <td>Bolivia</td>\n",
       "      <td>70.80</td>\n",
       "    </tr>\n",
       "    <tr>\n",
       "      <th>4</th>\n",
       "      <td>20</td>\n",
       "      <td>408.50</td>\n",
       "      <td>0</td>\n",
       "      <td>3.57</td>\n",
       "      <td>8</td>\n",
       "      <td>Iraq</td>\n",
       "      <td>71.28</td>\n",
       "    </tr>\n",
       "  </tbody>\n",
       "</table>\n",
       "</div>"
      ],
      "text/plain": [
       "   Session_Connection_Time  Bytes Transferred  Kali_Trace_Used  \\\n",
       "0                        8             391.09                1   \n",
       "1                       20             720.99                0   \n",
       "2                       31             356.32                1   \n",
       "3                        2             228.08                1   \n",
       "4                       20             408.50                0   \n",
       "\n",
       "   Servers_Corrupted  Pages_Corrupted                Location  \\\n",
       "0               2.96                7                Slovenia   \n",
       "1               3.04                9  British Virgin Islands   \n",
       "2               3.71                8                 Tokelau   \n",
       "3               2.48                8                 Bolivia   \n",
       "4               3.57                8                    Iraq   \n",
       "\n",
       "   WPM_Typing_Speed  \n",
       "0             72.37  \n",
       "1             69.08  \n",
       "2             70.58  \n",
       "3             70.80  \n",
       "4             71.28  "
      ]
     },
     "execution_count": 12,
     "metadata": {},
     "output_type": "execute_result"
    }
   ],
   "source": [
    "import kagglehub\n",
    "\n",
    "# Download latest version\n",
    "path = kagglehub.dataset_download(\"soheiltehranipour/sample-hack-data\")\n",
    "\n",
    "print(\"Path to dataset files:\", path)\n",
    "\n",
    "hack_df = spark.read.csv(path, header=True, inferSchema=True)\n",
    "\n",
    "# Show the first few rows\n",
    "hack_df.toPandas().head()"
   ]
  },
  {
   "cell_type": "code",
   "execution_count": 13,
   "id": "0f312340",
   "metadata": {},
   "outputs": [
    {
     "name": "stdout",
     "output_type": "stream",
     "text": [
      "root\n",
      " |-- Session_Connection_Time: integer (nullable = true)\n",
      " |-- Bytes Transferred: double (nullable = true)\n",
      " |-- Kali_Trace_Used: integer (nullable = true)\n",
      " |-- Servers_Corrupted: double (nullable = true)\n",
      " |-- Pages_Corrupted: integer (nullable = true)\n",
      " |-- Location: string (nullable = true)\n",
      " |-- WPM_Typing_Speed: double (nullable = true)\n",
      "\n"
     ]
    }
   ],
   "source": [
    "hack_df.printSchema()"
   ]
  },
  {
   "cell_type": "code",
   "execution_count": 18,
   "id": "6106137e",
   "metadata": {},
   "outputs": [
    {
     "data": {
      "text/html": [
       "<div>\n",
       "<style scoped>\n",
       "    .dataframe tbody tr th:only-of-type {\n",
       "        vertical-align: middle;\n",
       "    }\n",
       "\n",
       "    .dataframe tbody tr th {\n",
       "        vertical-align: top;\n",
       "    }\n",
       "\n",
       "    .dataframe thead th {\n",
       "        text-align: right;\n",
       "    }\n",
       "</style>\n",
       "<table border=\"1\" class=\"dataframe\">\n",
       "  <thead>\n",
       "    <tr style=\"text-align: right;\">\n",
       "      <th></th>\n",
       "      <th>Session_Connection_Time</th>\n",
       "      <th>Bytes Transferred</th>\n",
       "      <th>Kali_Trace_Used</th>\n",
       "      <th>Servers_Corrupted</th>\n",
       "      <th>Pages_Corrupted</th>\n",
       "      <th>WPM_Typing_Speed</th>\n",
       "    </tr>\n",
       "  </thead>\n",
       "  <tbody>\n",
       "    <tr>\n",
       "      <th>count</th>\n",
       "      <td>334.000000</td>\n",
       "      <td>334.000000</td>\n",
       "      <td>334.000000</td>\n",
       "      <td>334.000000</td>\n",
       "      <td>334.000000</td>\n",
       "      <td>334.000000</td>\n",
       "    </tr>\n",
       "    <tr>\n",
       "      <th>mean</th>\n",
       "      <td>30.008982</td>\n",
       "      <td>607.245269</td>\n",
       "      <td>0.511976</td>\n",
       "      <td>5.258503</td>\n",
       "      <td>10.838323</td>\n",
       "      <td>57.342395</td>\n",
       "    </tr>\n",
       "    <tr>\n",
       "      <th>std</th>\n",
       "      <td>14.088201</td>\n",
       "      <td>286.335932</td>\n",
       "      <td>0.500607</td>\n",
       "      <td>2.301907</td>\n",
       "      <td>3.063526</td>\n",
       "      <td>13.411063</td>\n",
       "    </tr>\n",
       "    <tr>\n",
       "      <th>min</th>\n",
       "      <td>1.000000</td>\n",
       "      <td>10.000000</td>\n",
       "      <td>0.000000</td>\n",
       "      <td>1.000000</td>\n",
       "      <td>6.000000</td>\n",
       "      <td>40.000000</td>\n",
       "    </tr>\n",
       "    <tr>\n",
       "      <th>25%</th>\n",
       "      <td>18.000000</td>\n",
       "      <td>372.200000</td>\n",
       "      <td>0.000000</td>\n",
       "      <td>3.122500</td>\n",
       "      <td>8.000000</td>\n",
       "      <td>44.127500</td>\n",
       "    </tr>\n",
       "    <tr>\n",
       "      <th>50%</th>\n",
       "      <td>31.000000</td>\n",
       "      <td>601.650000</td>\n",
       "      <td>1.000000</td>\n",
       "      <td>5.285000</td>\n",
       "      <td>10.500000</td>\n",
       "      <td>57.840000</td>\n",
       "    </tr>\n",
       "    <tr>\n",
       "      <th>75%</th>\n",
       "      <td>42.000000</td>\n",
       "      <td>843.702500</td>\n",
       "      <td>1.000000</td>\n",
       "      <td>7.400000</td>\n",
       "      <td>14.000000</td>\n",
       "      <td>70.577500</td>\n",
       "    </tr>\n",
       "    <tr>\n",
       "      <th>max</th>\n",
       "      <td>60.000000</td>\n",
       "      <td>1330.500000</td>\n",
       "      <td>1.000000</td>\n",
       "      <td>10.000000</td>\n",
       "      <td>15.000000</td>\n",
       "      <td>75.000000</td>\n",
       "    </tr>\n",
       "  </tbody>\n",
       "</table>\n",
       "</div>"
      ],
      "text/plain": [
       "       Session_Connection_Time  Bytes Transferred  Kali_Trace_Used  \\\n",
       "count               334.000000         334.000000       334.000000   \n",
       "mean                 30.008982         607.245269         0.511976   \n",
       "std                  14.088201         286.335932         0.500607   \n",
       "min                   1.000000          10.000000         0.000000   \n",
       "25%                  18.000000         372.200000         0.000000   \n",
       "50%                  31.000000         601.650000         1.000000   \n",
       "75%                  42.000000         843.702500         1.000000   \n",
       "max                  60.000000        1330.500000         1.000000   \n",
       "\n",
       "       Servers_Corrupted  Pages_Corrupted  WPM_Typing_Speed  \n",
       "count         334.000000       334.000000        334.000000  \n",
       "mean            5.258503        10.838323         57.342395  \n",
       "std             2.301907         3.063526         13.411063  \n",
       "min             1.000000         6.000000         40.000000  \n",
       "25%             3.122500         8.000000         44.127500  \n",
       "50%             5.285000        10.500000         57.840000  \n",
       "75%             7.400000        14.000000         70.577500  \n",
       "max            10.000000        15.000000         75.000000  "
      ]
     },
     "execution_count": 18,
     "metadata": {},
     "output_type": "execute_result"
    }
   ],
   "source": [
    "hack_df.toPandas().describe()"
   ]
  },
  {
   "cell_type": "markdown",
   "id": "fe8f23d2",
   "metadata": {},
   "source": [
    "# EDA"
   ]
  },
  {
   "cell_type": "code",
   "execution_count": 23,
   "id": "821aff92",
   "metadata": {},
   "outputs": [
    {
     "data": {
      "text/plain": [
       "181"
      ]
     },
     "execution_count": 23,
     "metadata": {},
     "output_type": "execute_result"
    }
   ],
   "source": [
    "hack_df.select(\"Location\").distinct().count()"
   ]
  },
  {
   "cell_type": "markdown",
   "id": "71b35b48",
   "metadata": {},
   "source": [
    "# Data preprocessing"
   ]
  },
  {
   "cell_type": "markdown",
   "id": "b3408f54",
   "metadata": {},
   "source": [
    "Pipelines: Vector assembler and data scaling\n"
   ]
  },
  {
   "cell_type": "code",
   "execution_count": 34,
   "id": "724f1e97",
   "metadata": {},
   "outputs": [
    {
     "data": {
      "text/html": [
       "<div>\n",
       "<style scoped>\n",
       "    .dataframe tbody tr th:only-of-type {\n",
       "        vertical-align: middle;\n",
       "    }\n",
       "\n",
       "    .dataframe tbody tr th {\n",
       "        vertical-align: top;\n",
       "    }\n",
       "\n",
       "    .dataframe thead th {\n",
       "        text-align: right;\n",
       "    }\n",
       "</style>\n",
       "<table border=\"1\" class=\"dataframe\">\n",
       "  <thead>\n",
       "    <tr style=\"text-align: right;\">\n",
       "      <th></th>\n",
       "      <th>Session_Connection_Time</th>\n",
       "      <th>Bytes Transferred</th>\n",
       "      <th>Kali_Trace_Used</th>\n",
       "      <th>Servers_Corrupted</th>\n",
       "      <th>Pages_Corrupted</th>\n",
       "      <th>Location</th>\n",
       "      <th>WPM_Typing_Speed</th>\n",
       "      <th>features</th>\n",
       "      <th>scaled_features</th>\n",
       "    </tr>\n",
       "  </thead>\n",
       "  <tbody>\n",
       "    <tr>\n",
       "      <th>0</th>\n",
       "      <td>8</td>\n",
       "      <td>391.09</td>\n",
       "      <td>1</td>\n",
       "      <td>2.96</td>\n",
       "      <td>7</td>\n",
       "      <td>Slovenia</td>\n",
       "      <td>72.37</td>\n",
       "      <td>[8.0, 391.09, 1.0, 2.96, 7.0, 72.37]</td>\n",
       "      <td>[0.5678510846650524, 1.3658432518957642, 1.997...</td>\n",
       "    </tr>\n",
       "    <tr>\n",
       "      <th>1</th>\n",
       "      <td>20</td>\n",
       "      <td>720.99</td>\n",
       "      <td>0</td>\n",
       "      <td>3.04</td>\n",
       "      <td>9</td>\n",
       "      <td>British Virgin Islands</td>\n",
       "      <td>69.08</td>\n",
       "      <td>[20.0, 720.99, 0.0, 3.04, 9.0, 69.08]</td>\n",
       "      <td>[1.419627711662631, 2.517986463945197, 0.0, 1....</td>\n",
       "    </tr>\n",
       "    <tr>\n",
       "      <th>2</th>\n",
       "      <td>31</td>\n",
       "      <td>356.32</td>\n",
       "      <td>1</td>\n",
       "      <td>3.71</td>\n",
       "      <td>8</td>\n",
       "      <td>Tokelau</td>\n",
       "      <td>70.58</td>\n",
       "      <td>[31.0, 356.32, 1.0, 3.71, 8.0, 70.58]</td>\n",
       "      <td>[2.2004229530770782, 1.2444124562517545, 1.997...</td>\n",
       "    </tr>\n",
       "    <tr>\n",
       "      <th>3</th>\n",
       "      <td>2</td>\n",
       "      <td>228.08</td>\n",
       "      <td>1</td>\n",
       "      <td>2.48</td>\n",
       "      <td>8</td>\n",
       "      <td>Bolivia</td>\n",
       "      <td>70.80</td>\n",
       "      <td>[2.0, 228.08, 1.0, 2.48, 8.0, 70.8]</td>\n",
       "      <td>[0.1419627711662631, 0.7965469045293562, 1.997...</td>\n",
       "    </tr>\n",
       "    <tr>\n",
       "      <th>4</th>\n",
       "      <td>20</td>\n",
       "      <td>408.50</td>\n",
       "      <td>0</td>\n",
       "      <td>3.57</td>\n",
       "      <td>8</td>\n",
       "      <td>Iraq</td>\n",
       "      <td>71.28</td>\n",
       "      <td>[20.0, 408.5, 0.0, 3.57, 8.0, 71.28]</td>\n",
       "      <td>[1.419627711662631, 1.4266459597520256, 0.0, 1...</td>\n",
       "    </tr>\n",
       "  </tbody>\n",
       "</table>\n",
       "</div>"
      ],
      "text/plain": [
       "   Session_Connection_Time  Bytes Transferred  Kali_Trace_Used  \\\n",
       "0                        8             391.09                1   \n",
       "1                       20             720.99                0   \n",
       "2                       31             356.32                1   \n",
       "3                        2             228.08                1   \n",
       "4                       20             408.50                0   \n",
       "\n",
       "   Servers_Corrupted  Pages_Corrupted                Location  \\\n",
       "0               2.96                7                Slovenia   \n",
       "1               3.04                9  British Virgin Islands   \n",
       "2               3.71                8                 Tokelau   \n",
       "3               2.48                8                 Bolivia   \n",
       "4               3.57                8                    Iraq   \n",
       "\n",
       "   WPM_Typing_Speed                               features  \\\n",
       "0             72.37   [8.0, 391.09, 1.0, 2.96, 7.0, 72.37]   \n",
       "1             69.08  [20.0, 720.99, 0.0, 3.04, 9.0, 69.08]   \n",
       "2             70.58  [31.0, 356.32, 1.0, 3.71, 8.0, 70.58]   \n",
       "3             70.80    [2.0, 228.08, 1.0, 2.48, 8.0, 70.8]   \n",
       "4             71.28   [20.0, 408.5, 0.0, 3.57, 8.0, 71.28]   \n",
       "\n",
       "                                     scaled_features  \n",
       "0  [0.5678510846650524, 1.3658432518957642, 1.997...  \n",
       "1  [1.419627711662631, 2.517986463945197, 0.0, 1....  \n",
       "2  [2.2004229530770782, 1.2444124562517545, 1.997...  \n",
       "3  [0.1419627711662631, 0.7965469045293562, 1.997...  \n",
       "4  [1.419627711662631, 1.4266459597520256, 0.0, 1...  "
      ]
     },
     "execution_count": 34,
     "metadata": {},
     "output_type": "execute_result"
    }
   ],
   "source": [
    "from pyspark.ml.feature import StandardScaler, VectorAssembler\n",
    "from pyspark.ml import Pipeline\n",
    "\n",
    "features=[\"Session_Connection_Time\",\"Bytes Transferred\",\"Kali_Trace_Used\",\"Servers_Corrupted\",\"Pages_Corrupted\",\"WPM_Typing_Speed\"]\n",
    "\n",
    "\n",
    "assembler=VectorAssembler(inputCols=features, outputCol=\"features\")\n",
    "\n",
    "scaler= StandardScaler(inputCol=\"features\", outputCol=\"scaled_features\")\n",
    "\n",
    "pipeline= Pipeline(stages=[assembler, scaler])\n",
    "\n",
    "pipeline_model=pipeline.fit(hack_df)\n",
    "processed_data=pipeline_model.transform(hack_df)\n",
    "processed_data.toPandas().head()"
   ]
  },
  {
   "cell_type": "markdown",
   "id": "90e79f1f",
   "metadata": {},
   "source": [
    "# Kmeans modeling"
   ]
  },
  {
   "cell_type": "code",
   "execution_count": 36,
   "id": "51286839",
   "metadata": {},
   "outputs": [
    {
     "name": "stderr",
     "output_type": "stream",
     "text": [
      "24/11/26 23:32:41 WARN InstanceBuilder: Failed to load implementation from:dev.ludovic.netlib.blas.JNIBLAS\n"
     ]
    }
   ],
   "source": [
    "from pyspark.ml.clustering import KMeans\n",
    "\n",
    "kmeans = KMeans(featuresCol='scaled_features', k=3)\n",
    "model = kmeans.fit(processed_data)"
   ]
  },
  {
   "cell_type": "code",
   "execution_count": 38,
   "id": "2e6f7fc1",
   "metadata": {},
   "outputs": [
    {
     "name": "stdout",
     "output_type": "stream",
     "text": [
      "distanceMeasure: the distance measure. Supported options: 'euclidean' and 'cosine'. (default: euclidean)\n",
      "featuresCol: features column name. (default: features, current: scaled_features)\n",
      "initMode: The initialization algorithm. This can be either \"random\" to choose random points as initial cluster centers, or \"k-means||\" to use a parallel variant of k-means++ (default: k-means||)\n",
      "initSteps: The number of steps for k-means|| initialization mode. Must be > 0. (default: 2)\n",
      "k: The number of clusters to create. Must be > 1. (default: 2, current: 3)\n",
      "maxBlockSizeInMB: maximum memory in MB for stacking input data into blocks. Data is stacked within partitions. If more than remaining data size in a partition then it is adjusted to the data size. Default 0.0 represents choosing optimal value, depends on specific algorithm. Must be >= 0. (default: 0.0)\n",
      "maxIter: max number of iterations (>= 0). (default: 20)\n",
      "predictionCol: prediction column name. (default: prediction)\n",
      "seed: random seed. (default: -87122663555203691)\n",
      "solver: The solver algorithm for optimization. Supported options: auto, row, block. (default: auto)\n",
      "tol: the convergence tolerance for iterative algorithms (>= 0). (default: 0.0001)\n",
      "weightCol: weight column name. If this is not set or empty, we treat all instance weights as 1.0. (undefined)\n"
     ]
    }
   ],
   "source": [
    "print(kmeans.explainParams())"
   ]
  },
  {
   "cell_type": "markdown",
   "id": "ab71600b",
   "metadata": {},
   "source": [
    "Cluster centers"
   ]
  },
  {
   "cell_type": "code",
   "execution_count": 37,
   "id": "bc2690bf",
   "metadata": {},
   "outputs": [
    {
     "data": {
      "text/plain": [
       "[array([1.26023837, 1.31829808, 0.99280765, 1.36491885, 2.5625043 ,\n",
       "        5.26676612]),\n",
       " array([3.05623261, 2.95754486, 1.99757683, 3.2079628 , 4.49941976,\n",
       "        3.26738378]),\n",
       " array([2.93719177, 2.88492202, 0.        , 3.19938371, 4.52857793,\n",
       "        3.30407351])]"
      ]
     },
     "execution_count": 37,
     "metadata": {},
     "output_type": "execute_result"
    }
   ],
   "source": [
    "model.clusterCenters()"
   ]
  },
  {
   "cell_type": "markdown",
   "id": "41211684",
   "metadata": {},
   "source": [
    "# Clustering results"
   ]
  },
  {
   "cell_type": "code",
   "execution_count": 41,
   "id": "56775a93",
   "metadata": {},
   "outputs": [
    {
     "data": {
      "text/html": [
       "<div>\n",
       "<style scoped>\n",
       "    .dataframe tbody tr th:only-of-type {\n",
       "        vertical-align: middle;\n",
       "    }\n",
       "\n",
       "    .dataframe tbody tr th {\n",
       "        vertical-align: top;\n",
       "    }\n",
       "\n",
       "    .dataframe thead th {\n",
       "        text-align: right;\n",
       "    }\n",
       "</style>\n",
       "<table border=\"1\" class=\"dataframe\">\n",
       "  <thead>\n",
       "    <tr style=\"text-align: right;\">\n",
       "      <th></th>\n",
       "      <th>Session_Connection_Time</th>\n",
       "      <th>Bytes Transferred</th>\n",
       "      <th>Kali_Trace_Used</th>\n",
       "      <th>Servers_Corrupted</th>\n",
       "      <th>Pages_Corrupted</th>\n",
       "      <th>Location</th>\n",
       "      <th>WPM_Typing_Speed</th>\n",
       "      <th>features</th>\n",
       "      <th>scaled_features</th>\n",
       "      <th>prediction</th>\n",
       "    </tr>\n",
       "  </thead>\n",
       "  <tbody>\n",
       "    <tr>\n",
       "      <th>0</th>\n",
       "      <td>8</td>\n",
       "      <td>391.09</td>\n",
       "      <td>1</td>\n",
       "      <td>2.96</td>\n",
       "      <td>7</td>\n",
       "      <td>Slovenia</td>\n",
       "      <td>72.37</td>\n",
       "      <td>[8.0, 391.09, 1.0, 2.96, 7.0, 72.37]</td>\n",
       "      <td>[0.5678510846650524, 1.3658432518957642, 1.997...</td>\n",
       "      <td>0</td>\n",
       "    </tr>\n",
       "    <tr>\n",
       "      <th>1</th>\n",
       "      <td>20</td>\n",
       "      <td>720.99</td>\n",
       "      <td>0</td>\n",
       "      <td>3.04</td>\n",
       "      <td>9</td>\n",
       "      <td>British Virgin Islands</td>\n",
       "      <td>69.08</td>\n",
       "      <td>[20.0, 720.99, 0.0, 3.04, 9.0, 69.08]</td>\n",
       "      <td>[1.419627711662631, 2.517986463945197, 0.0, 1....</td>\n",
       "      <td>0</td>\n",
       "    </tr>\n",
       "    <tr>\n",
       "      <th>2</th>\n",
       "      <td>31</td>\n",
       "      <td>356.32</td>\n",
       "      <td>1</td>\n",
       "      <td>3.71</td>\n",
       "      <td>8</td>\n",
       "      <td>Tokelau</td>\n",
       "      <td>70.58</td>\n",
       "      <td>[31.0, 356.32, 1.0, 3.71, 8.0, 70.58]</td>\n",
       "      <td>[2.2004229530770782, 1.2444124562517545, 1.997...</td>\n",
       "      <td>0</td>\n",
       "    </tr>\n",
       "    <tr>\n",
       "      <th>3</th>\n",
       "      <td>2</td>\n",
       "      <td>228.08</td>\n",
       "      <td>1</td>\n",
       "      <td>2.48</td>\n",
       "      <td>8</td>\n",
       "      <td>Bolivia</td>\n",
       "      <td>70.80</td>\n",
       "      <td>[2.0, 228.08, 1.0, 2.48, 8.0, 70.8]</td>\n",
       "      <td>[0.1419627711662631, 0.7965469045293562, 1.997...</td>\n",
       "      <td>0</td>\n",
       "    </tr>\n",
       "    <tr>\n",
       "      <th>4</th>\n",
       "      <td>20</td>\n",
       "      <td>408.50</td>\n",
       "      <td>0</td>\n",
       "      <td>3.57</td>\n",
       "      <td>8</td>\n",
       "      <td>Iraq</td>\n",
       "      <td>71.28</td>\n",
       "      <td>[20.0, 408.5, 0.0, 3.57, 8.0, 71.28]</td>\n",
       "      <td>[1.419627711662631, 1.4266459597520256, 0.0, 1...</td>\n",
       "      <td>0</td>\n",
       "    </tr>\n",
       "  </tbody>\n",
       "</table>\n",
       "</div>"
      ],
      "text/plain": [
       "   Session_Connection_Time  Bytes Transferred  Kali_Trace_Used  \\\n",
       "0                        8             391.09                1   \n",
       "1                       20             720.99                0   \n",
       "2                       31             356.32                1   \n",
       "3                        2             228.08                1   \n",
       "4                       20             408.50                0   \n",
       "\n",
       "   Servers_Corrupted  Pages_Corrupted                Location  \\\n",
       "0               2.96                7                Slovenia   \n",
       "1               3.04                9  British Virgin Islands   \n",
       "2               3.71                8                 Tokelau   \n",
       "3               2.48                8                 Bolivia   \n",
       "4               3.57                8                    Iraq   \n",
       "\n",
       "   WPM_Typing_Speed                               features  \\\n",
       "0             72.37   [8.0, 391.09, 1.0, 2.96, 7.0, 72.37]   \n",
       "1             69.08  [20.0, 720.99, 0.0, 3.04, 9.0, 69.08]   \n",
       "2             70.58  [31.0, 356.32, 1.0, 3.71, 8.0, 70.58]   \n",
       "3             70.80    [2.0, 228.08, 1.0, 2.48, 8.0, 70.8]   \n",
       "4             71.28   [20.0, 408.5, 0.0, 3.57, 8.0, 71.28]   \n",
       "\n",
       "                                     scaled_features  prediction  \n",
       "0  [0.5678510846650524, 1.3658432518957642, 1.997...           0  \n",
       "1  [1.419627711662631, 2.517986463945197, 0.0, 1....           0  \n",
       "2  [2.2004229530770782, 1.2444124562517545, 1.997...           0  \n",
       "3  [0.1419627711662631, 0.7965469045293562, 1.997...           0  \n",
       "4  [1.419627711662631, 1.4266459597520256, 0.0, 1...           0  "
      ]
     },
     "execution_count": 41,
     "metadata": {},
     "output_type": "execute_result"
    }
   ],
   "source": [
    "clusters = model.transform(processed_data)\n",
    "clusters.toPandas().head()"
   ]
  },
  {
   "cell_type": "markdown",
   "id": "57925eec",
   "metadata": {},
   "source": [
    "# Interpret the clustering results"
   ]
  },
  {
   "cell_type": "code",
   "execution_count": 42,
   "id": "3c85b749",
   "metadata": {},
   "outputs": [
    {
     "name": "stdout",
     "output_type": "stream",
     "text": [
      "Silhouette = 0.30412315937808737\n"
     ]
    }
   ],
   "source": [
    "from pyspark.ml.evaluation import ClusteringEvaluator\n",
    "evaluator = ClusteringEvaluator(metricName='silhouette', distanceMeasure='squaredEuclidean')\n",
    "\n",
    "silhouette = evaluator.evaluate(clusters)\n",
    "print(\"Silhouette = \" + str(silhouette))"
   ]
  },
  {
   "cell_type": "code",
   "execution_count": 44,
   "id": "f8f6766c",
   "metadata": {},
   "outputs": [
    {
     "data": {
      "text/plain": [
       "[array([1.26023837, 1.31829808, 0.99280765, 1.36491885, 2.5625043 ,\n",
       "        5.26676612]),\n",
       " array([3.05623261, 2.95754486, 1.99757683, 3.2079628 , 4.49941976,\n",
       "        3.26738378]),\n",
       " array([2.93719177, 2.88492202, 0.        , 3.19938371, 4.52857793,\n",
       "        3.30407351])]"
      ]
     },
     "execution_count": 44,
     "metadata": {},
     "output_type": "execute_result"
    }
   ],
   "source": [
    "model.clusterCenters()"
   ]
  },
  {
   "cell_type": "code",
   "execution_count": 45,
   "id": "7304534f",
   "metadata": {},
   "outputs": [
    {
     "data": {
      "image/png": "[encoded data removed]",
      "text/plain": [
       "<Figure size 1000x700 with 1 Axes>"
      ]
     },
     "metadata": {},
     "output_type": "display_data"
    }
   ],
   "source": [
    "import matplotlib.pyplot as plt\n",
    "\n",
    "# Extract predictions and select two features for plotting\n",
    "clusters_pd = clusters.select(\"prediction\", \"scaled_features\").toPandas()\n",
    "\n",
    "# Convert the scaled_features vector into individual columns for plotting\n",
    "import numpy as np\n",
    "clusters_pd['scaled_features'] = clusters_pd['scaled_features'].apply(lambda x: np.array(x))\n",
    "features_array = np.vstack(clusters_pd['scaled_features'])\n",
    "clusters_pd = clusters_pd.drop(columns=['scaled_features'])\n",
    "\n",
    "# Add the scaled features as individual columns\n",
    "for i in range(features_array.shape[1]):\n",
    "    clusters_pd[f\"feature_{i}\"] = features_array[:, i]\n",
    "\n",
    "# Choose two features for plotting\n",
    "feature_x = \"feature_0\"  # Replace with actual feature index\n",
    "feature_y = \"feature_1\"  # Replace with actual feature index\n",
    "\n",
    "# Plot the clusters\n",
    "plt.figure(figsize=(10, 7))\n",
    "for cluster in np.unique(clusters_pd['prediction']):\n",
    "    cluster_data = clusters_pd[clusters_pd['prediction'] == cluster]\n",
    "    plt.scatter(cluster_data[feature_x], cluster_data[feature_y], label=f\"Cluster {cluster}\")\n",
    "\n",
    "# Annotate the silhouette score in the plot title\n",
    "plt.title(f\"KMeans Clustering (Silhouette Score: {silhouette:.2f})\")\n",
    "plt.xlabel(feature_x)\n",
    "plt.ylabel(feature_y)\n",
    "plt.legend()\n",
    "plt.show()\n"
   ]
  },
  {
   "cell_type": "markdown",
   "id": "94ac83d3",
   "metadata": {},
   "source": [
    "Very likely the hacking was performed by 2 hackers, since 2 clusters are very similar and the third suspected hacker is highly differentiated from these 2 confirmed hackers. "
   ]
  },
  {
   "cell_type": "code",
   "execution_count": null,
   "id": "6afb7c17",
   "metadata": {},
   "outputs": [],
   "source": []
  }
 ],
 "metadata": {
  "kernelspec": {
   "display_name": "Python 3 (ipykernel)",
   "language": "python",
   "name": "python3"
  },
  "language_info": {
   "codemirror_mode": {
    "name": "ipython",
    "version": 3
   },
   "file_extension": ".py",
   "mimetype": "text/x-python",
   "name": "python",
   "nbconvert_exporter": "python",
   "pygments_lexer": "ipython3",
   "version": "3.11.4"
  }
 },
 "nbformat": 4,
 "nbformat_minor": 5
}
